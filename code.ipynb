{
 "cells": [
  {
   "cell_type": "markdown",
   "metadata": {},
   "source": [
    "### Loading the Data"
   ]
  },
  {
   "cell_type": "code",
   "execution_count": 1,
   "metadata": {},
   "outputs": [],
   "source": [
    "import pandas as pd\n",
    "import numpy as np\n",
    "import matplotlib.pyplot as plt\n",
    "import seaborn as sns"
   ]
  },
  {
   "cell_type": "code",
   "execution_count": 2,
   "metadata": {},
   "outputs": [],
   "source": [
    "# Load in data\n",
    "train_features = pd.read_csv('data/training_set_features.csv')\n",
    "train_labels = pd.read_csv('data/training_set_labels.csv')\n",
    "\n",
    "train_df = pd.merge(train_labels, train_features, on='respondent_id')\n",
    "train_df.set_index('respondent_id', inplace=True)"
   ]
  },
  {
   "cell_type": "code",
   "execution_count": 3,
   "metadata": {},
   "outputs": [
    {
     "name": "stdout",
     "output_type": "stream",
     "text": [
      "train_df.shape: (26707, 37)\n"
     ]
    }
   ],
   "source": [
    "# Examine the dataset's shape\n",
    "print(f'train_df.shape: {train_df.shape}')"
   ]
  },
  {
   "cell_type": "code",
   "execution_count": 4,
   "metadata": {},
   "outputs": [
    {
     "data": {
      "text/plain": [
       "h1n1_vaccine                     int64\n",
       "seasonal_vaccine                 int64\n",
       "h1n1_concern                   float64\n",
       "h1n1_knowledge                 float64\n",
       "behavioral_antiviral_meds      float64\n",
       "behavioral_avoidance           float64\n",
       "behavioral_face_mask           float64\n",
       "behavioral_wash_hands          float64\n",
       "behavioral_large_gatherings    float64\n",
       "behavioral_outside_home        float64\n",
       "behavioral_touch_face          float64\n",
       "doctor_recc_h1n1               float64\n",
       "doctor_recc_seasonal           float64\n",
       "chronic_med_condition          float64\n",
       "child_under_6_months           float64\n",
       "health_worker                  float64\n",
       "health_insurance               float64\n",
       "opinion_h1n1_vacc_effective    float64\n",
       "opinion_h1n1_risk              float64\n",
       "opinion_h1n1_sick_from_vacc    float64\n",
       "opinion_seas_vacc_effective    float64\n",
       "opinion_seas_risk              float64\n",
       "opinion_seas_sick_from_vacc    float64\n",
       "age_group                       object\n",
       "education                       object\n",
       "race                            object\n",
       "sex                             object\n",
       "income_poverty                  object\n",
       "marital_status                  object\n",
       "rent_or_own                     object\n",
       "employment_status               object\n",
       "hhs_geo_region                  object\n",
       "census_msa                      object\n",
       "household_adults               float64\n",
       "household_children             float64\n",
       "employment_industry             object\n",
       "employment_occupation           object\n",
       "dtype: object"
      ]
     },
     "execution_count": 4,
     "metadata": {},
     "output_type": "execute_result"
    }
   ],
   "source": [
    "# Examine the dataset's datatypes\n",
    "train_df.dtypes"
   ]
  },
  {
   "cell_type": "markdown",
   "metadata": {},
   "source": [
    "### Choosing our target"
   ]
  },
  {
   "cell_type": "code",
   "execution_count": 5,
   "metadata": {},
   "outputs": [
    {
     "name": "stdout",
     "output_type": "stream",
     "text": [
      "0    14272\n",
      "1    12435\n",
      "Name: seasonal_vaccine, dtype: int64\n",
      "0    21033\n",
      "1     5674\n",
      "Name: h1n1_vaccine, dtype: int64\n"
     ]
    }
   ],
   "source": [
    "# Examine the vaccination value counts\n",
    "for vaccine in ['seasonal_vaccine', 'h1n1_vaccine']:\n",
    "    print(train_df[vaccine].value_counts())\n",
    "\n",
    "# Given that seasonal vaccine has a better class balance, we'll choose that as our target"
   ]
  },
  {
   "cell_type": "markdown",
   "metadata": {},
   "source": [
    "### Handling Nulls"
   ]
  },
  {
   "cell_type": "code",
   "execution_count": 6,
   "metadata": {},
   "outputs": [
    {
     "data": {
      "text/plain": [
       "h1n1_vaccine                       0\n",
       "seasonal_vaccine                   0\n",
       "h1n1_concern                      92\n",
       "h1n1_knowledge                   116\n",
       "behavioral_antiviral_meds         71\n",
       "behavioral_avoidance             208\n",
       "behavioral_face_mask              19\n",
       "behavioral_wash_hands             42\n",
       "behavioral_large_gatherings       87\n",
       "behavioral_outside_home           82\n",
       "behavioral_touch_face            128\n",
       "doctor_recc_h1n1                2160\n",
       "doctor_recc_seasonal            2160\n",
       "chronic_med_condition            971\n",
       "child_under_6_months             820\n",
       "health_worker                    804\n",
       "health_insurance               12274\n",
       "opinion_h1n1_vacc_effective      391\n",
       "opinion_h1n1_risk                388\n",
       "opinion_h1n1_sick_from_vacc      395\n",
       "opinion_seas_vacc_effective      462\n",
       "opinion_seas_risk                514\n",
       "opinion_seas_sick_from_vacc      537\n",
       "age_group                          0\n",
       "education                       1407\n",
       "race                               0\n",
       "sex                                0\n",
       "income_poverty                  4423\n",
       "marital_status                  1408\n",
       "rent_or_own                     2042\n",
       "employment_status               1463\n",
       "hhs_geo_region                     0\n",
       "census_msa                         0\n",
       "household_adults                 249\n",
       "household_children               249\n",
       "employment_industry            13330\n",
       "employment_occupation          13470\n",
       "dtype: int64"
      ]
     },
     "execution_count": 6,
     "metadata": {},
     "output_type": "execute_result"
    }
   ],
   "source": [
    "train_df.isnull().sum()"
   ]
  },
  {
   "cell_type": "code",
   "execution_count": 7,
   "metadata": {},
   "outputs": [
    {
     "data": {
      "text/plain": [
       "health_insurance         0.459580\n",
       "employment_industry      0.499120\n",
       "employment_occupation    0.504362\n",
       "dtype: float64"
      ]
     },
     "execution_count": 7,
     "metadata": {},
     "output_type": "execute_result"
    }
   ],
   "source": [
    "missing_data = train_df.isnull().sum()\n",
    "missing_data_pct = missing_data / len(train_df)\n",
    "missing_data_pct[missing_data_pct > .3]"
   ]
  },
  {
   "cell_type": "code",
   "execution_count": 8,
   "metadata": {},
   "outputs": [
    {
     "data": {
      "text/plain": [
       "(26707, 35)"
      ]
     },
     "execution_count": 8,
     "metadata": {},
     "output_type": "execute_result"
    }
   ],
   "source": [
    "train_df['health_insurance'].fillna(0, inplace=True)\n",
    "train_df.drop(columns=['employment_industry', 'employment_occupation'], inplace=True)\n",
    "train_df.shape"
   ]
  },
  {
   "cell_type": "markdown",
   "metadata": {},
   "source": [
    "### Reconciling Datatypes"
   ]
  },
  {
   "cell_type": "code",
   "execution_count": 9,
   "metadata": {},
   "outputs": [
    {
     "data": {
      "text/plain": [
       "['age_group',\n",
       " 'education',\n",
       " 'race',\n",
       " 'sex',\n",
       " 'income_poverty',\n",
       " 'marital_status',\n",
       " 'rent_or_own',\n",
       " 'employment_status',\n",
       " 'hhs_geo_region',\n",
       " 'census_msa']"
      ]
     },
     "execution_count": 9,
     "metadata": {},
     "output_type": "execute_result"
    }
   ],
   "source": [
    "string_representations = [feature for feature in train_df.columns if train_df[feature].dtype == 'object']\n",
    "string_representations"
   ]
  },
  {
   "cell_type": "code",
   "execution_count": 10,
   "metadata": {},
   "outputs": [
    {
     "data": {
      "text/plain": [
       "age_group_18 - 34 Years                     uint8\n",
       "age_group_35 - 44 Years                     uint8\n",
       "age_group_45 - 54 Years                     uint8\n",
       "age_group_55 - 64 Years                     uint8\n",
       "age_group_65+ Years                         uint8\n",
       "education_12 Years                          uint8\n",
       "education_< 12 Years                        uint8\n",
       "education_College Graduate                  uint8\n",
       "education_Some College                      uint8\n",
       "race_Black                                  uint8\n",
       "race_Hispanic                               uint8\n",
       "race_Other or Multiple                      uint8\n",
       "race_White                                  uint8\n",
       "sex_Female                                  uint8\n",
       "sex_Male                                    uint8\n",
       "income_poverty_<= $75,000, Above Poverty    uint8\n",
       "income_poverty_> $75,000                    uint8\n",
       "income_poverty_Below Poverty                uint8\n",
       "marital_status_Married                      uint8\n",
       "marital_status_Not Married                  uint8\n",
       "rent_or_own_Own                             uint8\n",
       "rent_or_own_Rent                            uint8\n",
       "employment_status_Employed                  uint8\n",
       "employment_status_Not in Labor Force        uint8\n",
       "employment_status_Unemployed                uint8\n",
       "hhs_geo_region_atmpeygn                     uint8\n",
       "hhs_geo_region_bhuqouqj                     uint8\n",
       "hhs_geo_region_dqpwygqj                     uint8\n",
       "hhs_geo_region_fpwskwrf                     uint8\n",
       "hhs_geo_region_kbazzjca                     uint8\n",
       "hhs_geo_region_lrircsnp                     uint8\n",
       "hhs_geo_region_lzgpxyit                     uint8\n",
       "hhs_geo_region_mlyzmhmf                     uint8\n",
       "hhs_geo_region_oxchjgsf                     uint8\n",
       "hhs_geo_region_qufhixun                     uint8\n",
       "census_msa_MSA, Not Principle  City         uint8\n",
       "census_msa_MSA, Principle City              uint8\n",
       "census_msa_Non-MSA                          uint8\n",
       "dtype: object"
      ]
     },
     "execution_count": 10,
     "metadata": {},
     "output_type": "execute_result"
    }
   ],
   "source": [
    "train_df_encoded = pd.get_dummies(train_df, columns=string_representations)\n",
    "encoded_columns = [col for col in train_df_encoded.columns if any(col.startswith(str_col) for str_col in string_representations)]\n",
    "train_df_encoded[encoded_columns].dtypes"
   ]
  },
  {
   "cell_type": "code",
   "execution_count": 11,
   "metadata": {},
   "outputs": [
    {
     "data": {
      "text/plain": [
       "(26707, 63)"
      ]
     },
     "execution_count": 11,
     "metadata": {},
     "output_type": "execute_result"
    }
   ],
   "source": [
    "train_df_encoded.shape"
   ]
  },
  {
   "cell_type": "markdown",
   "metadata": {},
   "source": [
    "### Examining Feature Correlations"
   ]
  },
  {
   "cell_type": "code",
   "execution_count": 12,
   "metadata": {},
   "outputs": [
    {
     "name": "stdout",
     "output_type": "stream",
     "text": [
      "doctor_recc_seasonal         doctor_recc_h1n1                        0.591868\n",
      "behavioral_large_gatherings  behavioral_outside_home                 0.584085\n",
      "opinion_h1n1_risk            opinion_seas_risk                       0.564208\n",
      "age_group_65+ Years          employment_status_Not in Labor Force    0.498880\n",
      "opinion_seas_sick_from_vacc  opinion_h1n1_sick_from_vacc             0.491546\n",
      "dtype: float64\n"
     ]
    }
   ],
   "source": [
    "corr_mat = train_df_encoded.corr()\n",
    "corr_mat[corr_mat == 1] = np.nan\n",
    "five_most_correlated = corr_mat.unstack().sort_values(\n",
    "    ascending=False\n",
    ").drop_duplicates()[:5]\n",
    "\n",
    "print(five_most_correlated)"
   ]
  },
  {
   "cell_type": "code",
   "execution_count": 13,
   "metadata": {},
   "outputs": [
    {
     "data": {
      "image/png": "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",
      "text/plain": [
       "<Figure size 432x288 with 2 Axes>"
      ]
     },
     "metadata": {
      "needs_background": "light"
     },
     "output_type": "display_data"
    }
   ],
   "source": [
    "\n",
    "sns.heatmap(train_df_encoded.corr(), cmap='magma')\n",
    "plt.title('Correlation Heatmap of Features')\n",
    "plt.xticks([])\n",
    "plt.yticks([]);"
   ]
  },
  {
   "cell_type": "markdown",
   "metadata": {},
   "source": [
    "## Preparing for Model Building"
   ]
  },
  {
   "cell_type": "code",
   "execution_count": 14,
   "metadata": {},
   "outputs": [
    {
     "data": {
      "text/plain": [
       "((21365, 9), (5342, 9), (21365,), (5342,))"
      ]
     },
     "execution_count": 14,
     "metadata": {},
     "output_type": "execute_result"
    }
   ],
   "source": [
    "from sklearn.model_selection import train_test_split\n",
    "\n",
    "target = 'seasonal_vaccine' # We want to predict seasonal vaccine\n",
    "\n",
    "# We choose behavioral features + doctor recommendations for the vaccines as our features.\n",
    "chosen_features = [column for column in train_df if \"behavioral\" in column] + \\\n",
    "                  ['doctor_recc_h1n1' ,'doctor_recc_seasonal']\n",
    "\n",
    "X = train_df_encoded[chosen_features]\n",
    "y = train_df_encoded[target]\n",
    "\n",
    "seed = 42 # For reproducability\n",
    "test_size = .2 # 20% of our data will be in the testing set\n",
    "\n",
    "X_train, X_test, y_train, y_test = train_test_split(X, y, random_state=seed, test_size=test_size)\n",
    "\n",
    "X_train.shape, X_test.shape, y_train.shape, y_test.shape"
   ]
  },
  {
   "cell_type": "code",
   "execution_count": 15,
   "metadata": {},
   "outputs": [],
   "source": [
    "from sklearn.impute import SimpleImputer\n",
    "\n",
    "def simple_impute(*Xs):\n",
    "    results = []\n",
    "    imputer = SimpleImputer(strategy='most_frequent')\n",
    "    for X in Xs:\n",
    "        X_imputed = imputer.fit_transform(X)\n",
    "        X_imputed = pd.DataFrame(X_imputed, columns=X.columns)\n",
    "        results.append(X_imputed)\n",
    "    return tuple(results)"
   ]
  },
  {
   "cell_type": "code",
   "execution_count": 16,
   "metadata": {},
   "outputs": [
    {
     "name": "stdout",
     "output_type": "stream",
     "text": [
      "Null values in X_train: 0\n",
      "Null values in X_test: 0\n"
     ]
    }
   ],
   "source": [
    "X_train, X_test = simple_impute(X_train, X_test)\n",
    "\n",
    "print(f'Null values in X_train: {X_train.isnull().sum().sum()}')\n",
    "print(f'Null values in X_test: {X_test.isnull().sum().sum()}')"
   ]
  },
  {
   "cell_type": "code",
   "execution_count": 17,
   "metadata": {},
   "outputs": [
    {
     "name": "stdout",
     "output_type": "stream",
     "text": [
      "Null values in y_train: 0\n",
      "Null values in y_test: 0\n"
     ]
    }
   ],
   "source": [
    "print(f'Null values in y_train: {y_train.isnull().sum().sum()}')\n",
    "print(f'Null values in y_test: {y_test.isnull().sum().sum()}')"
   ]
  },
  {
   "cell_type": "markdown",
   "metadata": {},
   "source": [
    "## Building Models"
   ]
  },
  {
   "cell_type": "code",
   "execution_count": 18,
   "metadata": {},
   "outputs": [],
   "source": [
    "from sklearn.pipeline import make_pipeline\n",
    "from sklearn.linear_model import LogisticRegression\n",
    "from sklearn.preprocessing import StandardScaler\n",
    "from model_iteration import ModelIteration\n",
    "\n",
    "iterations = ModelIteration()"
   ]
  },
  {
   "cell_type": "markdown",
   "metadata": {},
   "source": [
    "### Model 1: Simple Model (Logistic Regression)"
   ]
  },
  {
   "cell_type": "code",
   "execution_count": 19,
   "metadata": {},
   "outputs": [
    {
     "data": {
      "text/html": [
       "<div>\n",
       "<style scoped>\n",
       "    .dataframe tbody tr th:only-of-type {\n",
       "        vertical-align: middle;\n",
       "    }\n",
       "\n",
       "    .dataframe tbody tr th {\n",
       "        vertical-align: top;\n",
       "    }\n",
       "\n",
       "    .dataframe thead th {\n",
       "        text-align: right;\n",
       "    }\n",
       "</style>\n",
       "<table border=\"1\" class=\"dataframe\">\n",
       "  <thead>\n",
       "    <tr style=\"text-align: right;\">\n",
       "      <th></th>\n",
       "      <th>Test Recall</th>\n",
       "      <th>Train Recall</th>\n",
       "      <th>Test F1</th>\n",
       "      <th>Train F1</th>\n",
       "      <th>Test Roc Auc</th>\n",
       "      <th>Train Roc Auc</th>\n",
       "    </tr>\n",
       "    <tr>\n",
       "      <th>Model</th>\n",
       "      <th></th>\n",
       "      <th></th>\n",
       "      <th></th>\n",
       "      <th></th>\n",
       "      <th></th>\n",
       "      <th></th>\n",
       "    </tr>\n",
       "  </thead>\n",
       "  <tbody>\n",
       "    <tr>\n",
       "      <th>Logistic Regression</th>\n",
       "      <td>0.482973</td>\n",
       "      <td>0.482973</td>\n",
       "      <td>0.584092</td>\n",
       "      <td>0.584128</td>\n",
       "      <td>0.700007</td>\n",
       "      <td>0.700489</td>\n",
       "    </tr>\n",
       "  </tbody>\n",
       "</table>\n",
       "</div>"
      ],
      "text/plain": [
       "                     Test Recall  Train Recall   Test F1  Train F1  \\\n",
       "Model                                                                \n",
       "Logistic Regression     0.482973      0.482973  0.584092  0.584128   \n",
       "\n",
       "                     Test Roc Auc  Train Roc Auc  \n",
       "Model                                             \n",
       "Logistic Regression      0.700007       0.700489  "
      ]
     },
     "metadata": {},
     "output_type": "display_data"
    },
    {
     "data": {
      "image/png": "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",
      "text/plain": [
       "<Figure size 432x288 with 2 Axes>"
      ]
     },
     "metadata": {
      "needs_background": "light"
     },
     "output_type": "display_data"
    }
   ],
   "source": [
    "model_1 = 'Logistic Regression'\n",
    "simple_model = make_pipeline(StandardScaler(), LogisticRegression(random_state=seed))\n",
    "iterations.run_cv(model_1, simple_model, X_train, y_train)\n",
    "\n",
    "iterations.get_stats()\n",
    "iterations.confusion(simple_model, model_1, X_train, y_train)"
   ]
  },
  {
   "cell_type": "markdown",
   "metadata": {},
   "source": [
    "### Model 2: Tuned Logistic Regression"
   ]
  },
  {
   "cell_type": "code",
   "execution_count": 20,
   "metadata": {},
   "outputs": [
    {
     "data": {
      "text/html": [
       "<div>\n",
       "<style scoped>\n",
       "    .dataframe tbody tr th:only-of-type {\n",
       "        vertical-align: middle;\n",
       "    }\n",
       "\n",
       "    .dataframe tbody tr th {\n",
       "        vertical-align: top;\n",
       "    }\n",
       "\n",
       "    .dataframe thead th {\n",
       "        text-align: right;\n",
       "    }\n",
       "</style>\n",
       "<table border=\"1\" class=\"dataframe\">\n",
       "  <thead>\n",
       "    <tr style=\"text-align: right;\">\n",
       "      <th></th>\n",
       "      <th>Test Recall</th>\n",
       "      <th>Train Recall</th>\n",
       "      <th>Test F1</th>\n",
       "      <th>Train F1</th>\n",
       "      <th>Test Roc Auc</th>\n",
       "      <th>Train Roc Auc</th>\n",
       "    </tr>\n",
       "    <tr>\n",
       "      <th>Model</th>\n",
       "      <th></th>\n",
       "      <th></th>\n",
       "      <th></th>\n",
       "      <th></th>\n",
       "      <th></th>\n",
       "      <th></th>\n",
       "    </tr>\n",
       "  </thead>\n",
       "  <tbody>\n",
       "    <tr>\n",
       "      <th>Logistic Regression</th>\n",
       "      <td>0.482973</td>\n",
       "      <td>0.482973</td>\n",
       "      <td>0.584092</td>\n",
       "      <td>0.584128</td>\n",
       "      <td>0.700007</td>\n",
       "      <td>0.700489</td>\n",
       "    </tr>\n",
       "    <tr>\n",
       "      <th>Tuned Logistic Regression</th>\n",
       "      <td>0.482973</td>\n",
       "      <td>0.482973</td>\n",
       "      <td>0.584092</td>\n",
       "      <td>0.584128</td>\n",
       "      <td>0.666625</td>\n",
       "      <td>0.666625</td>\n",
       "    </tr>\n",
       "  </tbody>\n",
       "</table>\n",
       "</div>"
      ],
      "text/plain": [
       "                           Test Recall  Train Recall   Test F1  Train F1  \\\n",
       "Model                                                                      \n",
       "Logistic Regression           0.482973      0.482973  0.584092  0.584128   \n",
       "Tuned Logistic Regression     0.482973      0.482973  0.584092  0.584128   \n",
       "\n",
       "                           Test Roc Auc  Train Roc Auc  \n",
       "Model                                                   \n",
       "Logistic Regression            0.700007       0.700489  \n",
       "Tuned Logistic Regression      0.666625       0.666625  "
      ]
     },
     "metadata": {},
     "output_type": "display_data"
    },
    {
     "data": {
      "image/png": "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",
      "text/plain": [
       "<Figure size 432x288 with 2 Axes>"
      ]
     },
     "metadata": {
      "needs_background": "light"
     },
     "output_type": "display_data"
    }
   ],
   "source": [
    "param_grid_1 = {\n",
    "    'logisticregression__C': [0.001, 0.01, 0.1, 1, 10, 100],\n",
    "    'logisticregression__penalty': ['l1', 'l2'],\n",
    "    'logisticregression__solver': ['newton-cg', 'lbfgs', 'liblinear', 'sag', 'saga']\n",
    "}\n",
    "\n",
    "tuned_simple_model, tuned_simple_model_params = iterations.tune(\n",
    "    simple_model, param_grid_1, X_train, y_train\n",
    ")\n",
    "\n",
    "model_2 = 'Tuned Logistic Regression'\n",
    "iterations.run_cv(model_2, tuned_simple_model, X_train, y_train)\n",
    "\n",
    "iterations.get_stats()\n",
    "iterations.confusion(tuned_simple_model, model_2, X_train, y_train)"
   ]
  },
  {
   "cell_type": "code",
   "execution_count": 21,
   "metadata": {},
   "outputs": [
    {
     "name": "stdout",
     "output_type": "stream",
     "text": [
      "{'logisticregression__C': 0.001, 'logisticregression__penalty': 'l1', 'logisticregression__solver': 'liblinear'}\n"
     ]
    }
   ],
   "source": [
    "print(tuned_simple_model_params)"
   ]
  },
  {
   "cell_type": "markdown",
   "metadata": {},
   "source": [
    "### Model 3: Decision Tree"
   ]
  },
  {
   "cell_type": "code",
   "execution_count": 22,
   "metadata": {},
   "outputs": [
    {
     "data": {
      "text/html": [
       "<div>\n",
       "<style scoped>\n",
       "    .dataframe tbody tr th:only-of-type {\n",
       "        vertical-align: middle;\n",
       "    }\n",
       "\n",
       "    .dataframe tbody tr th {\n",
       "        vertical-align: top;\n",
       "    }\n",
       "\n",
       "    .dataframe thead th {\n",
       "        text-align: right;\n",
       "    }\n",
       "</style>\n",
       "<table border=\"1\" class=\"dataframe\">\n",
       "  <thead>\n",
       "    <tr style=\"text-align: right;\">\n",
       "      <th></th>\n",
       "      <th>Test Recall</th>\n",
       "      <th>Train Recall</th>\n",
       "      <th>Test F1</th>\n",
       "      <th>Train F1</th>\n",
       "      <th>Test Roc Auc</th>\n",
       "      <th>Train Roc Auc</th>\n",
       "    </tr>\n",
       "    <tr>\n",
       "      <th>Model</th>\n",
       "      <th></th>\n",
       "      <th></th>\n",
       "      <th></th>\n",
       "      <th></th>\n",
       "      <th></th>\n",
       "      <th></th>\n",
       "    </tr>\n",
       "  </thead>\n",
       "  <tbody>\n",
       "    <tr>\n",
       "      <th>Logistic Regression</th>\n",
       "      <td>0.482973</td>\n",
       "      <td>0.482973</td>\n",
       "      <td>0.584092</td>\n",
       "      <td>0.584128</td>\n",
       "      <td>0.700007</td>\n",
       "      <td>0.700489</td>\n",
       "    </tr>\n",
       "    <tr>\n",
       "      <th>Tuned Logistic Regression</th>\n",
       "      <td>0.482973</td>\n",
       "      <td>0.482973</td>\n",
       "      <td>0.584092</td>\n",
       "      <td>0.584128</td>\n",
       "      <td>0.666625</td>\n",
       "      <td>0.666625</td>\n",
       "    </tr>\n",
       "    <tr>\n",
       "      <th>Decision Tree</th>\n",
       "      <td>0.484776</td>\n",
       "      <td>0.494066</td>\n",
       "      <td>0.581709</td>\n",
       "      <td>0.592603</td>\n",
       "      <td>0.691312</td>\n",
       "      <td>0.714736</td>\n",
       "    </tr>\n",
       "  </tbody>\n",
       "</table>\n",
       "</div>"
      ],
      "text/plain": [
       "                           Test Recall  Train Recall   Test F1  Train F1  \\\n",
       "Model                                                                      \n",
       "Logistic Regression           0.482973      0.482973  0.584092  0.584128   \n",
       "Tuned Logistic Regression     0.482973      0.482973  0.584092  0.584128   \n",
       "Decision Tree                 0.484776      0.494066  0.581709  0.592603   \n",
       "\n",
       "                           Test Roc Auc  Train Roc Auc  \n",
       "Model                                                   \n",
       "Logistic Regression            0.700007       0.700489  \n",
       "Tuned Logistic Regression      0.666625       0.666625  \n",
       "Decision Tree                  0.691312       0.714736  "
      ]
     },
     "metadata": {},
     "output_type": "display_data"
    },
    {
     "data": {
      "image/png": "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",
      "text/plain": [
       "<Figure size 432x288 with 2 Axes>"
      ]
     },
     "metadata": {
      "needs_background": "light"
     },
     "output_type": "display_data"
    }
   ],
   "source": [
    "from sklearn.tree import DecisionTreeClassifier\n",
    "\n",
    "model_3 = 'Decision Tree'\n",
    "tree_model = make_pipeline(StandardScaler(), DecisionTreeClassifier(random_state=seed))\n",
    "iterations.run_cv(model_3, tree_model, X_train, y_train)\n",
    "iterations.get_stats()\n",
    "iterations.confusion(simple_model, model_3, X_train, y_train)"
   ]
  },
  {
   "cell_type": "markdown",
   "metadata": {},
   "source": [
    "### Model 4: Tuned Decision Tree"
   ]
  },
  {
   "cell_type": "code",
   "execution_count": 23,
   "metadata": {},
   "outputs": [
    {
     "data": {
      "text/html": [
       "<div>\n",
       "<style scoped>\n",
       "    .dataframe tbody tr th:only-of-type {\n",
       "        vertical-align: middle;\n",
       "    }\n",
       "\n",
       "    .dataframe tbody tr th {\n",
       "        vertical-align: top;\n",
       "    }\n",
       "\n",
       "    .dataframe thead th {\n",
       "        text-align: right;\n",
       "    }\n",
       "</style>\n",
       "<table border=\"1\" class=\"dataframe\">\n",
       "  <thead>\n",
       "    <tr style=\"text-align: right;\">\n",
       "      <th></th>\n",
       "      <th>Test Recall</th>\n",
       "      <th>Train Recall</th>\n",
       "      <th>Test F1</th>\n",
       "      <th>Train F1</th>\n",
       "      <th>Test Roc Auc</th>\n",
       "      <th>Train Roc Auc</th>\n",
       "    </tr>\n",
       "    <tr>\n",
       "      <th>Model</th>\n",
       "      <th></th>\n",
       "      <th></th>\n",
       "      <th></th>\n",
       "      <th></th>\n",
       "      <th></th>\n",
       "      <th></th>\n",
       "    </tr>\n",
       "  </thead>\n",
       "  <tbody>\n",
       "    <tr>\n",
       "      <th>Logistic Regression</th>\n",
       "      <td>0.482973</td>\n",
       "      <td>0.482973</td>\n",
       "      <td>0.584092</td>\n",
       "      <td>0.584128</td>\n",
       "      <td>0.700007</td>\n",
       "      <td>0.700489</td>\n",
       "    </tr>\n",
       "    <tr>\n",
       "      <th>Tuned Logistic Regression</th>\n",
       "      <td>0.482973</td>\n",
       "      <td>0.482973</td>\n",
       "      <td>0.584092</td>\n",
       "      <td>0.584128</td>\n",
       "      <td>0.666625</td>\n",
       "      <td>0.666625</td>\n",
       "    </tr>\n",
       "    <tr>\n",
       "      <th>Decision Tree</th>\n",
       "      <td>0.484776</td>\n",
       "      <td>0.494066</td>\n",
       "      <td>0.581709</td>\n",
       "      <td>0.592603</td>\n",
       "      <td>0.691312</td>\n",
       "      <td>0.714736</td>\n",
       "    </tr>\n",
       "    <tr>\n",
       "      <th>Tuned Decision Tree</th>\n",
       "      <td>0.491987</td>\n",
       "      <td>0.492839</td>\n",
       "      <td>0.588266</td>\n",
       "      <td>0.589484</td>\n",
       "      <td>0.696017</td>\n",
       "      <td>0.707725</td>\n",
       "    </tr>\n",
       "  </tbody>\n",
       "</table>\n",
       "</div>"
      ],
      "text/plain": [
       "                           Test Recall  Train Recall   Test F1  Train F1  \\\n",
       "Model                                                                      \n",
       "Logistic Regression           0.482973      0.482973  0.584092  0.584128   \n",
       "Tuned Logistic Regression     0.482973      0.482973  0.584092  0.584128   \n",
       "Decision Tree                 0.484776      0.494066  0.581709  0.592603   \n",
       "Tuned Decision Tree           0.491987      0.492839  0.588266  0.589484   \n",
       "\n",
       "                           Test Roc Auc  Train Roc Auc  \n",
       "Model                                                   \n",
       "Logistic Regression            0.700007       0.700489  \n",
       "Tuned Logistic Regression      0.666625       0.666625  \n",
       "Decision Tree                  0.691312       0.714736  \n",
       "Tuned Decision Tree            0.696017       0.707725  "
      ]
     },
     "metadata": {},
     "output_type": "display_data"
    },
    {
     "data": {
      "image/png": "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",
      "text/plain": [
       "<Figure size 432x288 with 2 Axes>"
      ]
     },
     "metadata": {
      "needs_background": "light"
     },
     "output_type": "display_data"
    }
   ],
   "source": [
    "param_grid_2 = {\n",
    "    'decisiontreeclassifier__max_depth': [None] + list(range(1, 101)),\n",
    "    'decisiontreeclassifier__min_samples_split': range(2, 101),\n",
    "    'decisiontreeclassifier__min_samples_leaf': range(1, 101),\n",
    "    'decisiontreeclassifier__criterion': ['gini', 'entropy']\n",
    "}\n",
    "\n",
    "tuned_tree_model, tuned_tree_model_params = iterations.tune(\n",
    "    tree_model, param_grid_2, X_train, y_train, method='random'\n",
    ")\n",
    "\n",
    "model_4 = 'Tuned Decision Tree'\n",
    "iterations.run_cv(model_4, tuned_tree_model, X_train, y_train)\n",
    "\n",
    "iterations.get_stats()\n",
    "iterations.confusion(tuned_tree_model, model_4, X_train, y_train)"
   ]
  },
  {
   "cell_type": "code",
   "execution_count": 24,
   "metadata": {},
   "outputs": [
    {
     "name": "stdout",
     "output_type": "stream",
     "text": [
      "{'decisiontreeclassifier__min_samples_split': 98, 'decisiontreeclassifier__min_samples_leaf': 24, 'decisiontreeclassifier__max_depth': 98, 'decisiontreeclassifier__criterion': 'entropy'}\n"
     ]
    }
   ],
   "source": [
    "print(tuned_tree_model_params)"
   ]
  },
  {
   "cell_type": "markdown",
   "metadata": {},
   "source": [
    "### Model 5: Random Forest"
   ]
  },
  {
   "cell_type": "code",
   "execution_count": 25,
   "metadata": {},
   "outputs": [
    {
     "data": {
      "text/html": [
       "<div>\n",
       "<style scoped>\n",
       "    .dataframe tbody tr th:only-of-type {\n",
       "        vertical-align: middle;\n",
       "    }\n",
       "\n",
       "    .dataframe tbody tr th {\n",
       "        vertical-align: top;\n",
       "    }\n",
       "\n",
       "    .dataframe thead th {\n",
       "        text-align: right;\n",
       "    }\n",
       "</style>\n",
       "<table border=\"1\" class=\"dataframe\">\n",
       "  <thead>\n",
       "    <tr style=\"text-align: right;\">\n",
       "      <th></th>\n",
       "      <th>Test Recall</th>\n",
       "      <th>Train Recall</th>\n",
       "      <th>Test F1</th>\n",
       "      <th>Train F1</th>\n",
       "      <th>Test Roc Auc</th>\n",
       "      <th>Train Roc Auc</th>\n",
       "    </tr>\n",
       "    <tr>\n",
       "      <th>Model</th>\n",
       "      <th></th>\n",
       "      <th></th>\n",
       "      <th></th>\n",
       "      <th></th>\n",
       "      <th></th>\n",
       "      <th></th>\n",
       "    </tr>\n",
       "  </thead>\n",
       "  <tbody>\n",
       "    <tr>\n",
       "      <th>Logistic Regression</th>\n",
       "      <td>0.482973</td>\n",
       "      <td>0.482973</td>\n",
       "      <td>0.584092</td>\n",
       "      <td>0.584128</td>\n",
       "      <td>0.700007</td>\n",
       "      <td>0.700489</td>\n",
       "    </tr>\n",
       "    <tr>\n",
       "      <th>Tuned Logistic Regression</th>\n",
       "      <td>0.482973</td>\n",
       "      <td>0.482973</td>\n",
       "      <td>0.584092</td>\n",
       "      <td>0.584128</td>\n",
       "      <td>0.666625</td>\n",
       "      <td>0.666625</td>\n",
       "    </tr>\n",
       "    <tr>\n",
       "      <th>Decision Tree</th>\n",
       "      <td>0.484776</td>\n",
       "      <td>0.494066</td>\n",
       "      <td>0.581709</td>\n",
       "      <td>0.592603</td>\n",
       "      <td>0.691312</td>\n",
       "      <td>0.714736</td>\n",
       "    </tr>\n",
       "    <tr>\n",
       "      <th>Tuned Decision Tree</th>\n",
       "      <td>0.491987</td>\n",
       "      <td>0.492839</td>\n",
       "      <td>0.588266</td>\n",
       "      <td>0.589484</td>\n",
       "      <td>0.696017</td>\n",
       "      <td>0.707725</td>\n",
       "    </tr>\n",
       "    <tr>\n",
       "      <th>Random Forest</th>\n",
       "      <td>0.488382</td>\n",
       "      <td>0.496795</td>\n",
       "      <td>0.583760</td>\n",
       "      <td>0.593933</td>\n",
       "      <td>0.691192</td>\n",
       "      <td>0.714471</td>\n",
       "    </tr>\n",
       "  </tbody>\n",
       "</table>\n",
       "</div>"
      ],
      "text/plain": [
       "                           Test Recall  Train Recall   Test F1  Train F1  \\\n",
       "Model                                                                      \n",
       "Logistic Regression           0.482973      0.482973  0.584092  0.584128   \n",
       "Tuned Logistic Regression     0.482973      0.482973  0.584092  0.584128   \n",
       "Decision Tree                 0.484776      0.494066  0.581709  0.592603   \n",
       "Tuned Decision Tree           0.491987      0.492839  0.588266  0.589484   \n",
       "Random Forest                 0.488382      0.496795  0.583760  0.593933   \n",
       "\n",
       "                           Test Roc Auc  Train Roc Auc  \n",
       "Model                                                   \n",
       "Logistic Regression            0.700007       0.700489  \n",
       "Tuned Logistic Regression      0.666625       0.666625  \n",
       "Decision Tree                  0.691312       0.714736  \n",
       "Tuned Decision Tree            0.696017       0.707725  \n",
       "Random Forest                  0.691192       0.714471  "
      ]
     },
     "metadata": {},
     "output_type": "display_data"
    },
    {
     "data": {
      "image/png": "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",
      "text/plain": [
       "<Figure size 432x288 with 2 Axes>"
      ]
     },
     "metadata": {
      "needs_background": "light"
     },
     "output_type": "display_data"
    }
   ],
   "source": [
    "from sklearn.ensemble import RandomForestClassifier\n",
    "\n",
    "model_5 = 'Random Forest'\n",
    "forest_model = make_pipeline(StandardScaler(), RandomForestClassifier(random_state=seed))\n",
    "iterations.run_cv(model_5, forest_model, X_train, y_train)\n",
    "iterations.get_stats()\n",
    "iterations.confusion(forest_model, model_5, X_train, y_train)"
   ]
  },
  {
   "cell_type": "markdown",
   "metadata": {},
   "source": [
    "### Model 6: Tuned Random Forest"
   ]
  },
  {
   "cell_type": "code",
   "execution_count": 26,
   "metadata": {},
   "outputs": [
    {
     "data": {
      "text/html": [
       "<div>\n",
       "<style scoped>\n",
       "    .dataframe tbody tr th:only-of-type {\n",
       "        vertical-align: middle;\n",
       "    }\n",
       "\n",
       "    .dataframe tbody tr th {\n",
       "        vertical-align: top;\n",
       "    }\n",
       "\n",
       "    .dataframe thead th {\n",
       "        text-align: right;\n",
       "    }\n",
       "</style>\n",
       "<table border=\"1\" class=\"dataframe\">\n",
       "  <thead>\n",
       "    <tr style=\"text-align: right;\">\n",
       "      <th></th>\n",
       "      <th>Test Recall</th>\n",
       "      <th>Train Recall</th>\n",
       "      <th>Test F1</th>\n",
       "      <th>Train F1</th>\n",
       "      <th>Test Roc Auc</th>\n",
       "      <th>Train Roc Auc</th>\n",
       "    </tr>\n",
       "    <tr>\n",
       "      <th>Model</th>\n",
       "      <th></th>\n",
       "      <th></th>\n",
       "      <th></th>\n",
       "      <th></th>\n",
       "      <th></th>\n",
       "      <th></th>\n",
       "    </tr>\n",
       "  </thead>\n",
       "  <tbody>\n",
       "    <tr>\n",
       "      <th>Logistic Regression</th>\n",
       "      <td>0.482973</td>\n",
       "      <td>0.482973</td>\n",
       "      <td>0.584092</td>\n",
       "      <td>0.584128</td>\n",
       "      <td>0.700007</td>\n",
       "      <td>0.700489</td>\n",
       "    </tr>\n",
       "    <tr>\n",
       "      <th>Tuned Logistic Regression</th>\n",
       "      <td>0.482973</td>\n",
       "      <td>0.482973</td>\n",
       "      <td>0.584092</td>\n",
       "      <td>0.584128</td>\n",
       "      <td>0.666625</td>\n",
       "      <td>0.666625</td>\n",
       "    </tr>\n",
       "    <tr>\n",
       "      <th>Decision Tree</th>\n",
       "      <td>0.484776</td>\n",
       "      <td>0.494066</td>\n",
       "      <td>0.581709</td>\n",
       "      <td>0.592603</td>\n",
       "      <td>0.691312</td>\n",
       "      <td>0.714736</td>\n",
       "    </tr>\n",
       "    <tr>\n",
       "      <th>Tuned Decision Tree</th>\n",
       "      <td>0.491987</td>\n",
       "      <td>0.492839</td>\n",
       "      <td>0.588266</td>\n",
       "      <td>0.589484</td>\n",
       "      <td>0.696017</td>\n",
       "      <td>0.707725</td>\n",
       "    </tr>\n",
       "    <tr>\n",
       "      <th>Random Forest</th>\n",
       "      <td>0.488382</td>\n",
       "      <td>0.496795</td>\n",
       "      <td>0.583760</td>\n",
       "      <td>0.593933</td>\n",
       "      <td>0.691192</td>\n",
       "      <td>0.714471</td>\n",
       "    </tr>\n",
       "    <tr>\n",
       "      <th>Tuned Random Forest</th>\n",
       "      <td>0.493089</td>\n",
       "      <td>0.496269</td>\n",
       "      <td>0.588286</td>\n",
       "      <td>0.592049</td>\n",
       "      <td>0.694409</td>\n",
       "      <td>0.711207</td>\n",
       "    </tr>\n",
       "  </tbody>\n",
       "</table>\n",
       "</div>"
      ],
      "text/plain": [
       "                           Test Recall  Train Recall   Test F1  Train F1  \\\n",
       "Model                                                                      \n",
       "Logistic Regression           0.482973      0.482973  0.584092  0.584128   \n",
       "Tuned Logistic Regression     0.482973      0.482973  0.584092  0.584128   \n",
       "Decision Tree                 0.484776      0.494066  0.581709  0.592603   \n",
       "Tuned Decision Tree           0.491987      0.492839  0.588266  0.589484   \n",
       "Random Forest                 0.488382      0.496795  0.583760  0.593933   \n",
       "Tuned Random Forest           0.493089      0.496269  0.588286  0.592049   \n",
       "\n",
       "                           Test Roc Auc  Train Roc Auc  \n",
       "Model                                                   \n",
       "Logistic Regression            0.700007       0.700489  \n",
       "Tuned Logistic Regression      0.666625       0.666625  \n",
       "Decision Tree                  0.691312       0.714736  \n",
       "Tuned Decision Tree            0.696017       0.707725  \n",
       "Random Forest                  0.691192       0.714471  \n",
       "Tuned Random Forest            0.694409       0.711207  "
      ]
     },
     "metadata": {},
     "output_type": "display_data"
    },
    {
     "data": {
      "image/png": "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",
      "text/plain": [
       "<Figure size 432x288 with 2 Axes>"
      ]
     },
     "metadata": {
      "needs_background": "light"
     },
     "output_type": "display_data"
    }
   ],
   "source": [
    "param_grid_3 = {\n",
    "    'randomforestclassifier__n_estimators': range(50, 200),\n",
    "    'randomforestclassifier__max_features': ['auto', 'sqrt'],\n",
    "    'randomforestclassifier__max_depth': [None] + list(range(5, 50)),\n",
    "    'randomforestclassifier__min_samples_split': range(2, 20),\n",
    "    'randomforestclassifier__min_samples_leaf': range(1, 20),\n",
    "    'randomforestclassifier__bootstrap': [True, False]\n",
    "}\n",
    "\n",
    "\n",
    "tuned_forest_model, tuned_forest_model_params = iterations.tune(\n",
    "    forest_model, param_grid_3, X_train, y_train, method='random'\n",
    ")\n",
    "\n",
    "model_6 = 'Tuned Random Forest'\n",
    "iterations.run_cv(model_6, tuned_forest_model, X_train, y_train)\n",
    "\n",
    "iterations.get_stats()\n",
    "iterations.confusion(tuned_forest_model, model_6, X_train, y_train)"
   ]
  },
  {
   "cell_type": "code",
   "execution_count": 27,
   "metadata": {},
   "outputs": [
    {
     "name": "stdout",
     "output_type": "stream",
     "text": [
      "{'randomforestclassifier__n_estimators': 127, 'randomforestclassifier__min_samples_split': 2, 'randomforestclassifier__min_samples_leaf': 4, 'randomforestclassifier__max_features': 'auto', 'randomforestclassifier__max_depth': 45, 'randomforestclassifier__bootstrap': True}\n"
     ]
    }
   ],
   "source": [
    "print(tuned_forest_model_params)"
   ]
  },
  {
   "cell_type": "markdown",
   "metadata": {},
   "source": [
    "### Model 7: Tuned Random Forest (New Features)"
   ]
  },
  {
   "cell_type": "code",
   "execution_count": 28,
   "metadata": {},
   "outputs": [
    {
     "data": {
      "text/plain": [
       "26"
      ]
     },
     "execution_count": 28,
     "metadata": {},
     "output_type": "execute_result"
    }
   ],
   "source": [
    "new_features = chosen_features.copy()\n",
    "\n",
    "new_features += [\n",
    "    col for col in train_df_encoded.columns \\\n",
    "        if 'opinion' in col \\\n",
    "        or 'education' in col \\\n",
    "        or 'age' in col \\\n",
    "        or col == 'h1n1_vaccine' \\\n",
    "        or col == 'health_insurance'\n",
    "]\n",
    "\n",
    "len(new_features)"
   ]
  },
  {
   "cell_type": "code",
   "execution_count": 38,
   "metadata": {},
   "outputs": [
    {
     "data": {
      "text/html": [
       "<div>\n",
       "<style scoped>\n",
       "    .dataframe tbody tr th:only-of-type {\n",
       "        vertical-align: middle;\n",
       "    }\n",
       "\n",
       "    .dataframe tbody tr th {\n",
       "        vertical-align: top;\n",
       "    }\n",
       "\n",
       "    .dataframe thead th {\n",
       "        text-align: right;\n",
       "    }\n",
       "</style>\n",
       "<table border=\"1\" class=\"dataframe\">\n",
       "  <thead>\n",
       "    <tr style=\"text-align: right;\">\n",
       "      <th></th>\n",
       "      <th>Test Recall</th>\n",
       "      <th>Train Recall</th>\n",
       "      <th>Test F1</th>\n",
       "      <th>Train F1</th>\n",
       "      <th>Test Roc Auc</th>\n",
       "      <th>Train Roc Auc</th>\n",
       "    </tr>\n",
       "    <tr>\n",
       "      <th>Model</th>\n",
       "      <th></th>\n",
       "      <th></th>\n",
       "      <th></th>\n",
       "      <th></th>\n",
       "      <th></th>\n",
       "      <th></th>\n",
       "    </tr>\n",
       "  </thead>\n",
       "  <tbody>\n",
       "    <tr>\n",
       "      <th>Logistic Regression</th>\n",
       "      <td>0.482973</td>\n",
       "      <td>0.482973</td>\n",
       "      <td>0.584092</td>\n",
       "      <td>0.584128</td>\n",
       "      <td>0.700007</td>\n",
       "      <td>0.700489</td>\n",
       "    </tr>\n",
       "    <tr>\n",
       "      <th>Tuned Logistic Regression</th>\n",
       "      <td>0.482973</td>\n",
       "      <td>0.482973</td>\n",
       "      <td>0.584092</td>\n",
       "      <td>0.584128</td>\n",
       "      <td>0.666625</td>\n",
       "      <td>0.666625</td>\n",
       "    </tr>\n",
       "    <tr>\n",
       "      <th>Decision Tree</th>\n",
       "      <td>0.484776</td>\n",
       "      <td>0.494066</td>\n",
       "      <td>0.581709</td>\n",
       "      <td>0.592603</td>\n",
       "      <td>0.691312</td>\n",
       "      <td>0.714736</td>\n",
       "    </tr>\n",
       "    <tr>\n",
       "      <th>Tuned Decision Tree</th>\n",
       "      <td>0.491987</td>\n",
       "      <td>0.492839</td>\n",
       "      <td>0.588266</td>\n",
       "      <td>0.589484</td>\n",
       "      <td>0.696017</td>\n",
       "      <td>0.707725</td>\n",
       "    </tr>\n",
       "    <tr>\n",
       "      <th>Random Forest</th>\n",
       "      <td>0.488382</td>\n",
       "      <td>0.496795</td>\n",
       "      <td>0.583760</td>\n",
       "      <td>0.593933</td>\n",
       "      <td>0.691192</td>\n",
       "      <td>0.714471</td>\n",
       "    </tr>\n",
       "    <tr>\n",
       "      <th>Tuned Random Forest</th>\n",
       "      <td>0.493089</td>\n",
       "      <td>0.496269</td>\n",
       "      <td>0.588286</td>\n",
       "      <td>0.592049</td>\n",
       "      <td>0.694409</td>\n",
       "      <td>0.711207</td>\n",
       "    </tr>\n",
       "    <tr>\n",
       "      <th>Random Forest (New Features)</th>\n",
       "      <td>0.766226</td>\n",
       "      <td>0.829127</td>\n",
       "      <td>0.775826</td>\n",
       "      <td>0.841527</td>\n",
       "      <td>0.871162</td>\n",
       "      <td>0.937935</td>\n",
       "    </tr>\n",
       "  </tbody>\n",
       "</table>\n",
       "</div>"
      ],
      "text/plain": [
       "                              Test Recall  Train Recall   Test F1  Train F1  \\\n",
       "Model                                                                         \n",
       "Logistic Regression              0.482973      0.482973  0.584092  0.584128   \n",
       "Tuned Logistic Regression        0.482973      0.482973  0.584092  0.584128   \n",
       "Decision Tree                    0.484776      0.494066  0.581709  0.592603   \n",
       "Tuned Decision Tree              0.491987      0.492839  0.588266  0.589484   \n",
       "Random Forest                    0.488382      0.496795  0.583760  0.593933   \n",
       "Tuned Random Forest              0.493089      0.496269  0.588286  0.592049   \n",
       "Random Forest (New Features)     0.766226      0.829127  0.775826  0.841527   \n",
       "\n",
       "                              Test Roc Auc  Train Roc Auc  \n",
       "Model                                                      \n",
       "Logistic Regression               0.700007       0.700489  \n",
       "Tuned Logistic Regression         0.666625       0.666625  \n",
       "Decision Tree                     0.691312       0.714736  \n",
       "Tuned Decision Tree               0.696017       0.707725  \n",
       "Random Forest                     0.691192       0.714471  \n",
       "Tuned Random Forest               0.694409       0.711207  \n",
       "Random Forest (New Features)      0.871162       0.937935  "
      ]
     },
     "metadata": {},
     "output_type": "display_data"
    },
    {
     "data": {
      "image/png": "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",
      "text/plain": [
       "<Figure size 432x288 with 2 Axes>"
      ]
     },
     "metadata": {
      "needs_background": "light"
     },
     "output_type": "display_data"
    }
   ],
   "source": [
    "model_7 = 'Random Forest (New Features)'\n",
    "X_nf = train_df_encoded[new_features].copy()\n",
    "\n",
    "X_train_nf, X_test_nf, _, _ = train_test_split(X_nf, y, random_state=seed, test_size=test_size)\n",
    "X_train_nf, X_test_nf = simple_impute(X_train_nf, X_test_nf)\n",
    "\n",
    "iterations.run_cv(model_7, tuned_forest_model, X_train_nf, y_train)\n",
    "\n",
    "iterations.get_stats()\n",
    "iterations.confusion(tuned_forest_model, model_7, X_train_nf, y_train)"
   ]
  },
  {
   "cell_type": "code",
   "execution_count": 40,
   "metadata": {},
   "outputs": [
    {
     "data": {
      "text/html": [
       "<div>\n",
       "<style scoped>\n",
       "    .dataframe tbody tr th:only-of-type {\n",
       "        vertical-align: middle;\n",
       "    }\n",
       "\n",
       "    .dataframe tbody tr th {\n",
       "        vertical-align: top;\n",
       "    }\n",
       "\n",
       "    .dataframe thead th {\n",
       "        text-align: right;\n",
       "    }\n",
       "</style>\n",
       "<table border=\"1\" class=\"dataframe\">\n",
       "  <thead>\n",
       "    <tr style=\"text-align: right;\">\n",
       "      <th></th>\n",
       "      <th>Test Recall</th>\n",
       "      <th>Train Recall</th>\n",
       "      <th>Test F1</th>\n",
       "      <th>Train F1</th>\n",
       "      <th>Test Roc Auc</th>\n",
       "      <th>Train Roc Auc</th>\n",
       "    </tr>\n",
       "    <tr>\n",
       "      <th>Model</th>\n",
       "      <th></th>\n",
       "      <th></th>\n",
       "      <th></th>\n",
       "      <th></th>\n",
       "      <th></th>\n",
       "      <th></th>\n",
       "    </tr>\n",
       "  </thead>\n",
       "  <tbody>\n",
       "    <tr>\n",
       "      <th>Logistic Regression</th>\n",
       "      <td>0.482973</td>\n",
       "      <td>0.482973</td>\n",
       "      <td>0.584092</td>\n",
       "      <td>0.584128</td>\n",
       "      <td>0.700007</td>\n",
       "      <td>0.700489</td>\n",
       "    </tr>\n",
       "    <tr>\n",
       "      <th>Tuned Logistic Regression</th>\n",
       "      <td>0.482973</td>\n",
       "      <td>0.482973</td>\n",
       "      <td>0.584092</td>\n",
       "      <td>0.584128</td>\n",
       "      <td>0.666625</td>\n",
       "      <td>0.666625</td>\n",
       "    </tr>\n",
       "    <tr>\n",
       "      <th>Decision Tree</th>\n",
       "      <td>0.484776</td>\n",
       "      <td>0.494066</td>\n",
       "      <td>0.581709</td>\n",
       "      <td>0.592603</td>\n",
       "      <td>0.691312</td>\n",
       "      <td>0.714736</td>\n",
       "    </tr>\n",
       "    <tr>\n",
       "      <th>Tuned Decision Tree</th>\n",
       "      <td>0.491987</td>\n",
       "      <td>0.492839</td>\n",
       "      <td>0.588266</td>\n",
       "      <td>0.589484</td>\n",
       "      <td>0.696017</td>\n",
       "      <td>0.707725</td>\n",
       "    </tr>\n",
       "    <tr>\n",
       "      <th>Random Forest</th>\n",
       "      <td>0.488382</td>\n",
       "      <td>0.496795</td>\n",
       "      <td>0.583760</td>\n",
       "      <td>0.593933</td>\n",
       "      <td>0.691192</td>\n",
       "      <td>0.714471</td>\n",
       "    </tr>\n",
       "    <tr>\n",
       "      <th>Tuned Random Forest</th>\n",
       "      <td>0.493089</td>\n",
       "      <td>0.496269</td>\n",
       "      <td>0.588286</td>\n",
       "      <td>0.592049</td>\n",
       "      <td>0.694409</td>\n",
       "      <td>0.711207</td>\n",
       "    </tr>\n",
       "    <tr>\n",
       "      <th>Random Forest (New Features)</th>\n",
       "      <td>0.766226</td>\n",
       "      <td>0.829127</td>\n",
       "      <td>0.775826</td>\n",
       "      <td>0.841527</td>\n",
       "      <td>0.871162</td>\n",
       "      <td>0.937935</td>\n",
       "    </tr>\n",
       "    <tr>\n",
       "      <th>Tuned Random Forest (New Features)</th>\n",
       "      <td>0.766226</td>\n",
       "      <td>0.829327</td>\n",
       "      <td>0.775786</td>\n",
       "      <td>0.841548</td>\n",
       "      <td>0.871153</td>\n",
       "      <td>0.937946</td>\n",
       "    </tr>\n",
       "  </tbody>\n",
       "</table>\n",
       "</div>"
      ],
      "text/plain": [
       "                                    Test Recall  Train Recall   Test F1  \\\n",
       "Model                                                                     \n",
       "Logistic Regression                    0.482973      0.482973  0.584092   \n",
       "Tuned Logistic Regression              0.482973      0.482973  0.584092   \n",
       "Decision Tree                          0.484776      0.494066  0.581709   \n",
       "Tuned Decision Tree                    0.491987      0.492839  0.588266   \n",
       "Random Forest                          0.488382      0.496795  0.583760   \n",
       "Tuned Random Forest                    0.493089      0.496269  0.588286   \n",
       "Random Forest (New Features)           0.766226      0.829127  0.775826   \n",
       "Tuned Random Forest (New Features)     0.766226      0.829327  0.775786   \n",
       "\n",
       "                                    Train F1  Test Roc Auc  Train Roc Auc  \n",
       "Model                                                                      \n",
       "Logistic Regression                 0.584128      0.700007       0.700489  \n",
       "Tuned Logistic Regression           0.584128      0.666625       0.666625  \n",
       "Decision Tree                       0.592603      0.691312       0.714736  \n",
       "Tuned Decision Tree                 0.589484      0.696017       0.707725  \n",
       "Random Forest                       0.593933      0.691192       0.714471  \n",
       "Tuned Random Forest                 0.592049      0.694409       0.711207  \n",
       "Random Forest (New Features)        0.841527      0.871162       0.937935  \n",
       "Tuned Random Forest (New Features)  0.841548      0.871153       0.937946  "
      ]
     },
     "metadata": {},
     "output_type": "display_data"
    },
    {
     "data": {
      "image/png": "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",
      "text/plain": [
       "<Figure size 432x288 with 2 Axes>"
      ]
     },
     "metadata": {
      "needs_background": "light"
     },
     "output_type": "display_data"
    }
   ],
   "source": [
    "tuned_forest_model_nf, tuned_forest_model_nf_params = iterations.tune(\n",
    "    tuned_forest_model, param_grid_3, X_train_nf, y_train, method='random'\n",
    ")\n",
    "\n",
    "model_8 = 'Tuned Random Forest (New Features)'\n",
    "iterations.run_cv(model_8, tuned_forest_model_nf, X_train_nf, y_train)\n",
    "\n",
    "iterations.get_stats()\n",
    "iterations.confusion(tuned_forest_model_nf, model_8, X_train_nf, y_train)"
   ]
  },
  {
   "cell_type": "code",
<<<<<<< HEAD
   "execution_count": 54,
=======
   "execution_count": 35,
   "metadata": {},
   "outputs": [
    {
     "data": {
      "text/plain": [
       "Index(['Logistic Regression', 'Tuned Logistic Regression', 'Decision Tree',\n",
       "       'Tuned Decision Tree', 'Random Forest', 'Tuned Forest',\n",
       "       'Random Forest (New Features)', 'Tuned Random Forest (New Features)'],\n",
       "      dtype='object', name='Model')"
      ]
     },
     "execution_count": 35,
     "metadata": {},
     "output_type": "execute_result"
    }
   ],
   "source": [
    "stats_df.index"
   ]
  },
  {
   "cell_type": "code",
   "execution_count": 32,
>>>>>>> 9d1020e31b4185b32984937cafc6eb63b69d21bc
   "metadata": {},
   "outputs": [
    {
     "name": "stdout",
     "output_type": "stream",
     "text": [
      "Accuracy Score on Test Data: 0.7939\n",
      "Recall Score on Test Data: 0.7666\n"
     ]
    }
   ],
   "source": [
    "from sklearn.metrics import recall_score, accuracy_score\n",
    "\n",
    "tuned_forest_model.fit(X_train_nf, y_train)\n",
    "\n",
    "y_pred = tuned_forest_model.predict(X_test_nf)\n",
    "accuracy = accuracy_score(y_test, y_pred)\n",
    "recall = recall_score(y_test, y_pred)\n",
    "\n",
    "print(f'Accuracy Score on Test Data: {accuracy:,.4f}')\n",
    "print(f'Recall Score on Test Data: {recall:,.4f}')"
   ]
  },
  {
   "cell_type": "code",
<<<<<<< HEAD
   "execution_count": 58,
=======
   "execution_count": 33,
   "metadata": {},
   "outputs": [],
   "source": [
    "stats_df.to_csv('model_stats.csv')"
   ]
  },
  {
   "cell_type": "code",
   "execution_count": null,
>>>>>>> 9d1020e31b4185b32984937cafc6eb63b69d21bc
   "metadata": {},
   "outputs": [],
   "source": []
  }
 ],
 "metadata": {
  "kernelspec": {
   "display_name": "Python 3",
   "language": "python",
   "name": "python3"
  },
  "language_info": {
   "codemirror_mode": {
    "name": "ipython",
    "version": 3
   },
   "file_extension": ".py",
   "mimetype": "text/x-python",
   "name": "python",
   "nbconvert_exporter": "python",
   "pygments_lexer": "ipython3",
   "version": "3.8.5"
  }
 },
 "nbformat": 4,
 "nbformat_minor": 2
}
