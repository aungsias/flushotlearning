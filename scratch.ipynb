{
 "cells": [
  {
   "cell_type": "code",
   "execution_count": 88,
   "metadata": {},
   "outputs": [],
   "source": [
    "# Imports\n",
    "import pandas as pd\n",
    "import matplotlib.pyplot as plt\n",
    "\n",
    "plt.rcParams['figure.figsize'] = (20, 10)"
   ]
  },
  {
   "cell_type": "code",
   "execution_count": 138,
   "metadata": {},
   "outputs": [],
   "source": [
    "def get_coefficients(X_encoded, model):\n",
    "    # Get the feature names after one-hot encoding\n",
    "    feature_names = X_encoded.columns\n",
    "    # Get the coefficients from the model\n",
    "    coefficients = model.coef_[0]\n",
    "    # Create a DataFrame to hold the coefficients and feature names\n",
    "    coef_df = pd.DataFrame({'Feature': feature_names, 'Coefficient': coefficients})\n",
    "    return coef_df.sort_values(by='Coefficient', ascending=False)"
   ]
  },
  {
   "cell_type": "code",
   "execution_count": 4,
   "metadata": {},
   "outputs": [],
   "source": [
    "# Load in data\n",
    "train_features = pd.read_csv('data/training_set_features.csv')\n",
    "train_labels = pd.read_csv('data/training_set_labels.csv')\n",
    "test_features = pd.read_csv('data/test_set_features.csv')"
   ]
  },
  {
   "cell_type": "code",
   "execution_count": 125,
   "metadata": {},
   "outputs": [],
   "source": [
    "# Merge training features and labels\n",
    "train_data = pd.merge(train_features, train_labels, on='respondent_id').set_index('respondent_id').drop(['h1n1_vaccine'], axis=1)"
   ]
  },
  {
   "cell_type": "code",
   "execution_count": 126,
   "metadata": {},
   "outputs": [
    {
     "name": "stdout",
     "output_type": "stream",
     "text": [
      "Index(['h1n1_concern', 'h1n1_knowledge', 'behavioral_antiviral_meds',\n",
      "       'behavioral_avoidance', 'behavioral_face_mask', 'behavioral_wash_hands',\n",
      "       'behavioral_large_gatherings', 'behavioral_outside_home',\n",
      "       'behavioral_touch_face', 'doctor_recc_h1n1', 'doctor_recc_seasonal',\n",
      "       'chronic_med_condition', 'child_under_6_months', 'health_worker',\n",
      "       'health_insurance', 'opinion_h1n1_vacc_effective', 'opinion_h1n1_risk',\n",
      "       'opinion_h1n1_sick_from_vacc', 'opinion_seas_vacc_effective',\n",
      "       'opinion_seas_risk', 'opinion_seas_sick_from_vacc', 'age_group',\n",
      "       'education', 'race', 'sex', 'income_poverty', 'marital_status',\n",
      "       'rent_or_own', 'employment_status', 'hhs_geo_region', 'census_msa',\n",
      "       'household_adults', 'household_children', 'employment_industry',\n",
      "       'employment_occupation', 'seasonal_vaccine'],\n",
      "      dtype='object')\n"
     ]
    }
   ],
   "source": [
    "# Examine possible feature choices\n",
    "possible_features = train_data.columns\n",
    "print(possible_features)"
   ]
  },
  {
   "cell_type": "code",
   "execution_count": 127,
   "metadata": {},
   "outputs": [],
   "source": [
    "# Choose features\n",
    "chosen_features = [\n",
    "    'doctor_recc_seasonal',\n",
    "    'behavioral_avoidance', \n",
    "    'behavioral_face_mask', \n",
    "    'behavioral_wash_hands',\n",
    "    'behavioral_large_gatherings',\n",
    "    'behavioral_outside_home',\n",
    "    'behavioral_touch_face',\n",
    "    'health_worker',\n",
    "    'health_insurance',\n",
    "    'opinion_h1n1_vacc_effective',\n",
    "    'education',\n",
    "    'rent_or_own',\n",
    "    'sex'\n",
    "]"
   ]
  },
  {
   "cell_type": "code",
   "execution_count": 128,
   "metadata": {},
   "outputs": [
    {
     "data": {
      "text/plain": [
       "health_insurance    0.45958\n",
       "dtype: float64"
      ]
     },
     "execution_count": 128,
     "metadata": {},
     "output_type": "execute_result"
    }
   ],
   "source": [
    "# Separate X and y\n",
    "target = 'seasonal_vaccine'\n",
    "X = train_data.drop(columns=[target])[chosen_features]\n",
    "y = train_data[target]\n",
    "\n",
    "# Handle nulls\n",
    "percent_null = X.isnull().sum() / len(X)\n",
    "\n",
    "# See features with > 30% null values\n",
    "percent_null[percent_null > 0.3]"
   ]
  },
  {
   "cell_type": "code",
   "execution_count": 129,
   "metadata": {},
   "outputs": [],
   "source": [
    "# Health insurance data is usually available when one has it, so we will assume missing insurance data means no insurance\n",
    "X['health_insurance'].fillna(0, inplace=True)\n",
    "\n",
    "# Train-test-split\n",
    "from sklearn.model_selection import train_test_split\n",
    "\n",
    "X_train, X_test, y_train, y_test = train_test_split(X, y, test_size=.2, random_state=42)\n",
    "\n",
    "# Since all of our features are categorical features, we will fill the nulls with the mode of each feature\n",
    "from sklearn.impute import SimpleImputer\n",
    "\n",
    "def simple_impute(*Xs):\n",
    "    results = []\n",
    "    imputer = SimpleImputer(strategy='most_frequent')\n",
    "    for X in Xs:\n",
    "        X_imputed = imputer.fit_transform(X)\n",
    "        X_imputed = pd.DataFrame(X_imputed, columns=X.columns)\n",
    "        results.append(X_imputed)\n",
    "    return tuple(results)\n",
    "\n",
    "X_train_imputed, X_test_imputed = simple_impute(X_train, X_test)\n",
    "\n",
    "# Now that the nulls have been filled, we can one hot encode X\n",
    "\n",
    "# Define one hot encode function\n",
    "def ohe(*Xs, features):\n",
    "    result = []\n",
    "    for X in Xs:\n",
    "        X_modified = pd.get_dummies(X, columns=features)\n",
    "        result.append(X_modified)\n",
    "    return tuple(result)\n",
    "\n",
    "categoricals = [f for f in X.columns if X[f].dtype == 'object']\n",
    "\n",
    "X_train_encoded, X_test_encoded = ohe(X_train_imputed, X_test_imputed, features=categoricals)"
   ]
  },
  {
   "cell_type": "code",
   "execution_count": 145,
   "metadata": {},
   "outputs": [
    {
     "name": "stdout",
     "output_type": "stream",
     "text": [
      "Accuracy of baseline model: 0.7050\n",
      "F1 score of baseline model: 0.6413\n"
     ]
    }
   ],
   "source": [
    "from sklearn.linear_model import LogisticRegression\n",
    "from sklearn.metrics import accuracy_score, f1_score\n",
    "\n",
    "baseline_model = LogisticRegression(random_state=42)\n",
    "baseline_model.fit(X_train_encoded, y_train)\n",
    "baseline_pred = baseline_model.predict(X_test_encoded)\n",
    "\n",
    "baseline_acc = accuracy_score(y_test, baseline_pred)\n",
    "baseline_f1 = f1_score(y_test, baseline_pred)\n",
    "\n",
    "print(f'Accuracy of baseline model: {baseline_acc:,.4f}')\n",
    "print(f'F1 score of baseline model: {baseline_f1:,.4f}')"
   ]
  },
  {
   "cell_type": "code",
   "execution_count": 146,
   "metadata": {},
   "outputs": [
    {
     "name": "stdout",
     "output_type": "stream",
     "text": [
      "Top 5 Determinants of Getting the Seasonal Flu Vaccine\n"
     ]
    },
    {
     "data": {
      "text/html": [
       "<div>\n",
       "<style scoped>\n",
       "    .dataframe tbody tr th:only-of-type {\n",
       "        vertical-align: middle;\n",
       "    }\n",
       "\n",
       "    .dataframe tbody tr th {\n",
       "        vertical-align: top;\n",
       "    }\n",
       "\n",
       "    .dataframe thead th {\n",
       "        text-align: right;\n",
       "    }\n",
       "</style>\n",
       "<table border=\"1\" class=\"dataframe\">\n",
       "  <thead>\n",
       "    <tr style=\"text-align: right;\">\n",
       "      <th></th>\n",
       "      <th>Feature</th>\n",
       "      <th>Coefficient</th>\n",
       "    </tr>\n",
       "  </thead>\n",
       "  <tbody>\n",
       "    <tr>\n",
       "      <th>0</th>\n",
       "      <td>doctor_recc_seasonal</td>\n",
       "      <td>1.546684</td>\n",
       "    </tr>\n",
       "    <tr>\n",
       "      <th>7</th>\n",
       "      <td>health_worker</td>\n",
       "      <td>0.641753</td>\n",
       "    </tr>\n",
       "    <tr>\n",
       "      <th>8</th>\n",
       "      <td>health_insurance</td>\n",
       "      <td>0.427955</td>\n",
       "    </tr>\n",
       "    <tr>\n",
       "      <th>9</th>\n",
       "      <td>opinion_h1n1_vacc_effective</td>\n",
       "      <td>0.350735</td>\n",
       "    </tr>\n",
       "    <tr>\n",
       "      <th>14</th>\n",
       "      <td>rent_or_own_Own</td>\n",
       "      <td>0.260141</td>\n",
       "    </tr>\n",
       "  </tbody>\n",
       "</table>\n",
       "</div>"
      ],
      "text/plain": [
       "                        Feature  Coefficient\n",
       "0          doctor_recc_seasonal     1.546684\n",
       "7                 health_worker     0.641753\n",
       "8              health_insurance     0.427955\n",
       "9   opinion_h1n1_vacc_effective     0.350735\n",
       "14              rent_or_own_Own     0.260141"
      ]
     },
     "execution_count": 146,
     "metadata": {},
     "output_type": "execute_result"
    }
   ],
   "source": [
    "baseline_model_coefs = get_coefficients(X_train_encoded, baseline_model)\n",
    "\n",
    "print('Top 5 Determinants of Getting the Seasonal Flu Vaccine')\n",
    "baseline_model_coefs[:5]"
   ]
  },
  {
   "cell_type": "code",
   "execution_count": 134,
   "metadata": {},
   "outputs": [
    {
     "name": "stdout",
     "output_type": "stream",
     "text": [
      "Accuracy of af model: 0.7870\n",
      "F1 score of af model: 0.7636\n"
     ]
    }
   ],
   "source": [
    "X_af = train_data.drop(columns=[target])\n",
    "X_af['health_insurance'].fillna(0, inplace=True)\n",
    "X_train_af, X_test_af, y_train, y_test = train_test_split(X_af, y, test_size=.2, random_state=42)\n",
    "X_train_af_imputed, X_test_af_imputed = simple_impute(X_train_af, X_test_af)\n",
    "categoricals_af = [f for f in X_af.columns if X_af[f].dtype == 'object']\n",
    "X_train_af_encoded, X_test_af_encoded = ohe(X_train_af_imputed, X_test_af_imputed, features=categoricals_af)\n",
    "\n",
    "model_af = LogisticRegression(random_state=42, max_iter=1000)\n",
    "model_af.fit(X_train_af_encoded, y_train)\n",
    "model_af_pred = model_af.predict(X_test_af_encoded)\n",
    "\n",
    "model_af_acc = accuracy_score(y_test, model_af_pred)\n",
    "model_af_f1 = f1_score(y_test, model_af_pred)\n",
    "\n",
    "print(f'Accuracy of af model: {model_af_acc:,.4f}')\n",
    "print(f'F1 score of af model: {model_af_f1:,.4f}')"
   ]
  },
  {
   "cell_type": "code",
   "execution_count": 144,
   "metadata": {},
   "outputs": [
    {
     "name": "stdout",
     "output_type": "stream",
     "text": [
      "Top 5 Determinants of Getting the Seasonal Flu Vaccine\n"
     ]
    },
    {
     "data": {
      "text/html": [
       "<div>\n",
       "<style scoped>\n",
       "    .dataframe tbody tr th:only-of-type {\n",
       "        vertical-align: middle;\n",
       "    }\n",
       "\n",
       "    .dataframe tbody tr th {\n",
       "        vertical-align: top;\n",
       "    }\n",
       "\n",
       "    .dataframe thead th {\n",
       "        text-align: right;\n",
       "    }\n",
       "</style>\n",
       "<table border=\"1\" class=\"dataframe\">\n",
       "  <thead>\n",
       "    <tr style=\"text-align: right;\">\n",
       "      <th></th>\n",
       "      <th>Feature</th>\n",
       "      <th>Coefficient</th>\n",
       "    </tr>\n",
       "  </thead>\n",
       "  <tbody>\n",
       "    <tr>\n",
       "      <th>10</th>\n",
       "      <td>doctor_recc_seasonal</td>\n",
       "      <td>1.454063</td>\n",
       "    </tr>\n",
       "    <tr>\n",
       "      <th>66</th>\n",
       "      <td>employment_industry_haxffmxo</td>\n",
       "      <td>1.441403</td>\n",
       "    </tr>\n",
       "    <tr>\n",
       "      <th>85</th>\n",
       "      <td>employment_occupation_dcjcmpih</td>\n",
       "      <td>1.441403</td>\n",
       "    </tr>\n",
       "    <tr>\n",
       "      <th>27</th>\n",
       "      <td>age_group_65+ Years</td>\n",
       "      <td>0.942953</td>\n",
       "    </tr>\n",
       "    <tr>\n",
       "      <th>70</th>\n",
       "      <td>employment_industry_msuufmds</td>\n",
       "      <td>0.652543</td>\n",
       "    </tr>\n",
       "  </tbody>\n",
       "</table>\n",
       "</div>"
      ],
      "text/plain": [
       "                           Feature  Coefficient\n",
       "10            doctor_recc_seasonal     1.454063\n",
       "66    employment_industry_haxffmxo     1.441403\n",
       "85  employment_occupation_dcjcmpih     1.441403\n",
       "27             age_group_65+ Years     0.942953\n",
       "70    employment_industry_msuufmds     0.652543"
      ]
     },
     "execution_count": 144,
     "metadata": {},
     "output_type": "execute_result"
    }
   ],
   "source": [
    "model_af_coefs = get_coefficients(X_train_af_encoded, model_af)\n",
    "\n",
    "print('Top 5 Determinants of Getting the Seasonal Flu Vaccine')\n",
    "model_af_coefs[:5]"
   ]
  },
  {
   "cell_type": "code",
   "execution_count": 102,
   "metadata": {},
   "outputs": [
    {
     "data": {
      "text/plain": [
       "respondent_id\n",
       "0             NaN\n",
       "1        pxcmvdjn\n",
       "2        rucpziij\n",
       "3             NaN\n",
       "4        wxleyezf\n",
       "           ...   \n",
       "26702         NaN\n",
       "26703    fcxhlnwr\n",
       "26704         NaN\n",
       "26705    fcxhlnwr\n",
       "26706         NaN\n",
       "Name: employment_industry, Length: 26707, dtype: object"
      ]
     },
     "execution_count": 102,
     "metadata": {},
     "output_type": "execute_result"
    }
   ],
   "source": [
    "train_data.employment_industry"
   ]
  },
  {
   "cell_type": "code",
   "execution_count": 73,
   "metadata": {},
   "outputs": [
    {
     "name": "stdout",
     "output_type": "stream",
     "text": [
      "Accuracy of baseline model: 0.6001\n",
      "F1 score of baseline model: 0.5459\n"
     ]
    }
   ],
   "source": [
    "from sklearn.ensemble import RandomForestClassifier\n",
    "\n",
    "model_2 = RandomForestClassifier(n_estimators=100, random_state=42)\n",
    "model_2.fit(X_train_encoded, y_train)\n",
    "model_2_pred = model_2.predict(X_test_encoded)\n",
    "\n",
    "model_2_acc = accuracy_score(y_test, model_2_pred)\n",
    "model_2_f1 = f1_score(y_test, model_2_pred)\n",
    "\n",
    "print(f'Accuracy of baseline model: {model_2_acc:,.4f}')\n",
    "print(f'F1 score of baseline model: {model_2_f1:,.4f}')"
   ]
  }
 ],
 "metadata": {
  "kernelspec": {
   "display_name": "learn-env",
   "language": "python",
   "name": "python3"
  },
  "language_info": {
   "codemirror_mode": {
    "name": "ipython",
    "version": 3
   },
   "file_extension": ".py",
   "mimetype": "text/x-python",
   "name": "python",
   "nbconvert_exporter": "python",
   "pygments_lexer": "ipython3",
   "version": "3.8.5"
  },
  "orig_nbformat": 4
 },
 "nbformat": 4,
 "nbformat_minor": 2
}
