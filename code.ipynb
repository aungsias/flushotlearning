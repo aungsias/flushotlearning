{
 "cells": [
  {
   "cell_type": "markdown",
   "metadata": {},
   "source": [
    "### Loading the Data"
   ]
  },
  {
   "cell_type": "code",
   "execution_count": 1,
   "metadata": {},
   "outputs": [],
   "source": [
    "import pandas as pd\n",
    "import numpy as np\n",
    "import matplotlib.pyplot as plt\n",
    "import seaborn as sns"
   ]
  },
  {
   "cell_type": "code",
   "execution_count": 2,
   "metadata": {},
   "outputs": [],
   "source": [
    "# Load in data\n",
    "train_features = pd.read_csv('data/training_set_features.csv')\n",
    "train_labels = pd.read_csv('data/training_set_labels.csv')\n",
    "\n",
    "train_df = pd.merge(train_labels, train_features, on='respondent_id')\n",
    "train_df.set_index('respondent_id', inplace=True)"
   ]
  },
  {
   "cell_type": "code",
   "execution_count": 3,
   "metadata": {},
   "outputs": [
    {
     "name": "stdout",
     "output_type": "stream",
     "text": [
      "train_df.shape: (26707, 37)\n"
     ]
    }
   ],
   "source": [
    "# Examine the dataset's shape\n",
    "print(f'train_df.shape: {train_df.shape}')"
   ]
  },
  {
   "cell_type": "code",
   "execution_count": 4,
   "metadata": {},
   "outputs": [
    {
     "data": {
      "text/plain": [
       "h1n1_vaccine                     int64\n",
       "seasonal_vaccine                 int64\n",
       "h1n1_concern                   float64\n",
       "h1n1_knowledge                 float64\n",
       "behavioral_antiviral_meds      float64\n",
       "behavioral_avoidance           float64\n",
       "behavioral_face_mask           float64\n",
       "behavioral_wash_hands          float64\n",
       "behavioral_large_gatherings    float64\n",
       "behavioral_outside_home        float64\n",
       "behavioral_touch_face          float64\n",
       "doctor_recc_h1n1               float64\n",
       "doctor_recc_seasonal           float64\n",
       "chronic_med_condition          float64\n",
       "child_under_6_months           float64\n",
       "health_worker                  float64\n",
       "health_insurance               float64\n",
       "opinion_h1n1_vacc_effective    float64\n",
       "opinion_h1n1_risk              float64\n",
       "opinion_h1n1_sick_from_vacc    float64\n",
       "opinion_seas_vacc_effective    float64\n",
       "opinion_seas_risk              float64\n",
       "opinion_seas_sick_from_vacc    float64\n",
       "age_group                       object\n",
       "education                       object\n",
       "race                            object\n",
       "sex                             object\n",
       "income_poverty                  object\n",
       "marital_status                  object\n",
       "rent_or_own                     object\n",
       "employment_status               object\n",
       "hhs_geo_region                  object\n",
       "census_msa                      object\n",
       "household_adults               float64\n",
       "household_children             float64\n",
       "employment_industry             object\n",
       "employment_occupation           object\n",
       "dtype: object"
      ]
     },
     "execution_count": 4,
     "metadata": {},
     "output_type": "execute_result"
    }
   ],
   "source": [
    "# Examine the dataset's datatypes\n",
    "train_df.dtypes"
   ]
  },
  {
   "cell_type": "markdown",
   "metadata": {},
   "source": [
    "### Choosing our target"
   ]
  },
  {
   "cell_type": "code",
   "execution_count": 5,
   "metadata": {},
   "outputs": [
    {
     "name": "stdout",
     "output_type": "stream",
     "text": [
      "0    14272\n",
      "1    12435\n",
      "Name: seasonal_vaccine, dtype: int64\n",
      "0    21033\n",
      "1     5674\n",
      "Name: h1n1_vaccine, dtype: int64\n"
     ]
    }
   ],
   "source": [
    "# Examine the vaccination value counts\n",
    "for vaccine in ['seasonal_vaccine', 'h1n1_vaccine']:\n",
    "    print(train_df[vaccine].value_counts())\n",
    "\n",
    "# Given that seasonal vaccine has a better class balance, we'll choose that as our target"
   ]
  },
  {
   "cell_type": "markdown",
   "metadata": {},
   "source": [
    "### Handling Nulls"
   ]
  },
  {
   "cell_type": "code",
   "execution_count": 6,
   "metadata": {},
   "outputs": [
    {
     "data": {
      "text/plain": [
       "h1n1_vaccine                       0\n",
       "seasonal_vaccine                   0\n",
       "h1n1_concern                      92\n",
       "h1n1_knowledge                   116\n",
       "behavioral_antiviral_meds         71\n",
       "behavioral_avoidance             208\n",
       "behavioral_face_mask              19\n",
       "behavioral_wash_hands             42\n",
       "behavioral_large_gatherings       87\n",
       "behavioral_outside_home           82\n",
       "behavioral_touch_face            128\n",
       "doctor_recc_h1n1                2160\n",
       "doctor_recc_seasonal            2160\n",
       "chronic_med_condition            971\n",
       "child_under_6_months             820\n",
       "health_worker                    804\n",
       "health_insurance               12274\n",
       "opinion_h1n1_vacc_effective      391\n",
       "opinion_h1n1_risk                388\n",
       "opinion_h1n1_sick_from_vacc      395\n",
       "opinion_seas_vacc_effective      462\n",
       "opinion_seas_risk                514\n",
       "opinion_seas_sick_from_vacc      537\n",
       "age_group                          0\n",
       "education                       1407\n",
       "race                               0\n",
       "sex                                0\n",
       "income_poverty                  4423\n",
       "marital_status                  1408\n",
       "rent_or_own                     2042\n",
       "employment_status               1463\n",
       "hhs_geo_region                     0\n",
       "census_msa                         0\n",
       "household_adults                 249\n",
       "household_children               249\n",
       "employment_industry            13330\n",
       "employment_occupation          13470\n",
       "dtype: int64"
      ]
     },
     "execution_count": 6,
     "metadata": {},
     "output_type": "execute_result"
    }
   ],
   "source": [
    "train_df.isnull().sum()"
   ]
  },
  {
   "cell_type": "code",
   "execution_count": 7,
   "metadata": {},
   "outputs": [
    {
     "data": {
      "text/plain": [
       "health_insurance         0.459580\n",
       "employment_industry      0.499120\n",
       "employment_occupation    0.504362\n",
       "dtype: float64"
      ]
     },
     "execution_count": 7,
     "metadata": {},
     "output_type": "execute_result"
    }
   ],
   "source": [
    "missing_data = train_df.isnull().sum()\n",
    "missing_data_pct = missing_data / len(train_df)\n",
    "missing_data_pct[missing_data_pct > .3]"
   ]
  },
  {
   "cell_type": "code",
   "execution_count": 8,
   "metadata": {},
   "outputs": [
    {
     "data": {
      "text/plain": [
       "(26707, 35)"
      ]
     },
     "execution_count": 8,
     "metadata": {},
     "output_type": "execute_result"
    }
   ],
   "source": [
    "train_df['health_insurance'].fillna(0, inplace=True)\n",
    "train_df.drop(columns=['employment_industry', 'employment_occupation'], inplace=True)\n",
    "train_df.shape"
   ]
  },
  {
   "cell_type": "markdown",
   "metadata": {},
   "source": [
    "### Reconciling Datatypes"
   ]
  },
  {
   "cell_type": "code",
   "execution_count": 9,
   "metadata": {},
   "outputs": [
    {
     "data": {
      "text/plain": [
       "['age_group',\n",
       " 'education',\n",
       " 'race',\n",
       " 'sex',\n",
       " 'income_poverty',\n",
       " 'marital_status',\n",
       " 'rent_or_own',\n",
       " 'employment_status',\n",
       " 'hhs_geo_region',\n",
       " 'census_msa']"
      ]
     },
     "execution_count": 9,
     "metadata": {},
     "output_type": "execute_result"
    }
   ],
   "source": [
    "string_representations = [feature for feature in train_df.columns if train_df[feature].dtype == 'object']\n",
    "string_representations"
   ]
  },
  {
   "cell_type": "code",
   "execution_count": 10,
   "metadata": {},
   "outputs": [
    {
     "data": {
      "text/plain": [
       "age_group_18 - 34 Years                     uint8\n",
       "age_group_35 - 44 Years                     uint8\n",
       "age_group_45 - 54 Years                     uint8\n",
       "age_group_55 - 64 Years                     uint8\n",
       "age_group_65+ Years                         uint8\n",
       "education_12 Years                          uint8\n",
       "education_< 12 Years                        uint8\n",
       "education_College Graduate                  uint8\n",
       "education_Some College                      uint8\n",
       "race_Black                                  uint8\n",
       "race_Hispanic                               uint8\n",
       "race_Other or Multiple                      uint8\n",
       "race_White                                  uint8\n",
       "sex_Female                                  uint8\n",
       "sex_Male                                    uint8\n",
       "income_poverty_<= $75,000, Above Poverty    uint8\n",
       "income_poverty_> $75,000                    uint8\n",
       "income_poverty_Below Poverty                uint8\n",
       "marital_status_Married                      uint8\n",
       "marital_status_Not Married                  uint8\n",
       "rent_or_own_Own                             uint8\n",
       "rent_or_own_Rent                            uint8\n",
       "employment_status_Employed                  uint8\n",
       "employment_status_Not in Labor Force        uint8\n",
       "employment_status_Unemployed                uint8\n",
       "hhs_geo_region_atmpeygn                     uint8\n",
       "hhs_geo_region_bhuqouqj                     uint8\n",
       "hhs_geo_region_dqpwygqj                     uint8\n",
       "hhs_geo_region_fpwskwrf                     uint8\n",
       "hhs_geo_region_kbazzjca                     uint8\n",
       "hhs_geo_region_lrircsnp                     uint8\n",
       "hhs_geo_region_lzgpxyit                     uint8\n",
       "hhs_geo_region_mlyzmhmf                     uint8\n",
       "hhs_geo_region_oxchjgsf                     uint8\n",
       "hhs_geo_region_qufhixun                     uint8\n",
       "census_msa_MSA, Not Principle  City         uint8\n",
       "census_msa_MSA, Principle City              uint8\n",
       "census_msa_Non-MSA                          uint8\n",
       "dtype: object"
      ]
     },
     "execution_count": 10,
     "metadata": {},
     "output_type": "execute_result"
    }
   ],
   "source": [
    "train_df_encoded = pd.get_dummies(train_df, columns=string_representations)\n",
    "encoded_columns = [col for col in train_df_encoded.columns if any(col.startswith(str_col) for str_col in string_representations)]\n",
    "train_df_encoded[encoded_columns].dtypes"
   ]
  },
  {
   "cell_type": "code",
   "execution_count": 11,
   "metadata": {},
   "outputs": [
    {
     "data": {
      "text/plain": [
       "(26707, 63)"
      ]
     },
     "execution_count": 11,
     "metadata": {},
     "output_type": "execute_result"
    }
   ],
   "source": [
    "train_df_encoded.shape"
   ]
  },
  {
   "cell_type": "markdown",
   "metadata": {},
   "source": [
    "### Examining Feature Correlations"
   ]
  },
  {
   "cell_type": "code",
   "execution_count": 12,
   "metadata": {},
   "outputs": [
    {
     "name": "stdout",
     "output_type": "stream",
     "text": [
      "doctor_recc_seasonal         doctor_recc_h1n1                        0.591868\n",
      "behavioral_large_gatherings  behavioral_outside_home                 0.584085\n",
      "opinion_h1n1_risk            opinion_seas_risk                       0.564208\n",
      "age_group_65+ Years          employment_status_Not in Labor Force    0.498880\n",
      "opinion_seas_sick_from_vacc  opinion_h1n1_sick_from_vacc             0.491546\n",
      "dtype: float64\n"
     ]
    }
   ],
   "source": [
    "corr_mat = train_df_encoded.corr()\n",
    "corr_mat[corr_mat == 1] = np.nan\n",
    "five_most_correlated = corr_mat.unstack().sort_values(\n",
    "    ascending=False\n",
    ").drop_duplicates()[:5]\n",
    "\n",
    "print(five_most_correlated)"
   ]
  },
  {
   "cell_type": "code",
   "execution_count": 13,
   "metadata": {},
   "outputs": [
    {
     "data": {
      "image/png": "[encoded data removed]",
      "text/plain": [
       "<Figure size 432x288 with 2 Axes>"
      ]
     },
     "metadata": {
      "needs_background": "light"
     },
     "output_type": "display_data"
    }
   ],
   "source": [
    "\n",
    "sns.heatmap(train_df_encoded.corr(), cmap='magma')\n",
    "plt.title('Correlation Heatmap of Features')\n",
    "plt.xticks([])\n",
    "plt.yticks([]);"
   ]
  },
  {
   "cell_type": "markdown",
   "metadata": {},
   "source": [
    "## Preparing for Model Building"
   ]
  },
  {
   "cell_type": "code",
   "execution_count": 14,
   "metadata": {},
   "outputs": [
    {
     "data": {
      "text/plain": [
       "((21365, 9), (5342, 9), (21365,), (5342,))"
      ]
     },
     "execution_count": 14,
     "metadata": {},
     "output_type": "execute_result"
    }
   ],
   "source": [
    "from sklearn.model_selection import train_test_split\n",
    "\n",
    "target = 'seasonal_vaccine' # We want to predict seasonal vaccine\n",
    "\n",
    "# We choose behavioral features + doctor recommendations for the vaccines as our features.\n",
    "chosen_features = [column for column in train_df if \"behavioral\" in column] + \\\n",
    "                  ['doctor_recc_h1n1' ,'doctor_recc_seasonal']\n",
    "\n",
    "X = train_df_encoded[chosen_features]\n",
    "y = train_df_encoded[target]\n",
    "\n",
    "seed = 42 # For reproducability\n",
    "test_size = .2 # 20% of our data will be in the testing set\n",
    "\n",
    "X_train, X_test, y_train, y_test = train_test_split(X, y, random_state=seed, test_size=test_size)\n",
    "\n",
    "X_train.shape, X_test.shape, y_train.shape, y_test.shape"
   ]
  },
  {
   "cell_type": "code",
   "execution_count": 15,
   "metadata": {},
   "outputs": [],
   "source": [
    "from sklearn.impute import SimpleImputer\n",
    "\n",
    "def simple_impute(*Xs):\n",
    "    results = []\n",
    "    imputer = SimpleImputer(strategy='most_frequent')\n",
    "    for X in Xs:\n",
    "        X_imputed = imputer.fit_transform(X)\n",
    "        X_imputed = pd.DataFrame(X_imputed, columns=X.columns)\n",
    "        results.append(X_imputed)\n",
    "    return tuple(results)"
   ]
  },
  {
   "cell_type": "code",
   "execution_count": 16,
   "metadata": {},
   "outputs": [
    {
     "name": "stdout",
     "output_type": "stream",
     "text": [
      "Null values in X_train: 0\n",
      "Null values in X_test: 0\n"
     ]
    }
   ],
   "source": [
    "X_train, X_test = simple_impute(X_train, X_test)\n",
    "\n",
    "print(f'Null values in X_train: {X_train.isnull().sum().sum()}')\n",
    "print(f'Null values in X_test: {X_test.isnull().sum().sum()}')"
   ]
  },
  {
   "cell_type": "code",
   "execution_count": 17,
   "metadata": {},
   "outputs": [
    {
     "name": "stdout",
     "output_type": "stream",
     "text": [
      "Null values in y_train: 0\n",
      "Null values in y_test: 0\n"
     ]
    }
   ],
   "source": [
    "print(f'Null values in y_train: {y_train.isnull().sum().sum()}')\n",
    "print(f'Null values in y_test: {y_test.isnull().sum().sum()}')"
   ]
  },
  {
   "cell_type": "markdown",
   "metadata": {},
   "source": [
    "## Building Models"
   ]
  },
  {
   "cell_type": "code",
   "execution_count": 18,
   "metadata": {},
   "outputs": [],
   "source": [
    "from sklearn.pipeline import make_pipeline\n",
    "from sklearn.linear_model import LogisticRegression\n",
    "from sklearn.preprocessing import StandardScaler\n",
    "from sklearn.model_selection import cross_validate\n",
    "from sklearn.metrics import confusion_matrix\n",
    "\n",
    "def cv_conf_mat(model, model_name, X, y):\n",
    "    # Cross-validation results\n",
    "    cv = cross_validate(model, X, y, cv=5, return_train_score=True, scoring=['recall', 'f1', 'roc_auc'])\n",
    "    cv_mean = {k: np.mean(v) for k, v in cv.items()}\n",
    "    cv_df = pd.DataFrame.from_dict(cv_mean, orient='index').T\n",
    "    cv_df = cv_df.rename(columns={n: n.replace('_', ' ').title() for n in cv_df.columns}).T\n",
    "    cv_results = cv_df.drop(['Fit Time', 'Score Time']).T\n",
    "    cv_results['Model'] = model_name\n",
    "\n",
    "    # Confusion matrix\n",
    "    model.fit(X, y)\n",
    "    y_pred = model.predict(X)\n",
    "    confusion_mat = confusion_matrix(y, y_pred)\n",
    "    confusion_mat = pd.DataFrame(confusion_mat, columns=['0', '1'], index=['0', '1']).T\n",
    "    confusion_mat.index.name = model_name\n",
    "    \n",
    "    return cv_results.set_index('Model'), confusion_mat\n",
    "\n",
    "def plot_conf_mat(conf_mat):\n",
    "    \n",
    "    annot_labels = [\n",
    "    ['TN: ' + str(conf_mat.iloc[0, 0]), 'FN: ' + str(conf_mat.iloc[0, 1])], \n",
    "    ['FP: ' + str(conf_mat.iloc[1, 0]), 'TP: ' + str(conf_mat.iloc[1, 1])]\n",
    "    ]\n",
    "\n",
    "    sns.heatmap(conf_mat, annot=annot_labels, fmt='', cmap='magma')\n",
    "    plt.xlabel('Actual')\n",
    "    plt.ylabel('Predicted')\n",
    "    plt.title(f'Confusion Matrix, {conf_mat.index.name}')\n",
    "    plt.show()"
   ]
  },
  {
   "cell_type": "code",
   "execution_count": 19,
   "metadata": {},
   "outputs": [
    {
     "data": {
      "image/png": "[encoded data removed]",
      "text/plain": [
       "<Figure size 432x288 with 2 Axes>"
      ]
     },
     "metadata": {
      "needs_background": "light"
     },
     "output_type": "display_data"
    },
    {
     "data": {
      "text/html": [
       "<div>\n",
       "<style scoped>\n",
       "    .dataframe tbody tr th:only-of-type {\n",
       "        vertical-align: middle;\n",
       "    }\n",
       "\n",
       "    .dataframe tbody tr th {\n",
       "        vertical-align: top;\n",
       "    }\n",
       "\n",
       "    .dataframe thead th {\n",
       "        text-align: right;\n",
       "    }\n",
       "</style>\n",
       "<table border=\"1\" class=\"dataframe\">\n",
       "  <thead>\n",
       "    <tr style=\"text-align: right;\">\n",
       "      <th></th>\n",
       "      <th>Test Recall</th>\n",
       "      <th>Train Recall</th>\n",
       "      <th>Test F1</th>\n",
       "      <th>Train F1</th>\n",
       "      <th>Test Roc Auc</th>\n",
       "      <th>Train Roc Auc</th>\n",
       "    </tr>\n",
       "    <tr>\n",
       "      <th>Model</th>\n",
       "      <th></th>\n",
       "      <th></th>\n",
       "      <th></th>\n",
       "      <th></th>\n",
       "      <th></th>\n",
       "      <th></th>\n",
       "    </tr>\n",
       "  </thead>\n",
       "  <tbody>\n",
       "    <tr>\n",
       "      <th>Logistic Regression</th>\n",
       "      <td>0.482973</td>\n",
       "      <td>0.482973</td>\n",
       "      <td>0.584092</td>\n",
       "      <td>0.584128</td>\n",
       "      <td>0.700035</td>\n",
       "      <td>0.700491</td>\n",
       "    </tr>\n",
       "  </tbody>\n",
       "</table>\n",
       "</div>"
      ],
      "text/plain": [
       "                     Test Recall  Train Recall   Test F1  Train F1  \\\n",
       "Model                                                                \n",
       "Logistic Regression     0.482973      0.482973  0.584092  0.584128   \n",
       "\n",
       "                     Test Roc Auc  Train Roc Auc  \n",
       "Model                                             \n",
       "Logistic Regression      0.700035       0.700491  "
      ]
     },
     "metadata": {},
     "output_type": "display_data"
    }
   ],
   "source": [
    "model_1 = 'Logistic Regression'\n",
    "baseline_model = make_pipeline(StandardScaler(), LogisticRegression(random_state=seed))\n",
    "cv_baseline, conf_mat_baseline = cv_conf_mat(baseline_model, model_1, X_train, y_train)\n",
    "\n",
    "plot_conf_mat(conf_mat_baseline)\n",
    "display(cv_baseline)"
   ]
  },
  {
   "cell_type": "code",
   "execution_count": 20,
   "metadata": {},
   "outputs": [],
   "source": [
    "from sklearn.model_selection import RandomizedSearchCV\n",
    "import warnings\n",
    "warnings.filterwarnings('ignore')\n",
    "\n",
    "# Define parameter grid for Logistic Regression\n",
    "param_grid = {\n",
    "    'logisticregression__C': (0.001, 100, 'log_uniform'),\n",
    "    'logisticregression__penalty': ['l1', 'l2'],\n",
    "    'logisticregression__solver': ['newton-cg', 'lbfgs', 'liblinear', 'sag', 'saga']\n",
    "}\n",
    "\n",
    "# Create the GridSearchCV object\n",
    "random_search_baseline = RandomizedSearchCV(\n",
    "    baseline_model, param_grid, cv=5, scoring='precision', n_iter=10, random_state=42\n",
    ")\n",
    "\n",
    "# Fit the GridSearchCV object to the training data\n",
    "random_search_baseline.fit(X_train, y_train);"
   ]
  },
  {
   "cell_type": "code",
   "execution_count": 21,
   "metadata": {},
   "outputs": [
    {
     "data": {
      "image/png": "[encoded data removed]",
      "text/plain": [
       "<Figure size 432x288 with 2 Axes>"
      ]
     },
     "metadata": {
      "needs_background": "light"
     },
     "output_type": "display_data"
    },
    {
     "data": {
      "text/html": [
       "<div>\n",
       "<style scoped>\n",
       "    .dataframe tbody tr th:only-of-type {\n",
       "        vertical-align: middle;\n",
       "    }\n",
       "\n",
       "    .dataframe tbody tr th {\n",
       "        vertical-align: top;\n",
       "    }\n",
       "\n",
       "    .dataframe thead th {\n",
       "        text-align: right;\n",
       "    }\n",
       "</style>\n",
       "<table border=\"1\" class=\"dataframe\">\n",
       "  <thead>\n",
       "    <tr style=\"text-align: right;\">\n",
       "      <th></th>\n",
       "      <th>Test Recall</th>\n",
       "      <th>Train Recall</th>\n",
       "      <th>Test F1</th>\n",
       "      <th>Train F1</th>\n",
       "      <th>Test Roc Auc</th>\n",
       "      <th>Train Roc Auc</th>\n",
       "    </tr>\n",
       "    <tr>\n",
       "      <th>Model</th>\n",
       "      <th></th>\n",
       "      <th></th>\n",
       "      <th></th>\n",
       "      <th></th>\n",
       "      <th></th>\n",
       "      <th></th>\n",
       "    </tr>\n",
       "  </thead>\n",
       "  <tbody>\n",
       "    <tr>\n",
       "      <th>Logistic Regression</th>\n",
       "      <td>0.482973</td>\n",
       "      <td>0.482973</td>\n",
       "      <td>0.584092</td>\n",
       "      <td>0.584128</td>\n",
       "      <td>0.700035</td>\n",
       "      <td>0.700491</td>\n",
       "    </tr>\n",
       "    <tr>\n",
       "      <th>Tuned Logistic Regression</th>\n",
       "      <td>0.482973</td>\n",
       "      <td>0.482973</td>\n",
       "      <td>0.584092</td>\n",
       "      <td>0.584128</td>\n",
       "      <td>0.700027</td>\n",
       "      <td>0.700489</td>\n",
       "    </tr>\n",
       "  </tbody>\n",
       "</table>\n",
       "</div>"
      ],
      "text/plain": [
       "                           Test Recall  Train Recall   Test F1  Train F1  \\\n",
       "Model                                                                      \n",
       "Logistic Regression           0.482973      0.482973  0.584092  0.584128   \n",
       "Tuned Logistic Regression     0.482973      0.482973  0.584092  0.584128   \n",
       "\n",
       "                           Test Roc Auc  Train Roc Auc  \n",
       "Model                                                   \n",
       "Logistic Regression            0.700035       0.700491  \n",
       "Tuned Logistic Regression      0.700027       0.700489  "
      ]
     },
     "execution_count": 21,
     "metadata": {},
     "output_type": "execute_result"
    }
   ],
   "source": [
    "baseline_tuned = random_search_baseline.best_estimator_\n",
    "model_2 = 'Tuned Logistic Regression'\n",
    "cv_tuned, conf_mat_tuned = cv_conf_mat(baseline_tuned, model_2, X_train, y_train)\n",
    "\n",
    "# Results\n",
    "plot_conf_mat(conf_mat_tuned)\n",
    "stats_df = pd.concat([cv_baseline, cv_tuned])\n",
    "stats_df"
   ]
  },
  {
   "cell_type": "code",
   "execution_count": 22,
   "metadata": {},
   "outputs": [
    {
     "data": {
      "image/png": "[encoded data removed]",
      "text/plain": [
       "<Figure size 432x288 with 2 Axes>"
      ]
     },
     "metadata": {
      "needs_background": "light"
     },
     "output_type": "display_data"
    },
    {
     "data": {
      "text/html": [
       "<div>\n",
       "<style scoped>\n",
       "    .dataframe tbody tr th:only-of-type {\n",
       "        vertical-align: middle;\n",
       "    }\n",
       "\n",
       "    .dataframe tbody tr th {\n",
       "        vertical-align: top;\n",
       "    }\n",
       "\n",
       "    .dataframe thead th {\n",
       "        text-align: right;\n",
       "    }\n",
       "</style>\n",
       "<table border=\"1\" class=\"dataframe\">\n",
       "  <thead>\n",
       "    <tr style=\"text-align: right;\">\n",
       "      <th></th>\n",
       "      <th>Test Recall</th>\n",
       "      <th>Train Recall</th>\n",
       "      <th>Test F1</th>\n",
       "      <th>Train F1</th>\n",
       "      <th>Test Roc Auc</th>\n",
       "      <th>Train Roc Auc</th>\n",
       "    </tr>\n",
       "    <tr>\n",
       "      <th>Model</th>\n",
       "      <th></th>\n",
       "      <th></th>\n",
       "      <th></th>\n",
       "      <th></th>\n",
       "      <th></th>\n",
       "      <th></th>\n",
       "    </tr>\n",
       "  </thead>\n",
       "  <tbody>\n",
       "    <tr>\n",
       "      <th>Logistic Regression</th>\n",
       "      <td>0.482973</td>\n",
       "      <td>0.482973</td>\n",
       "      <td>0.584092</td>\n",
       "      <td>0.584128</td>\n",
       "      <td>0.700035</td>\n",
       "      <td>0.700491</td>\n",
       "    </tr>\n",
       "    <tr>\n",
       "      <th>Tuned Logistic Regression</th>\n",
       "      <td>0.482973</td>\n",
       "      <td>0.482973</td>\n",
       "      <td>0.584092</td>\n",
       "      <td>0.584128</td>\n",
       "      <td>0.700027</td>\n",
       "      <td>0.700489</td>\n",
       "    </tr>\n",
       "    <tr>\n",
       "      <th>Decision Tree</th>\n",
       "      <td>0.484776</td>\n",
       "      <td>0.494066</td>\n",
       "      <td>0.581709</td>\n",
       "      <td>0.592603</td>\n",
       "      <td>0.691312</td>\n",
       "      <td>0.714736</td>\n",
       "    </tr>\n",
       "  </tbody>\n",
       "</table>\n",
       "</div>"
      ],
      "text/plain": [
       "                           Test Recall  Train Recall   Test F1  Train F1  \\\n",
       "Model                                                                      \n",
       "Logistic Regression           0.482973      0.482973  0.584092  0.584128   \n",
       "Tuned Logistic Regression     0.482973      0.482973  0.584092  0.584128   \n",
       "Decision Tree                 0.484776      0.494066  0.581709  0.592603   \n",
       "\n",
       "                           Test Roc Auc  Train Roc Auc  \n",
       "Model                                                   \n",
       "Logistic Regression            0.700035       0.700491  \n",
       "Tuned Logistic Regression      0.700027       0.700489  \n",
       "Decision Tree                  0.691312       0.714736  "
      ]
     },
     "execution_count": 22,
     "metadata": {},
     "output_type": "execute_result"
    }
   ],
   "source": [
    "from sklearn.tree import DecisionTreeClassifier\n",
    "\n",
    "model_3 = 'Decision Tree'\n",
    "tree_model = make_pipeline(StandardScaler(), DecisionTreeClassifier(random_state=seed))\n",
    "cv_tree, conf_mat_tree = cv_conf_mat(tree_model, model_3, X_train, y_train)\n",
    "stats_df = pd.concat([stats_df, cv_tree])\n",
    "\n",
    "plot_conf_mat(conf_mat_tree)\n",
    "stats_df"
   ]
  },
  {
   "cell_type": "code",
   "execution_count": 23,
   "metadata": {},
   "outputs": [],
   "source": [
    "# Define parameter grid for Decision Tree\n",
    "param_dist = {\n",
    "    'decisiontreeclassifier__max_depth': [None] + list(range(1, 100)),\n",
    "    'decisiontreeclassifier__min_samples_split': range(2, 100),\n",
    "    'decisiontreeclassifier__min_samples_leaf': range(1, 100),\n",
    "    'decisiontreeclassifier__criterion': ['gini', 'entropy']\n",
    "}\n",
    "\n",
    "# Create the RandomizedSearchCV object\n",
    "random_search_tree = RandomizedSearchCV(\n",
    "    tree_model, param_dist, cv=5, scoring='precision', n_iter=10, random_state=42, n_jobs=-1\n",
    ")\n",
    "\n",
    "# Fit the RandomizedSearchCV object to the training data\n",
    "random_search_tree.fit(X_train, y_train);"
   ]
  },
  {
   "cell_type": "code",
   "execution_count": 24,
   "metadata": {},
   "outputs": [
    {
     "data": {
      "image/png": "[encoded data removed]",
      "text/plain": [
       "<Figure size 432x288 with 2 Axes>"
      ]
     },
     "metadata": {
      "needs_background": "light"
     },
     "output_type": "display_data"
    },
    {
     "data": {
      "text/html": [
       "<div>\n",
       "<style scoped>\n",
       "    .dataframe tbody tr th:only-of-type {\n",
       "        vertical-align: middle;\n",
       "    }\n",
       "\n",
       "    .dataframe tbody tr th {\n",
       "        vertical-align: top;\n",
       "    }\n",
       "\n",
       "    .dataframe thead th {\n",
       "        text-align: right;\n",
       "    }\n",
       "</style>\n",
       "<table border=\"1\" class=\"dataframe\">\n",
       "  <thead>\n",
       "    <tr style=\"text-align: right;\">\n",
       "      <th></th>\n",
       "      <th>Test Recall</th>\n",
       "      <th>Train Recall</th>\n",
       "      <th>Test F1</th>\n",
       "      <th>Train F1</th>\n",
       "      <th>Test Roc Auc</th>\n",
       "      <th>Train Roc Auc</th>\n",
       "    </tr>\n",
       "    <tr>\n",
       "      <th>Model</th>\n",
       "      <th></th>\n",
       "      <th></th>\n",
       "      <th></th>\n",
       "      <th></th>\n",
       "      <th></th>\n",
       "      <th></th>\n",
       "    </tr>\n",
       "  </thead>\n",
       "  <tbody>\n",
       "    <tr>\n",
       "      <th>Logistic Regression</th>\n",
       "      <td>0.482973</td>\n",
       "      <td>0.482973</td>\n",
       "      <td>0.584092</td>\n",
       "      <td>0.584128</td>\n",
       "      <td>0.700035</td>\n",
       "      <td>0.700491</td>\n",
       "    </tr>\n",
       "    <tr>\n",
       "      <th>Tuned Logistic Regression</th>\n",
       "      <td>0.482973</td>\n",
       "      <td>0.482973</td>\n",
       "      <td>0.584092</td>\n",
       "      <td>0.584128</td>\n",
       "      <td>0.700027</td>\n",
       "      <td>0.700489</td>\n",
       "    </tr>\n",
       "    <tr>\n",
       "      <th>Decision Tree</th>\n",
       "      <td>0.484776</td>\n",
       "      <td>0.494066</td>\n",
       "      <td>0.581709</td>\n",
       "      <td>0.592603</td>\n",
       "      <td>0.691312</td>\n",
       "      <td>0.714736</td>\n",
       "    </tr>\n",
       "    <tr>\n",
       "      <th>Tuned Decision Tree</th>\n",
       "      <td>0.485276</td>\n",
       "      <td>0.485727</td>\n",
       "      <td>0.584777</td>\n",
       "      <td>0.585526</td>\n",
       "      <td>0.696749</td>\n",
       "      <td>0.705485</td>\n",
       "    </tr>\n",
       "  </tbody>\n",
       "</table>\n",
       "</div>"
      ],
      "text/plain": [
       "                           Test Recall  Train Recall   Test F1  Train F1  \\\n",
       "Model                                                                      \n",
       "Logistic Regression           0.482973      0.482973  0.584092  0.584128   \n",
       "Tuned Logistic Regression     0.482973      0.482973  0.584092  0.584128   \n",
       "Decision Tree                 0.484776      0.494066  0.581709  0.592603   \n",
       "Tuned Decision Tree           0.485276      0.485727  0.584777  0.585526   \n",
       "\n",
       "                           Test Roc Auc  Train Roc Auc  \n",
       "Model                                                   \n",
       "Logistic Regression            0.700035       0.700491  \n",
       "Tuned Logistic Regression      0.700027       0.700489  \n",
       "Decision Tree                  0.691312       0.714736  \n",
       "Tuned Decision Tree            0.696749       0.705485  "
      ]
     },
     "execution_count": 24,
     "metadata": {},
     "output_type": "execute_result"
    }
   ],
   "source": [
    "model_4 = 'Tuned Decision Tree'\n",
    "tuned_tree = random_search_tree.best_estimator_\n",
    "cv_tuned_tree, conf_mat_tuned_tree = cv_conf_mat(tuned_tree, model_4, X_train, y_train)\n",
    "stats_df = pd.concat([stats_df, cv_tuned_tree])\n",
    "\n",
    "# Results\n",
    "plot_conf_mat(conf_mat_tuned_tree)\n",
    "\n",
    "stats_df"
   ]
  },
  {
   "cell_type": "code",
   "execution_count": 25,
   "metadata": {},
   "outputs": [
    {
     "data": {
      "image/png": "[encoded data removed]",
      "text/plain": [
       "<Figure size 432x288 with 2 Axes>"
      ]
     },
     "metadata": {
      "needs_background": "light"
     },
     "output_type": "display_data"
    },
    {
     "data": {
      "text/html": [
       "<div>\n",
       "<style scoped>\n",
       "    .dataframe tbody tr th:only-of-type {\n",
       "        vertical-align: middle;\n",
       "    }\n",
       "\n",
       "    .dataframe tbody tr th {\n",
       "        vertical-align: top;\n",
       "    }\n",
       "\n",
       "    .dataframe thead th {\n",
       "        text-align: right;\n",
       "    }\n",
       "</style>\n",
       "<table border=\"1\" class=\"dataframe\">\n",
       "  <thead>\n",
       "    <tr style=\"text-align: right;\">\n",
       "      <th></th>\n",
       "      <th>Test Recall</th>\n",
       "      <th>Train Recall</th>\n",
       "      <th>Test F1</th>\n",
       "      <th>Train F1</th>\n",
       "      <th>Test Roc Auc</th>\n",
       "      <th>Train Roc Auc</th>\n",
       "    </tr>\n",
       "    <tr>\n",
       "      <th>Model</th>\n",
       "      <th></th>\n",
       "      <th></th>\n",
       "      <th></th>\n",
       "      <th></th>\n",
       "      <th></th>\n",
       "      <th></th>\n",
       "    </tr>\n",
       "  </thead>\n",
       "  <tbody>\n",
       "    <tr>\n",
       "      <th>Logistic Regression</th>\n",
       "      <td>0.482973</td>\n",
       "      <td>0.482973</td>\n",
       "      <td>0.584092</td>\n",
       "      <td>0.584128</td>\n",
       "      <td>0.700035</td>\n",
       "      <td>0.700491</td>\n",
       "    </tr>\n",
       "    <tr>\n",
       "      <th>Tuned Logistic Regression</th>\n",
       "      <td>0.482973</td>\n",
       "      <td>0.482973</td>\n",
       "      <td>0.584092</td>\n",
       "      <td>0.584128</td>\n",
       "      <td>0.700027</td>\n",
       "      <td>0.700489</td>\n",
       "    </tr>\n",
       "    <tr>\n",
       "      <th>Decision Tree</th>\n",
       "      <td>0.484776</td>\n",
       "      <td>0.494066</td>\n",
       "      <td>0.581709</td>\n",
       "      <td>0.592603</td>\n",
       "      <td>0.691312</td>\n",
       "      <td>0.714736</td>\n",
       "    </tr>\n",
       "    <tr>\n",
       "      <th>Tuned Decision Tree</th>\n",
       "      <td>0.485276</td>\n",
       "      <td>0.485727</td>\n",
       "      <td>0.584777</td>\n",
       "      <td>0.585526</td>\n",
       "      <td>0.696749</td>\n",
       "      <td>0.705485</td>\n",
       "    </tr>\n",
       "    <tr>\n",
       "      <th>Random Forest</th>\n",
       "      <td>0.488382</td>\n",
       "      <td>0.496795</td>\n",
       "      <td>0.583760</td>\n",
       "      <td>0.593933</td>\n",
       "      <td>0.691192</td>\n",
       "      <td>0.714471</td>\n",
       "    </tr>\n",
       "  </tbody>\n",
       "</table>\n",
       "</div>"
      ],
      "text/plain": [
       "                           Test Recall  Train Recall   Test F1  Train F1  \\\n",
       "Model                                                                      \n",
       "Logistic Regression           0.482973      0.482973  0.584092  0.584128   \n",
       "Tuned Logistic Regression     0.482973      0.482973  0.584092  0.584128   \n",
       "Decision Tree                 0.484776      0.494066  0.581709  0.592603   \n",
       "Tuned Decision Tree           0.485276      0.485727  0.584777  0.585526   \n",
       "Random Forest                 0.488382      0.496795  0.583760  0.593933   \n",
       "\n",
       "                           Test Roc Auc  Train Roc Auc  \n",
       "Model                                                   \n",
       "Logistic Regression            0.700035       0.700491  \n",
       "Tuned Logistic Regression      0.700027       0.700489  \n",
       "Decision Tree                  0.691312       0.714736  \n",
       "Tuned Decision Tree            0.696749       0.705485  \n",
       "Random Forest                  0.691192       0.714471  "
      ]
     },
     "execution_count": 25,
     "metadata": {},
     "output_type": "execute_result"
    }
   ],
   "source": [
    "from sklearn.ensemble import RandomForestClassifier\n",
    "\n",
    "model_5 = 'Random Forest'\n",
    "forest_model = make_pipeline(StandardScaler(), RandomForestClassifier(random_state=seed))\n",
    "cv_forest, conf_mat_forest = cv_conf_mat(forest_model, model_5, X_train, y_train)\n",
    "stats_df = pd.concat([stats_df, cv_forest])\n",
    "\n",
    "plot_conf_mat(conf_mat_forest)\n",
    "stats_df"
   ]
  },
  {
   "cell_type": "code",
   "execution_count": 26,
   "metadata": {},
   "outputs": [],
   "source": [
    "# Define parameter grid for Random Forest\n",
    "param_dist_rf = {\n",
    "    'randomforestclassifier__n_estimators': range(50, 200),\n",
    "    'randomforestclassifier__max_features': ['auto', 'sqrt'],\n",
    "    'randomforestclassifier__max_depth': [None] + list(range(5, 50)),\n",
    "    'randomforestclassifier__min_samples_split': range(2, 20),\n",
    "    'randomforestclassifier__min_samples_leaf': range(1, 20),\n",
    "    'randomforestclassifier__bootstrap': [True, False]\n",
    "}\n",
    "\n",
    "# Create the RandomizedSearchCV object\n",
    "random_search_rf = RandomizedSearchCV(\n",
    "    forest_model, param_dist_rf, cv=5, scoring='precision', n_iter=10, random_state=seed, n_jobs=-1\n",
    ")\n",
    "\n",
    "# Fit the RandomizedSearchCV object to the training data\n",
    "random_search_rf.fit(X_train, y_train);"
   ]
  },
  {
   "cell_type": "code",
   "execution_count": 27,
   "metadata": {},
   "outputs": [
    {
     "data": {
      "image/png": "[encoded data removed]",
      "text/plain": [
       "<Figure size 432x288 with 2 Axes>"
      ]
     },
     "metadata": {
      "needs_background": "light"
     },
     "output_type": "display_data"
    },
    {
     "data": {
      "text/html": [
       "<div>\n",
       "<style scoped>\n",
       "    .dataframe tbody tr th:only-of-type {\n",
       "        vertical-align: middle;\n",
       "    }\n",
       "\n",
       "    .dataframe tbody tr th {\n",
       "        vertical-align: top;\n",
       "    }\n",
       "\n",
       "    .dataframe thead th {\n",
       "        text-align: right;\n",
       "    }\n",
       "</style>\n",
       "<table border=\"1\" class=\"dataframe\">\n",
       "  <thead>\n",
       "    <tr style=\"text-align: right;\">\n",
       "      <th></th>\n",
       "      <th>Test Recall</th>\n",
       "      <th>Train Recall</th>\n",
       "      <th>Test F1</th>\n",
       "      <th>Train F1</th>\n",
       "      <th>Test Roc Auc</th>\n",
       "      <th>Train Roc Auc</th>\n",
       "    </tr>\n",
       "    <tr>\n",
       "      <th>Model</th>\n",
       "      <th></th>\n",
       "      <th></th>\n",
       "      <th></th>\n",
       "      <th></th>\n",
       "      <th></th>\n",
       "      <th></th>\n",
       "    </tr>\n",
       "  </thead>\n",
       "  <tbody>\n",
       "    <tr>\n",
       "      <th>Logistic Regression</th>\n",
       "      <td>0.482973</td>\n",
       "      <td>0.482973</td>\n",
       "      <td>0.584092</td>\n",
       "      <td>0.584128</td>\n",
       "      <td>0.700035</td>\n",
       "      <td>0.700491</td>\n",
       "    </tr>\n",
       "    <tr>\n",
       "      <th>Tuned Logistic Regression</th>\n",
       "      <td>0.482973</td>\n",
       "      <td>0.482973</td>\n",
       "      <td>0.584092</td>\n",
       "      <td>0.584128</td>\n",
       "      <td>0.700027</td>\n",
       "      <td>0.700489</td>\n",
       "    </tr>\n",
       "    <tr>\n",
       "      <th>Decision Tree</th>\n",
       "      <td>0.484776</td>\n",
       "      <td>0.494066</td>\n",
       "      <td>0.581709</td>\n",
       "      <td>0.592603</td>\n",
       "      <td>0.691312</td>\n",
       "      <td>0.714736</td>\n",
       "    </tr>\n",
       "    <tr>\n",
       "      <th>Tuned Decision Tree</th>\n",
       "      <td>0.485276</td>\n",
       "      <td>0.485727</td>\n",
       "      <td>0.584777</td>\n",
       "      <td>0.585526</td>\n",
       "      <td>0.696749</td>\n",
       "      <td>0.705485</td>\n",
       "    </tr>\n",
       "    <tr>\n",
       "      <th>Random Forest</th>\n",
       "      <td>0.488382</td>\n",
       "      <td>0.496795</td>\n",
       "      <td>0.583760</td>\n",
       "      <td>0.593933</td>\n",
       "      <td>0.691192</td>\n",
       "      <td>0.714471</td>\n",
       "    </tr>\n",
       "    <tr>\n",
       "      <th>Tuned Forest</th>\n",
       "      <td>0.482973</td>\n",
       "      <td>0.483073</td>\n",
       "      <td>0.584057</td>\n",
       "      <td>0.584241</td>\n",
       "      <td>0.698379</td>\n",
       "      <td>0.707647</td>\n",
       "    </tr>\n",
       "  </tbody>\n",
       "</table>\n",
       "</div>"
      ],
      "text/plain": [
       "                           Test Recall  Train Recall   Test F1  Train F1  \\\n",
       "Model                                                                      \n",
       "Logistic Regression           0.482973      0.482973  0.584092  0.584128   \n",
       "Tuned Logistic Regression     0.482973      0.482973  0.584092  0.584128   \n",
       "Decision Tree                 0.484776      0.494066  0.581709  0.592603   \n",
       "Tuned Decision Tree           0.485276      0.485727  0.584777  0.585526   \n",
       "Random Forest                 0.488382      0.496795  0.583760  0.593933   \n",
       "Tuned Forest                  0.482973      0.483073  0.584057  0.584241   \n",
       "\n",
       "                           Test Roc Auc  Train Roc Auc  \n",
       "Model                                                   \n",
       "Logistic Regression            0.700035       0.700491  \n",
       "Tuned Logistic Regression      0.700027       0.700489  \n",
       "Decision Tree                  0.691312       0.714736  \n",
       "Tuned Decision Tree            0.696749       0.705485  \n",
       "Random Forest                  0.691192       0.714471  \n",
       "Tuned Forest                   0.698379       0.707647  "
      ]
     },
     "execution_count": 27,
     "metadata": {},
     "output_type": "execute_result"
    }
   ],
   "source": [
    "model_6 = 'Tuned Forest'\n",
    "tuned_forest = random_search_rf.best_estimator_\n",
    "cv_tuned_forest, conf_mat_tuned_forest = cv_conf_mat(tuned_forest, model_6, X_train, y_train)\n",
    "stats_df = pd.concat([stats_df, cv_tuned_forest])\n",
    "\n",
    "plot_conf_mat(conf_mat_tuned_forest)\n",
    "stats_df"
   ]
  },
  {
   "cell_type": "code",
   "execution_count": 28,
   "metadata": {},
   "outputs": [
    {
     "data": {
      "text/plain": [
       "20"
      ]
     },
     "execution_count": 28,
     "metadata": {},
     "output_type": "execute_result"
    }
   ],
   "source": [
    "new_features = chosen_features.copy()\n",
    "new_features += [\n",
    "    col for col in train_df_encoded.columns if 'opinion' in col or 'education' in col or col == 'h1n1_vaccine'\n",
    "]\n",
    "\n",
    "len(new_features)"
   ]
  },
  {
   "cell_type": "code",
   "execution_count": 29,
   "metadata": {},
   "outputs": [
    {
     "data": {
      "image/png": "[encoded data removed]",
      "text/plain": [
       "<Figure size 432x288 with 2 Axes>"
      ]
     },
     "metadata": {
      "needs_background": "light"
     },
     "output_type": "display_data"
    },
    {
     "data": {
      "text/html": [
       "<div>\n",
       "<style scoped>\n",
       "    .dataframe tbody tr th:only-of-type {\n",
       "        vertical-align: middle;\n",
       "    }\n",
       "\n",
       "    .dataframe tbody tr th {\n",
       "        vertical-align: top;\n",
       "    }\n",
       "\n",
       "    .dataframe thead th {\n",
       "        text-align: right;\n",
       "    }\n",
       "</style>\n",
       "<table border=\"1\" class=\"dataframe\">\n",
       "  <thead>\n",
       "    <tr style=\"text-align: right;\">\n",
       "      <th></th>\n",
       "      <th>Test Recall</th>\n",
       "      <th>Train Recall</th>\n",
       "      <th>Test F1</th>\n",
       "      <th>Train F1</th>\n",
       "      <th>Test Roc Auc</th>\n",
       "      <th>Train Roc Auc</th>\n",
       "    </tr>\n",
       "    <tr>\n",
       "      <th>Model</th>\n",
       "      <th></th>\n",
       "      <th></th>\n",
       "      <th></th>\n",
       "      <th></th>\n",
       "      <th></th>\n",
       "      <th></th>\n",
       "    </tr>\n",
       "  </thead>\n",
       "  <tbody>\n",
       "    <tr>\n",
       "      <th>Logistic Regression</th>\n",
       "      <td>0.482973</td>\n",
       "      <td>0.482973</td>\n",
       "      <td>0.584092</td>\n",
       "      <td>0.584128</td>\n",
       "      <td>0.700035</td>\n",
       "      <td>0.700491</td>\n",
       "    </tr>\n",
       "    <tr>\n",
       "      <th>Tuned Logistic Regression</th>\n",
       "      <td>0.482973</td>\n",
       "      <td>0.482973</td>\n",
       "      <td>0.584092</td>\n",
       "      <td>0.584128</td>\n",
       "      <td>0.700027</td>\n",
       "      <td>0.700489</td>\n",
       "    </tr>\n",
       "    <tr>\n",
       "      <th>Decision Tree</th>\n",
       "      <td>0.484776</td>\n",
       "      <td>0.494066</td>\n",
       "      <td>0.581709</td>\n",
       "      <td>0.592603</td>\n",
       "      <td>0.691312</td>\n",
       "      <td>0.714736</td>\n",
       "    </tr>\n",
       "    <tr>\n",
       "      <th>Tuned Decision Tree</th>\n",
       "      <td>0.485276</td>\n",
       "      <td>0.485727</td>\n",
       "      <td>0.584777</td>\n",
       "      <td>0.585526</td>\n",
       "      <td>0.696749</td>\n",
       "      <td>0.705485</td>\n",
       "    </tr>\n",
       "    <tr>\n",
       "      <th>Random Forest</th>\n",
       "      <td>0.488382</td>\n",
       "      <td>0.496795</td>\n",
       "      <td>0.583760</td>\n",
       "      <td>0.593933</td>\n",
       "      <td>0.691192</td>\n",
       "      <td>0.714471</td>\n",
       "    </tr>\n",
       "    <tr>\n",
       "      <th>Tuned Forest</th>\n",
       "      <td>0.482973</td>\n",
       "      <td>0.483073</td>\n",
       "      <td>0.584057</td>\n",
       "      <td>0.584241</td>\n",
       "      <td>0.698379</td>\n",
       "      <td>0.707647</td>\n",
       "    </tr>\n",
       "    <tr>\n",
       "      <th>Random Forest (New Features)</th>\n",
       "      <td>0.731069</td>\n",
       "      <td>0.947541</td>\n",
       "      <td>0.735706</td>\n",
       "      <td>0.956897</td>\n",
       "      <td>0.826883</td>\n",
       "      <td>0.992852</td>\n",
       "    </tr>\n",
       "  </tbody>\n",
       "</table>\n",
       "</div>"
      ],
      "text/plain": [
       "                              Test Recall  Train Recall   Test F1  Train F1  \\\n",
       "Model                                                                         \n",
       "Logistic Regression              0.482973      0.482973  0.584092  0.584128   \n",
       "Tuned Logistic Regression        0.482973      0.482973  0.584092  0.584128   \n",
       "Decision Tree                    0.484776      0.494066  0.581709  0.592603   \n",
       "Tuned Decision Tree              0.485276      0.485727  0.584777  0.585526   \n",
       "Random Forest                    0.488382      0.496795  0.583760  0.593933   \n",
       "Tuned Forest                     0.482973      0.483073  0.584057  0.584241   \n",
       "Random Forest (New Features)     0.731069      0.947541  0.735706  0.956897   \n",
       "\n",
       "                              Test Roc Auc  Train Roc Auc  \n",
       "Model                                                      \n",
       "Logistic Regression               0.700035       0.700491  \n",
       "Tuned Logistic Regression         0.700027       0.700489  \n",
       "Decision Tree                     0.691312       0.714736  \n",
       "Tuned Decision Tree               0.696749       0.705485  \n",
       "Random Forest                     0.691192       0.714471  \n",
       "Tuned Forest                      0.698379       0.707647  \n",
       "Random Forest (New Features)      0.826883       0.992852  "
      ]
     },
     "execution_count": 29,
     "metadata": {},
     "output_type": "execute_result"
    }
   ],
   "source": [
    "model_7 = 'Random Forest (New Features)'\n",
    "X_new = train_df_encoded[new_features].copy()\n",
    "\n",
    "X_train_new, X_test_new, _, _ = train_test_split(X_new, y, random_state=seed, test_size=test_size)\n",
    "X_train_new, X_test_new = simple_impute(X_train_new, X_test_new)\n",
    "\n",
    "cv_forest_new_features, conf_mat_forest_new_features = cv_conf_mat(\n",
    "    forest_model, model_7, X_train_new, y_train\n",
    ")\n",
    "stats_df = pd.concat([stats_df, cv_forest_new_features])\n",
    "plot_conf_mat(conf_mat_forest_new_features)\n",
    "stats_df"
   ]
  },
  {
   "cell_type": "code",
   "execution_count": 30,
   "metadata": {},
   "outputs": [],
   "source": [
    "random_search_rf.fit(X_train_new, y_train);"
   ]
  },
  {
   "cell_type": "code",
   "execution_count": 31,
   "metadata": {},
   "outputs": [
    {
     "data": {
      "image/png": "[encoded data removed]",
      "text/plain": [
       "<Figure size 432x288 with 2 Axes>"
      ]
     },
     "metadata": {
      "needs_background": "light"
     },
     "output_type": "display_data"
    },
    {
     "data": {
      "text/html": [
       "<div>\n",
       "<style scoped>\n",
       "    .dataframe tbody tr th:only-of-type {\n",
       "        vertical-align: middle;\n",
       "    }\n",
       "\n",
       "    .dataframe tbody tr th {\n",
       "        vertical-align: top;\n",
       "    }\n",
       "\n",
       "    .dataframe thead th {\n",
       "        text-align: right;\n",
       "    }\n",
       "</style>\n",
       "<table border=\"1\" class=\"dataframe\">\n",
       "  <thead>\n",
       "    <tr style=\"text-align: right;\">\n",
       "      <th></th>\n",
       "      <th>Test Recall</th>\n",
       "      <th>Train Recall</th>\n",
       "      <th>Test F1</th>\n",
       "      <th>Train F1</th>\n",
       "      <th>Test Roc Auc</th>\n",
       "      <th>Train Roc Auc</th>\n",
       "    </tr>\n",
       "    <tr>\n",
       "      <th>Model</th>\n",
       "      <th></th>\n",
       "      <th></th>\n",
       "      <th></th>\n",
       "      <th></th>\n",
       "      <th></th>\n",
       "      <th></th>\n",
       "    </tr>\n",
       "  </thead>\n",
       "  <tbody>\n",
       "    <tr>\n",
       "      <th>Logistic Regression</th>\n",
       "      <td>0.482973</td>\n",
       "      <td>0.482973</td>\n",
       "      <td>0.584092</td>\n",
       "      <td>0.584128</td>\n",
       "      <td>0.700035</td>\n",
       "      <td>0.700491</td>\n",
       "    </tr>\n",
       "    <tr>\n",
       "      <th>Tuned Logistic Regression</th>\n",
       "      <td>0.482973</td>\n",
       "      <td>0.482973</td>\n",
       "      <td>0.584092</td>\n",
       "      <td>0.584128</td>\n",
       "      <td>0.700027</td>\n",
       "      <td>0.700489</td>\n",
       "    </tr>\n",
       "    <tr>\n",
       "      <th>Decision Tree</th>\n",
       "      <td>0.484776</td>\n",
       "      <td>0.494066</td>\n",
       "      <td>0.581709</td>\n",
       "      <td>0.592603</td>\n",
       "      <td>0.691312</td>\n",
       "      <td>0.714736</td>\n",
       "    </tr>\n",
       "    <tr>\n",
       "      <th>Tuned Decision Tree</th>\n",
       "      <td>0.485276</td>\n",
       "      <td>0.485727</td>\n",
       "      <td>0.584777</td>\n",
       "      <td>0.585526</td>\n",
       "      <td>0.696749</td>\n",
       "      <td>0.705485</td>\n",
       "    </tr>\n",
       "    <tr>\n",
       "      <th>Random Forest</th>\n",
       "      <td>0.488382</td>\n",
       "      <td>0.496795</td>\n",
       "      <td>0.583760</td>\n",
       "      <td>0.593933</td>\n",
       "      <td>0.691192</td>\n",
       "      <td>0.714471</td>\n",
       "    </tr>\n",
       "    <tr>\n",
       "      <th>Tuned Forest</th>\n",
       "      <td>0.482973</td>\n",
       "      <td>0.483073</td>\n",
       "      <td>0.584057</td>\n",
       "      <td>0.584241</td>\n",
       "      <td>0.698379</td>\n",
       "      <td>0.707647</td>\n",
       "    </tr>\n",
       "    <tr>\n",
       "      <th>Random Forest (New Features)</th>\n",
       "      <td>0.731069</td>\n",
       "      <td>0.947541</td>\n",
       "      <td>0.735706</td>\n",
       "      <td>0.956897</td>\n",
       "      <td>0.826883</td>\n",
       "      <td>0.992852</td>\n",
       "    </tr>\n",
       "    <tr>\n",
       "      <th>Tuned Random Forest (New Features)</th>\n",
       "      <td>0.728966</td>\n",
       "      <td>0.733248</td>\n",
       "      <td>0.754094</td>\n",
       "      <td>0.758665</td>\n",
       "      <td>0.851349</td>\n",
       "      <td>0.856939</td>\n",
       "    </tr>\n",
       "  </tbody>\n",
       "</table>\n",
       "</div>"
      ],
      "text/plain": [
       "                                    Test Recall  Train Recall   Test F1  \\\n",
       "Model                                                                     \n",
       "Logistic Regression                    0.482973      0.482973  0.584092   \n",
       "Tuned Logistic Regression              0.482973      0.482973  0.584092   \n",
       "Decision Tree                          0.484776      0.494066  0.581709   \n",
       "Tuned Decision Tree                    0.485276      0.485727  0.584777   \n",
       "Random Forest                          0.488382      0.496795  0.583760   \n",
       "Tuned Forest                           0.482973      0.483073  0.584057   \n",
       "Random Forest (New Features)           0.731069      0.947541  0.735706   \n",
       "Tuned Random Forest (New Features)     0.728966      0.733248  0.754094   \n",
       "\n",
       "                                    Train F1  Test Roc Auc  Train Roc Auc  \n",
       "Model                                                                      \n",
       "Logistic Regression                 0.584128      0.700035       0.700491  \n",
       "Tuned Logistic Regression           0.584128      0.700027       0.700489  \n",
       "Decision Tree                       0.592603      0.691312       0.714736  \n",
       "Tuned Decision Tree                 0.585526      0.696749       0.705485  \n",
       "Random Forest                       0.593933      0.691192       0.714471  \n",
       "Tuned Forest                        0.584241      0.698379       0.707647  \n",
       "Random Forest (New Features)        0.956897      0.826883       0.992852  \n",
       "Tuned Random Forest (New Features)  0.758665      0.851349       0.856939  "
      ]
     },
     "execution_count": 31,
     "metadata": {},
     "output_type": "execute_result"
    }
   ],
   "source": [
    "model_8 = 'Tuned Random Forest (New Features)'\n",
    "tuned_forest_model = random_search_rf.best_estimator_\n",
    "\n",
    "cv_tuned_forest_new_features, conf_mat_tuned_forest_new_features = cv_conf_mat(\n",
    "    tuned_forest_model, model_8, X_train_new, y_train\n",
    ")\n",
    "\n",
    "stats_df = pd.concat([stats_df, cv_tuned_forest_new_features])\n",
    "\n",
    "plot_conf_mat(conf_mat_tuned_forest_new_features)\n",
    "stats_df"
   ]
  },
  {
   "cell_type": "code",
   "execution_count": 35,
   "metadata": {},
   "outputs": [
    {
     "data": {
      "text/plain": [
       "Index(['Logistic Regression', 'Tuned Logistic Regression', 'Decision Tree',\n",
       "       'Tuned Decision Tree', 'Random Forest', 'Tuned Forest',\n",
       "       'Random Forest (New Features)', 'Tuned Random Forest (New Features)'],\n",
       "      dtype='object', name='Model')"
      ]
     },
     "execution_count": 35,
     "metadata": {},
     "output_type": "execute_result"
    }
   ],
   "source": [
    "stats_df.index"
   ]
  },
  {
   "cell_type": "code",
   "execution_count": 32,
   "metadata": {},
   "outputs": [
    {
     "name": "stdout",
     "output_type": "stream",
     "text": [
      "Recall Score for Tuned Random Forest Model with New Features:\t0.7742906276870163\n",
      "Accuracy Score for Tuned Random Forest Model with New Features:\t0.7800449269936354\n"
     ]
    }
   ],
   "source": [
    "from sklearn.metrics import recall_score, accuracy_score\n",
    "\n",
    "y_pred = tuned_forest_model.predict(X_test_new)\n",
    "test_recall = recall_score(y_pred, y_test)\n",
    "test_accuracy = accuracy_score(y_pred, y_test)\n",
    "print(f'''Recall Score for Tuned Random Forest Model with New Features:\\t{test_recall}\n",
    "Accuracy Score for Tuned Random Forest Model with New Features:\\t{test_accuracy}''')"
   ]
  },
  {
   "cell_type": "code",
   "execution_count": 33,
   "metadata": {},
   "outputs": [],
   "source": [
    "stats_df.to_csv('model_stats.csv')"
   ]
  },
  {
   "cell_type": "code",
   "execution_count": null,
   "metadata": {},
   "outputs": [],
   "source": []
  }
 ],
 "metadata": {
  "kernelspec": {
   "display_name": "Python 3",
   "language": "python",
   "name": "python3"
  },
  "language_info": {
   "codemirror_mode": {
    "name": "ipython",
    "version": 3
   },
   "file_extension": ".py",
   "mimetype": "text/x-python",
   "name": "python",
   "nbconvert_exporter": "python",
   "pygments_lexer": "ipython3",
   "version": "3.8.5"
  }
 },
 "nbformat": 4,
 "nbformat_minor": 2
}
