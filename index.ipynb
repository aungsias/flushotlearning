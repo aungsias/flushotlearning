{
 "cells": [
  {
   "cell_type": "markdown",
   "metadata": {},
   "source": [
    "## Introduction \n",
    "\n",
    "Vaccines have long been a cornerstone of public health, shielding individuals and entire communities from a wide array of infectious diseases. Among these, the ongoing efforts to immunize against seasonal influenza stand out as a vital and complex undertaking. Unlike specific pandemic strains such as the 2009 H1N1 \"swine flu,\" seasonal flu is a persistent and annually recurring challenge, necessitating vigilance and adaptation by medical professionals every year. Seasonal influenza vaccines are developed and distributed on an annual basis to combat the most common flu strains predicted to circulate during the upcoming flu season. Scientists and researchers analyze global flu trends, collecting samples and data to determine which strains are most likely to pose a threat. The composition of the seasonal flu vaccine is then tailored each year based on these predictions, making it a unique and dynamic tool in the fight against influenza.\n",
    "\n",
    "In the United States, a coordinated effort involving the government, healthcare providers, public health organizations, and even private companies is launched each year to promote and provide seasonal flu vaccines. This expansive campaign includes public education, accessibility initiatives, and collaboration with healthcare professionals to ensure that vaccines reach as many people as possible. Guiding these efforts are robust data collection and analysis, including surveys and studies that closely monitor vaccination rates. One such resource is the National Seasonal Flu Survey, a comprehensive effort to gather information about individuals' vaccination status, as well as insights into their lives, opinions, and behaviors related to vaccination. In this analysis, we will delve into the data from this survey, applying statistical and analytical techniques to uncover patterns and trends in seasonal flu vaccination. By understanding the factors that influence people's decisions to get vaccinated, such as age, location, education, and beliefs about vaccines, we can craft targeted strategies to increase vaccination rates."
   ]
  },
  {
   "cell_type": "markdown",
   "metadata": {},
   "source": [
    "## The Data\n",
    "\n",
    "The dataset utilized in this project originates from the National 2009 H1N1 Flu Survey (NHFS), conducted during the 2009-10 flu season. This telephone survey was designed to monitor influenza immunization coverage in the United States, specifically targeting individuals aged 6 months or older. A collaboration between the National Center for Immunization and Respiratory Diseases (NCIRD) and the National Center for Health Statistics (NCHS) under the Centers for Disease Control and Prevention (CDC), the NHFS collected information from October 2009 to June 2010. Its primary focus was to produce timely estimates of vaccination coverage rates for both the monovalent pH1N1 and trivalent seasonal influenza vaccines during the 2009-2010 flu season in response to the H1N1 pandemic. The CDC continues to monitor seasonal flu vaccination through other ongoing annual phone surveys, but the NHFS stands as a one-time survey created for this specific purpose.\n",
    "\n",
    "For our exploration we're given three CSV's:\n",
    "1. **Training Labels**: This one holds the binary labels we'll be training our model(s) to predict. There are two target labels, `'h1n1_vaccine'` and '`seasonal_vaccine'`— for this analysis we're only concerned with the latter. A $0$ indicates that the given respondent did not receive the respective vaccine while a $1$ indicates that the given respondent received the respective vaccine. This file shares the `'respondent_id'` column with the Training Features CSV.\n",
    "\n",
    "2. **Training Features**: These are the features we'll be using to predict the probability of a respondent receiving a vaccine. There are 35 features and each is a response to a survey question. Features comprise various topics, such as behavioral (whether a respondent touches their face, washes their hand, etc.), opinion (whether the respondent believed the h1n1 vaccine was effective, etc.), and demographic.\n",
    "\n",
    "3. **Testing Features**: These features relate to the respondents for whom we will be predicting the likelihood of receiving the vaccine.\n",
    "\n",
    "Let's go ahead and import the necessary imports and load in our data so that we can start cleaning it."
   ]
  },
  {
   "cell_type": "markdown",
   "metadata": {},
   "source": [
    "## Exploratory Data Analysis"
   ]
  },
  {
   "cell_type": "markdown",
   "metadata": {},
   "source": [
    "### Loading the Data"
   ]
  },
  {
   "cell_type": "code",
   "execution_count": 1,
   "metadata": {},
   "outputs": [],
   "source": [
    "import pandas as pd\n",
    "import numpy as np\n",
    "import matplotlib.pyplot as plt\n",
    "import seaborn as sns\n",
    "\n",
    "sns.set_style('whitegrid')\n",
    "plt.rcParams['font.size'] = 12\n",
    "plt.rcParams['axes.edgecolor'] = 'black'"
   ]
  },
  {
   "cell_type": "code",
   "execution_count": 2,
   "metadata": {},
   "outputs": [],
   "source": [
    "# Load in data\n",
    "train_features = pd.read_csv('data/training_set_features.csv')\n",
    "train_labels = pd.read_csv('data/training_set_labels.csv')\n",
    "\n",
    "train_df = pd.merge(train_labels, train_features, on='respondent_id')\n",
    "train_df.set_index('respondent_id', inplace=True)"
   ]
  },
  {
   "cell_type": "code",
   "execution_count": 3,
   "metadata": {},
   "outputs": [
    {
     "name": "stdout",
     "output_type": "stream",
     "text": [
      "train_df.shape: (26707, 37)\n"
     ]
    }
   ],
   "source": [
    "# Examine the dataset's shape\n",
    "print(f'train_df.shape: {train_df.shape}')"
   ]
  },
  {
   "cell_type": "code",
   "execution_count": 4,
   "metadata": {},
   "outputs": [
    {
     "data": {
      "text/plain": [
       "h1n1_vaccine                     int64\n",
       "seasonal_vaccine                 int64\n",
       "h1n1_concern                   float64\n",
       "h1n1_knowledge                 float64\n",
       "behavioral_antiviral_meds      float64\n",
       "behavioral_avoidance           float64\n",
       "behavioral_face_mask           float64\n",
       "behavioral_wash_hands          float64\n",
       "behavioral_large_gatherings    float64\n",
       "behavioral_outside_home        float64\n",
       "behavioral_touch_face          float64\n",
       "doctor_recc_h1n1               float64\n",
       "doctor_recc_seasonal           float64\n",
       "chronic_med_condition          float64\n",
       "child_under_6_months           float64\n",
       "health_worker                  float64\n",
       "health_insurance               float64\n",
       "opinion_h1n1_vacc_effective    float64\n",
       "opinion_h1n1_risk              float64\n",
       "opinion_h1n1_sick_from_vacc    float64\n",
       "opinion_seas_vacc_effective    float64\n",
       "opinion_seas_risk              float64\n",
       "opinion_seas_sick_from_vacc    float64\n",
       "age_group                       object\n",
       "education                       object\n",
       "race                            object\n",
       "sex                             object\n",
       "income_poverty                  object\n",
       "marital_status                  object\n",
       "rent_or_own                     object\n",
       "employment_status               object\n",
       "hhs_geo_region                  object\n",
       "census_msa                      object\n",
       "household_adults               float64\n",
       "household_children             float64\n",
       "employment_industry             object\n",
       "employment_occupation           object\n",
       "dtype: object"
      ]
     },
     "execution_count": 4,
     "metadata": {},
     "output_type": "execute_result"
    }
   ],
   "source": [
    "# Examine the dataset's datatypes\n",
    "train_df.dtypes"
   ]
  },
  {
   "cell_type": "markdown",
   "metadata": {},
   "source": [
    "### Choosing our target"
   ]
  },
  {
   "cell_type": "code",
   "execution_count": 5,
   "metadata": {},
   "outputs": [
    {
     "name": "stdout",
     "output_type": "stream",
     "text": [
      "0    14272\n",
      "1    12435\n",
      "Name: seasonal_vaccine, dtype: int64\n",
      "0    21033\n",
      "1     5674\n",
      "Name: h1n1_vaccine, dtype: int64\n"
     ]
    }
   ],
   "source": [
    "# Examine the vaccination value counts\n",
    "for vaccine in ['seasonal_vaccine', 'h1n1_vaccine']:\n",
    "    print(train_df[vaccine].value_counts())\n",
    "\n",
    "# Given that seasonal vaccine has a better class balance, we'll choose that as our target"
   ]
  },
  {
   "cell_type": "markdown",
   "metadata": {},
   "source": [
    "### Handling Nulls"
   ]
  },
  {
   "cell_type": "code",
   "execution_count": 6,
   "metadata": {},
   "outputs": [
    {
     "data": {
      "text/plain": [
       "h1n1_vaccine                       0\n",
       "seasonal_vaccine                   0\n",
       "h1n1_concern                      92\n",
       "h1n1_knowledge                   116\n",
       "behavioral_antiviral_meds         71\n",
       "behavioral_avoidance             208\n",
       "behavioral_face_mask              19\n",
       "behavioral_wash_hands             42\n",
       "behavioral_large_gatherings       87\n",
       "behavioral_outside_home           82\n",
       "behavioral_touch_face            128\n",
       "doctor_recc_h1n1                2160\n",
       "doctor_recc_seasonal            2160\n",
       "chronic_med_condition            971\n",
       "child_under_6_months             820\n",
       "health_worker                    804\n",
       "health_insurance               12274\n",
       "opinion_h1n1_vacc_effective      391\n",
       "opinion_h1n1_risk                388\n",
       "opinion_h1n1_sick_from_vacc      395\n",
       "opinion_seas_vacc_effective      462\n",
       "opinion_seas_risk                514\n",
       "opinion_seas_sick_from_vacc      537\n",
       "age_group                          0\n",
       "education                       1407\n",
       "race                               0\n",
       "sex                                0\n",
       "income_poverty                  4423\n",
       "marital_status                  1408\n",
       "rent_or_own                     2042\n",
       "employment_status               1463\n",
       "hhs_geo_region                     0\n",
       "census_msa                         0\n",
       "household_adults                 249\n",
       "household_children               249\n",
       "employment_industry            13330\n",
       "employment_occupation          13470\n",
       "dtype: int64"
      ]
     },
     "execution_count": 6,
     "metadata": {},
     "output_type": "execute_result"
    }
   ],
   "source": [
    "train_df.isnull().sum()"
   ]
  },
  {
   "cell_type": "code",
   "execution_count": 7,
   "metadata": {},
   "outputs": [
    {
     "data": {
      "text/plain": [
       "health_insurance         0.459580\n",
       "employment_industry      0.499120\n",
       "employment_occupation    0.504362\n",
       "dtype: float64"
      ]
     },
     "execution_count": 7,
     "metadata": {},
     "output_type": "execute_result"
    }
   ],
   "source": [
    "missing_data = train_df.isnull().sum()\n",
    "missing_data_pct = missing_data / len(train_df)\n",
    "missing_data_pct[missing_data_pct > .3]"
   ]
  },
  {
   "cell_type": "code",
   "execution_count": 8,
   "metadata": {},
   "outputs": [
    {
     "data": {
      "text/plain": [
       "(26707, 35)"
      ]
     },
     "execution_count": 8,
     "metadata": {},
     "output_type": "execute_result"
    }
   ],
   "source": [
    "train_df['health_insurance'].fillna(0, inplace=True)\n",
    "train_df.drop(columns=['employment_industry', 'employment_occupation'], inplace=True)\n",
    "train_df.shape"
   ]
  },
  {
   "cell_type": "markdown",
   "metadata": {},
   "source": [
    "### Reconciling Datatypes"
   ]
  },
  {
   "cell_type": "code",
   "execution_count": 9,
   "metadata": {},
   "outputs": [
    {
     "data": {
      "text/plain": [
       "['age_group',\n",
       " 'education',\n",
       " 'race',\n",
       " 'sex',\n",
       " 'income_poverty',\n",
       " 'marital_status',\n",
       " 'rent_or_own',\n",
       " 'employment_status',\n",
       " 'hhs_geo_region',\n",
       " 'census_msa']"
      ]
     },
     "execution_count": 9,
     "metadata": {},
     "output_type": "execute_result"
    }
   ],
   "source": [
    "string_representations = [feature for feature in train_df.columns if train_df[feature].dtype == 'object']\n",
    "string_representations"
   ]
  },
  {
   "cell_type": "code",
   "execution_count": 10,
   "metadata": {},
   "outputs": [
    {
     "data": {
      "text/plain": [
       "age_group_18 - 34 Years                     uint8\n",
       "age_group_35 - 44 Years                     uint8\n",
       "age_group_45 - 54 Years                     uint8\n",
       "age_group_55 - 64 Years                     uint8\n",
       "age_group_65+ Years                         uint8\n",
       "education_12 Years                          uint8\n",
       "education_< 12 Years                        uint8\n",
       "education_College Graduate                  uint8\n",
       "education_Some College                      uint8\n",
       "race_Black                                  uint8\n",
       "race_Hispanic                               uint8\n",
       "race_Other or Multiple                      uint8\n",
       "race_White                                  uint8\n",
       "sex_Female                                  uint8\n",
       "sex_Male                                    uint8\n",
       "income_poverty_<= $75,000, Above Poverty    uint8\n",
       "income_poverty_> $75,000                    uint8\n",
       "income_poverty_Below Poverty                uint8\n",
       "marital_status_Married                      uint8\n",
       "marital_status_Not Married                  uint8\n",
       "rent_or_own_Own                             uint8\n",
       "rent_or_own_Rent                            uint8\n",
       "employment_status_Employed                  uint8\n",
       "employment_status_Not in Labor Force        uint8\n",
       "employment_status_Unemployed                uint8\n",
       "hhs_geo_region_atmpeygn                     uint8\n",
       "hhs_geo_region_bhuqouqj                     uint8\n",
       "hhs_geo_region_dqpwygqj                     uint8\n",
       "hhs_geo_region_fpwskwrf                     uint8\n",
       "hhs_geo_region_kbazzjca                     uint8\n",
       "hhs_geo_region_lrircsnp                     uint8\n",
       "hhs_geo_region_lzgpxyit                     uint8\n",
       "hhs_geo_region_mlyzmhmf                     uint8\n",
       "hhs_geo_region_oxchjgsf                     uint8\n",
       "hhs_geo_region_qufhixun                     uint8\n",
       "census_msa_MSA, Not Principle  City         uint8\n",
       "census_msa_MSA, Principle City              uint8\n",
       "census_msa_Non-MSA                          uint8\n",
       "dtype: object"
      ]
     },
     "execution_count": 10,
     "metadata": {},
     "output_type": "execute_result"
    }
   ],
   "source": [
    "train_df_encoded = pd.get_dummies(train_df, columns=string_representations)\n",
    "encoded_columns = [col for col in train_df_encoded.columns if any(col.startswith(str_col) for str_col in string_representations)]\n",
    "train_df_encoded[encoded_columns].dtypes"
   ]
  },
  {
   "cell_type": "code",
   "execution_count": 11,
   "metadata": {},
   "outputs": [
    {
     "data": {
      "text/plain": [
       "(26707, 63)"
      ]
     },
     "execution_count": 11,
     "metadata": {},
     "output_type": "execute_result"
    }
   ],
   "source": [
    "train_df_encoded.shape"
   ]
  },
  {
   "cell_type": "markdown",
   "metadata": {},
   "source": [
    "### Examining Feature Correlations"
   ]
  },
  {
   "cell_type": "code",
   "execution_count": 12,
   "metadata": {},
   "outputs": [
    {
     "name": "stdout",
     "output_type": "stream",
     "text": [
      "doctor_recc_seasonal         doctor_recc_h1n1                        0.591868\n",
      "behavioral_large_gatherings  behavioral_outside_home                 0.584085\n",
      "opinion_h1n1_risk            opinion_seas_risk                       0.564208\n",
      "age_group_65+ Years          employment_status_Not in Labor Force    0.498880\n",
      "opinion_seas_sick_from_vacc  opinion_h1n1_sick_from_vacc             0.491546\n",
      "dtype: float64\n"
     ]
    }
   ],
   "source": [
    "corr_mat = train_df_encoded.corr()\n",
    "corr_mat[corr_mat == 1] = np.nan\n",
    "five_most_correlated = corr_mat.unstack().sort_values(\n",
    "    ascending=False\n",
    ").drop_duplicates()[:5]\n",
    "\n",
    "print(five_most_correlated)"
   ]
  },
  {
   "cell_type": "code",
   "execution_count": 13,
   "metadata": {},
   "outputs": [
    {
     "data": {
      "image/png": "[encoded data removed]",
      "text/plain": [
       "<Figure size 720x504 with 2 Axes>"
      ]
     },
     "metadata": {},
     "output_type": "display_data"
    }
   ],
   "source": [
    "plt.figure(figsize=(10,7))\n",
    "sns.heatmap(train_df_encoded.corr(), cmap='Blues_r')\n",
    "plt.title('Correlation Heatmap of Features')\n",
    "plt.xticks([])\n",
    "plt.yticks([]);"
   ]
  },
  {
   "cell_type": "markdown",
   "metadata": {},
   "source": [
    "## Preparing for Model Building"
   ]
  },
  {
   "cell_type": "code",
   "execution_count": 14,
   "metadata": {},
   "outputs": [
    {
     "data": {
      "text/plain": [
       "((21365, 9), (5342, 9), (21365,), (5342,))"
      ]
     },
     "execution_count": 14,
     "metadata": {},
     "output_type": "execute_result"
    }
   ],
   "source": [
    "from sklearn.model_selection import train_test_split\n",
    "\n",
    "target = 'seasonal_vaccine' # We want to predict seasonal vaccine\n",
    "\n",
    "# We choose behavioral features + doctor recommendations for the vaccines as our features.\n",
    "chosen_features = [column for column in train_df if \"behavioral\" in column] + \\\n",
    "                  ['doctor_recc_h1n1' ,'doctor_recc_seasonal']\n",
    "\n",
    "X = train_df_encoded[chosen_features]\n",
    "y = train_df_encoded[target]\n",
    "\n",
    "seed = 42 # For reproducability\n",
    "test_size = .2 # 20% of our data will be in the testing set\n",
    "\n",
    "X_train, X_test, y_train, y_test = train_test_split(X, y, random_state=seed, test_size=test_size)\n",
    "\n",
    "X_train.shape, X_test.shape, y_train.shape, y_test.shape"
   ]
  },
  {
   "cell_type": "code",
   "execution_count": 15,
   "metadata": {},
   "outputs": [],
   "source": [
    "from sklearn.impute import SimpleImputer\n",
    "\n",
    "def simple_impute(*Xs):\n",
    "    results = []\n",
    "    imputer = SimpleImputer(strategy='most_frequent')\n",
    "    for X in Xs:\n",
    "        X_imputed = imputer.fit_transform(X)\n",
    "        X_imputed = pd.DataFrame(X_imputed, columns=X.columns)\n",
    "        results.append(X_imputed)\n",
    "    return tuple(results)"
   ]
  },
  {
   "cell_type": "code",
   "execution_count": 16,
   "metadata": {},
   "outputs": [
    {
     "name": "stdout",
     "output_type": "stream",
     "text": [
      "Null values in X_train: 0\n",
      "Null values in X_test: 0\n"
     ]
    }
   ],
   "source": [
    "X_train, X_test = simple_impute(X_train, X_test)\n",
    "\n",
    "print(f'Null values in X_train: {X_train.isnull().sum().sum()}')\n",
    "print(f'Null values in X_test: {X_test.isnull().sum().sum()}')"
   ]
  },
  {
   "cell_type": "code",
   "execution_count": 17,
   "metadata": {},
   "outputs": [
    {
     "name": "stdout",
     "output_type": "stream",
     "text": [
      "Null values in y_train: 0\n",
      "Null values in y_test: 0\n"
     ]
    }
   ],
   "source": [
    "print(f'Null values in y_train: {y_train.isnull().sum().sum()}')\n",
    "print(f'Null values in y_test: {y_test.isnull().sum().sum()}')"
   ]
  },
  {
   "cell_type": "markdown",
   "metadata": {},
   "source": [
    "## Building Models"
   ]
  },
  {
   "cell_type": "code",
   "execution_count": 18,
   "metadata": {},
   "outputs": [],
   "source": [
    "from sklearn.pipeline import make_pipeline\n",
    "from sklearn.linear_model import LogisticRegression\n",
    "from sklearn.preprocessing import StandardScaler\n",
    "from sklearn.dummy import DummyClassifier\n",
    "from model_iteration import ModelIteration\n",
    "\n",
    "iterations = ModelIteration()"
   ]
  },
  {
   "cell_type": "markdown",
   "metadata": {},
   "source": [
    "### Dummy Model: Dummy Model"
   ]
  },
  {
   "cell_type": "code",
   "execution_count": 19,
   "metadata": {},
   "outputs": [
    {
     "data": {
      "text/html": [
       "<div>\n",
       "<style scoped>\n",
       "    .dataframe tbody tr th:only-of-type {\n",
       "        vertical-align: middle;\n",
       "    }\n",
       "\n",
       "    .dataframe tbody tr th {\n",
       "        vertical-align: top;\n",
       "    }\n",
       "\n",
       "    .dataframe thead th {\n",
       "        text-align: right;\n",
       "    }\n",
       "</style>\n",
       "<table border=\"1\" class=\"dataframe\">\n",
       "  <thead>\n",
       "    <tr style=\"text-align: right;\">\n",
       "      <th></th>\n",
       "      <th>Test Recall</th>\n",
       "      <th>Train Recall</th>\n",
       "      <th>Test F1</th>\n",
       "      <th>Train F1</th>\n",
       "      <th>Test Roc Auc</th>\n",
       "      <th>Train Roc Auc</th>\n",
       "    </tr>\n",
       "    <tr>\n",
       "      <th>Model</th>\n",
       "      <th></th>\n",
       "      <th></th>\n",
       "      <th></th>\n",
       "      <th></th>\n",
       "      <th></th>\n",
       "      <th></th>\n",
       "    </tr>\n",
       "  </thead>\n",
       "  <tbody>\n",
       "    <tr>\n",
       "      <th>Dummy</th>\n",
       "      <td>0.0</td>\n",
       "      <td>0.0</td>\n",
       "      <td>0.0</td>\n",
       "      <td>0.0</td>\n",
       "      <td>0.5</td>\n",
       "      <td>0.5</td>\n",
       "    </tr>\n",
       "  </tbody>\n",
       "</table>\n",
       "</div>"
      ],
      "text/plain": [
       "       Test Recall  Train Recall  Test F1  Train F1  Test Roc Auc  \\\n",
       "Model                                                               \n",
       "Dummy          0.0           0.0      0.0       0.0           0.5   \n",
       "\n",
       "       Train Roc Auc  \n",
       "Model                 \n",
       "Dummy            0.5  "
      ]
     },
     "metadata": {},
     "output_type": "display_data"
    },
    {
     "data": {
      "image/png": "[encoded data removed]",
      "text/plain": [
       "<Figure size 432x288 with 2 Axes>"
      ]
     },
     "metadata": {},
     "output_type": "display_data"
    }
   ],
   "source": [
    "model_0 = 'Dummy'\n",
    "dummy_model = make_pipeline(StandardScaler(), DummyClassifier(strategy='most_frequent', random_state=seed))\n",
    "iterations.run_cv(model_0, dummy_model, X_train, y_train)\n",
    "\n",
    "iterations.get_stats()\n",
    "iterations.confusion(dummy_model, model_0, X_train, y_train)"
   ]
  },
  {
   "cell_type": "markdown",
   "metadata": {},
   "source": [
    "### Model 1: Simple Model (Logistic Regression)"
   ]
  },
  {
   "cell_type": "code",
   "execution_count": 20,
   "metadata": {},
   "outputs": [
    {
     "data": {
      "text/html": [
       "<div>\n",
       "<style scoped>\n",
       "    .dataframe tbody tr th:only-of-type {\n",
       "        vertical-align: middle;\n",
       "    }\n",
       "\n",
       "    .dataframe tbody tr th {\n",
       "        vertical-align: top;\n",
       "    }\n",
       "\n",
       "    .dataframe thead th {\n",
       "        text-align: right;\n",
       "    }\n",
       "</style>\n",
       "<table border=\"1\" class=\"dataframe\">\n",
       "  <thead>\n",
       "    <tr style=\"text-align: right;\">\n",
       "      <th></th>\n",
       "      <th>Test Recall</th>\n",
       "      <th>Train Recall</th>\n",
       "      <th>Test F1</th>\n",
       "      <th>Train F1</th>\n",
       "      <th>Test Roc Auc</th>\n",
       "      <th>Train Roc Auc</th>\n",
       "    </tr>\n",
       "    <tr>\n",
       "      <th>Model</th>\n",
       "      <th></th>\n",
       "      <th></th>\n",
       "      <th></th>\n",
       "      <th></th>\n",
       "      <th></th>\n",
       "      <th></th>\n",
       "    </tr>\n",
       "  </thead>\n",
       "  <tbody>\n",
       "    <tr>\n",
       "      <th>Dummy</th>\n",
       "      <td>0.000000</td>\n",
       "      <td>0.000000</td>\n",
       "      <td>0.000000</td>\n",
       "      <td>0.000000</td>\n",
       "      <td>0.500000</td>\n",
       "      <td>0.500000</td>\n",
       "    </tr>\n",
       "    <tr>\n",
       "      <th>Logistic Regression</th>\n",
       "      <td>0.482973</td>\n",
       "      <td>0.482973</td>\n",
       "      <td>0.584092</td>\n",
       "      <td>0.584128</td>\n",
       "      <td>0.700007</td>\n",
       "      <td>0.700489</td>\n",
       "    </tr>\n",
       "  </tbody>\n",
       "</table>\n",
       "</div>"
      ],
      "text/plain": [
       "                     Test Recall  Train Recall   Test F1  Train F1  \\\n",
       "Model                                                                \n",
       "Dummy                   0.000000      0.000000  0.000000  0.000000   \n",
       "Logistic Regression     0.482973      0.482973  0.584092  0.584128   \n",
       "\n",
       "                     Test Roc Auc  Train Roc Auc  \n",
       "Model                                             \n",
       "Dummy                    0.500000       0.500000  \n",
       "Logistic Regression      0.700007       0.700489  "
      ]
     },
     "metadata": {},
     "output_type": "display_data"
    },
    {
     "data": {
      "image/png": "[encoded data removed]",
      "text/plain": [
       "<Figure size 432x288 with 2 Axes>"
      ]
     },
     "metadata": {},
     "output_type": "display_data"
    }
   ],
   "source": [
    "model_1 = 'Logistic Regression'\n",
    "simple_model = make_pipeline(StandardScaler(), LogisticRegression(random_state=seed))\n",
    "iterations.run_cv(model_1, simple_model, X_train, y_train)\n",
    "\n",
    "iterations.get_stats()\n",
    "iterations.confusion(simple_model, model_1, X_train, y_train)"
   ]
  },
  {
   "cell_type": "markdown",
   "metadata": {},
   "source": [
    "### Model 2: Tuned Logistic Regression"
   ]
  },
  {
   "cell_type": "code",
   "execution_count": 21,
   "metadata": {},
   "outputs": [
    {
     "data": {
      "text/html": [
       "<div>\n",
       "<style scoped>\n",
       "    .dataframe tbody tr th:only-of-type {\n",
       "        vertical-align: middle;\n",
       "    }\n",
       "\n",
       "    .dataframe tbody tr th {\n",
       "        vertical-align: top;\n",
       "    }\n",
       "\n",
       "    .dataframe thead th {\n",
       "        text-align: right;\n",
       "    }\n",
       "</style>\n",
       "<table border=\"1\" class=\"dataframe\">\n",
       "  <thead>\n",
       "    <tr style=\"text-align: right;\">\n",
       "      <th></th>\n",
       "      <th>Test Recall</th>\n",
       "      <th>Train Recall</th>\n",
       "      <th>Test F1</th>\n",
       "      <th>Train F1</th>\n",
       "      <th>Test Roc Auc</th>\n",
       "      <th>Train Roc Auc</th>\n",
       "    </tr>\n",
       "    <tr>\n",
       "      <th>Model</th>\n",
       "      <th></th>\n",
       "      <th></th>\n",
       "      <th></th>\n",
       "      <th></th>\n",
       "      <th></th>\n",
       "      <th></th>\n",
       "    </tr>\n",
       "  </thead>\n",
       "  <tbody>\n",
       "    <tr>\n",
       "      <th>Dummy</th>\n",
       "      <td>0.000000</td>\n",
       "      <td>0.000000</td>\n",
       "      <td>0.000000</td>\n",
       "      <td>0.000000</td>\n",
       "      <td>0.500000</td>\n",
       "      <td>0.500000</td>\n",
       "    </tr>\n",
       "    <tr>\n",
       "      <th>Logistic Regression</th>\n",
       "      <td>0.482973</td>\n",
       "      <td>0.482973</td>\n",
       "      <td>0.584092</td>\n",
       "      <td>0.584128</td>\n",
       "      <td>0.700007</td>\n",
       "      <td>0.700489</td>\n",
       "    </tr>\n",
       "    <tr>\n",
       "      <th>Tuned Logistic Regression</th>\n",
       "      <td>0.482973</td>\n",
       "      <td>0.482973</td>\n",
       "      <td>0.584092</td>\n",
       "      <td>0.584128</td>\n",
       "      <td>0.666625</td>\n",
       "      <td>0.666625</td>\n",
       "    </tr>\n",
       "  </tbody>\n",
       "</table>\n",
       "</div>"
      ],
      "text/plain": [
       "                           Test Recall  Train Recall   Test F1  Train F1  \\\n",
       "Model                                                                      \n",
       "Dummy                         0.000000      0.000000  0.000000  0.000000   \n",
       "Logistic Regression           0.482973      0.482973  0.584092  0.584128   \n",
       "Tuned Logistic Regression     0.482973      0.482973  0.584092  0.584128   \n",
       "\n",
       "                           Test Roc Auc  Train Roc Auc  \n",
       "Model                                                   \n",
       "Dummy                          0.500000       0.500000  \n",
       "Logistic Regression            0.700007       0.700489  \n",
       "Tuned Logistic Regression      0.666625       0.666625  "
      ]
     },
     "metadata": {},
     "output_type": "display_data"
    },
    {
     "data": {
      "image/png": "[encoded data removed]",
      "text/plain": [
       "<Figure size 432x288 with 2 Axes>"
      ]
     },
     "metadata": {},
     "output_type": "display_data"
    }
   ],
   "source": [
    "param_grid_1 = {\n",
    "    'logisticregression__C': [0.001, 0.01, 0.1, 1, 10, 100],\n",
    "    'logisticregression__penalty': ['l1', 'l2'],\n",
    "    'logisticregression__solver': ['newton-cg', 'lbfgs', 'liblinear', 'sag', 'saga']\n",
    "}\n",
    "\n",
    "tuned_simple_model, tuned_simple_model_params = iterations.tune(\n",
    "    simple_model, param_grid_1, X_train, y_train\n",
    ")\n",
    "\n",
    "model_2 = 'Tuned Logistic Regression'\n",
    "iterations.run_cv(model_2, tuned_simple_model, X_train, y_train)\n",
    "\n",
    "iterations.get_stats()\n",
    "iterations.confusion(tuned_simple_model, model_2, X_train, y_train)"
   ]
  },
  {
   "cell_type": "code",
   "execution_count": 22,
   "metadata": {},
   "outputs": [
    {
     "name": "stdout",
     "output_type": "stream",
     "text": [
      "{'logisticregression__C': 0.001, 'logisticregression__penalty': 'l1', 'logisticregression__solver': 'liblinear'}\n"
     ]
    }
   ],
   "source": [
    "print(tuned_simple_model_params)"
   ]
  },
  {
   "cell_type": "markdown",
   "metadata": {},
   "source": [
    "### Model 3: Decision Tree"
   ]
  },
  {
   "cell_type": "code",
   "execution_count": 23,
   "metadata": {},
   "outputs": [
    {
     "data": {
      "text/html": [
       "<div>\n",
       "<style scoped>\n",
       "    .dataframe tbody tr th:only-of-type {\n",
       "        vertical-align: middle;\n",
       "    }\n",
       "\n",
       "    .dataframe tbody tr th {\n",
       "        vertical-align: top;\n",
       "    }\n",
       "\n",
       "    .dataframe thead th {\n",
       "        text-align: right;\n",
       "    }\n",
       "</style>\n",
       "<table border=\"1\" class=\"dataframe\">\n",
       "  <thead>\n",
       "    <tr style=\"text-align: right;\">\n",
       "      <th></th>\n",
       "      <th>Test Recall</th>\n",
       "      <th>Train Recall</th>\n",
       "      <th>Test F1</th>\n",
       "      <th>Train F1</th>\n",
       "      <th>Test Roc Auc</th>\n",
       "      <th>Train Roc Auc</th>\n",
       "    </tr>\n",
       "    <tr>\n",
       "      <th>Model</th>\n",
       "      <th></th>\n",
       "      <th></th>\n",
       "      <th></th>\n",
       "      <th></th>\n",
       "      <th></th>\n",
       "      <th></th>\n",
       "    </tr>\n",
       "  </thead>\n",
       "  <tbody>\n",
       "    <tr>\n",
       "      <th>Dummy</th>\n",
       "      <td>0.000000</td>\n",
       "      <td>0.000000</td>\n",
       "      <td>0.000000</td>\n",
       "      <td>0.000000</td>\n",
       "      <td>0.500000</td>\n",
       "      <td>0.500000</td>\n",
       "    </tr>\n",
       "    <tr>\n",
       "      <th>Logistic Regression</th>\n",
       "      <td>0.482973</td>\n",
       "      <td>0.482973</td>\n",
       "      <td>0.584092</td>\n",
       "      <td>0.584128</td>\n",
       "      <td>0.700007</td>\n",
       "      <td>0.700489</td>\n",
       "    </tr>\n",
       "    <tr>\n",
       "      <th>Tuned Logistic Regression</th>\n",
       "      <td>0.482973</td>\n",
       "      <td>0.482973</td>\n",
       "      <td>0.584092</td>\n",
       "      <td>0.584128</td>\n",
       "      <td>0.666625</td>\n",
       "      <td>0.666625</td>\n",
       "    </tr>\n",
       "    <tr>\n",
       "      <th>Decision Tree</th>\n",
       "      <td>0.484776</td>\n",
       "      <td>0.494066</td>\n",
       "      <td>0.581709</td>\n",
       "      <td>0.592603</td>\n",
       "      <td>0.691312</td>\n",
       "      <td>0.714736</td>\n",
       "    </tr>\n",
       "  </tbody>\n",
       "</table>\n",
       "</div>"
      ],
      "text/plain": [
       "                           Test Recall  Train Recall   Test F1  Train F1  \\\n",
       "Model                                                                      \n",
       "Dummy                         0.000000      0.000000  0.000000  0.000000   \n",
       "Logistic Regression           0.482973      0.482973  0.584092  0.584128   \n",
       "Tuned Logistic Regression     0.482973      0.482973  0.584092  0.584128   \n",
       "Decision Tree                 0.484776      0.494066  0.581709  0.592603   \n",
       "\n",
       "                           Test Roc Auc  Train Roc Auc  \n",
       "Model                                                   \n",
       "Dummy                          0.500000       0.500000  \n",
       "Logistic Regression            0.700007       0.700489  \n",
       "Tuned Logistic Regression      0.666625       0.666625  \n",
       "Decision Tree                  0.691312       0.714736  "
      ]
     },
     "metadata": {},
     "output_type": "display_data"
    },
    {
     "data": {
      "image/png": "[encoded data removed]",
      "text/plain": [
       "<Figure size 432x288 with 2 Axes>"
      ]
     },
     "metadata": {},
     "output_type": "display_data"
    }
   ],
   "source": [
    "from sklearn.tree import DecisionTreeClassifier\n",
    "\n",
    "model_3 = 'Decision Tree'\n",
    "tree_model = make_pipeline(StandardScaler(), DecisionTreeClassifier(random_state=seed))\n",
    "iterations.run_cv(model_3, tree_model, X_train, y_train)\n",
    "iterations.get_stats()\n",
    "iterations.confusion(simple_model, model_3, X_train, y_train)"
   ]
  },
  {
   "cell_type": "markdown",
   "metadata": {},
   "source": [
    "### Model 4: Tuned Decision Tree"
   ]
  },
  {
   "cell_type": "code",
   "execution_count": 24,
   "metadata": {},
   "outputs": [
    {
     "data": {
      "text/html": [
       "<div>\n",
       "<style scoped>\n",
       "    .dataframe tbody tr th:only-of-type {\n",
       "        vertical-align: middle;\n",
       "    }\n",
       "\n",
       "    .dataframe tbody tr th {\n",
       "        vertical-align: top;\n",
       "    }\n",
       "\n",
       "    .dataframe thead th {\n",
       "        text-align: right;\n",
       "    }\n",
       "</style>\n",
       "<table border=\"1\" class=\"dataframe\">\n",
       "  <thead>\n",
       "    <tr style=\"text-align: right;\">\n",
       "      <th></th>\n",
       "      <th>Test Recall</th>\n",
       "      <th>Train Recall</th>\n",
       "      <th>Test F1</th>\n",
       "      <th>Train F1</th>\n",
       "      <th>Test Roc Auc</th>\n",
       "      <th>Train Roc Auc</th>\n",
       "    </tr>\n",
       "    <tr>\n",
       "      <th>Model</th>\n",
       "      <th></th>\n",
       "      <th></th>\n",
       "      <th></th>\n",
       "      <th></th>\n",
       "      <th></th>\n",
       "      <th></th>\n",
       "    </tr>\n",
       "  </thead>\n",
       "  <tbody>\n",
       "    <tr>\n",
       "      <th>Dummy</th>\n",
       "      <td>0.000000</td>\n",
       "      <td>0.000000</td>\n",
       "      <td>0.000000</td>\n",
       "      <td>0.000000</td>\n",
       "      <td>0.500000</td>\n",
       "      <td>0.500000</td>\n",
       "    </tr>\n",
       "    <tr>\n",
       "      <th>Logistic Regression</th>\n",
       "      <td>0.482973</td>\n",
       "      <td>0.482973</td>\n",
       "      <td>0.584092</td>\n",
       "      <td>0.584128</td>\n",
       "      <td>0.700007</td>\n",
       "      <td>0.700489</td>\n",
       "    </tr>\n",
       "    <tr>\n",
       "      <th>Tuned Logistic Regression</th>\n",
       "      <td>0.482973</td>\n",
       "      <td>0.482973</td>\n",
       "      <td>0.584092</td>\n",
       "      <td>0.584128</td>\n",
       "      <td>0.666625</td>\n",
       "      <td>0.666625</td>\n",
       "    </tr>\n",
       "    <tr>\n",
       "      <th>Decision Tree</th>\n",
       "      <td>0.484776</td>\n",
       "      <td>0.494066</td>\n",
       "      <td>0.581709</td>\n",
       "      <td>0.592603</td>\n",
       "      <td>0.691312</td>\n",
       "      <td>0.714736</td>\n",
       "    </tr>\n",
       "    <tr>\n",
       "      <th>Tuned Decision Tree</th>\n",
       "      <td>0.493990</td>\n",
       "      <td>0.495092</td>\n",
       "      <td>0.588975</td>\n",
       "      <td>0.590767</td>\n",
       "      <td>0.695246</td>\n",
       "      <td>0.708621</td>\n",
       "    </tr>\n",
       "  </tbody>\n",
       "</table>\n",
       "</div>"
      ],
      "text/plain": [
       "                           Test Recall  Train Recall   Test F1  Train F1  \\\n",
       "Model                                                                      \n",
       "Dummy                         0.000000      0.000000  0.000000  0.000000   \n",
       "Logistic Regression           0.482973      0.482973  0.584092  0.584128   \n",
       "Tuned Logistic Regression     0.482973      0.482973  0.584092  0.584128   \n",
       "Decision Tree                 0.484776      0.494066  0.581709  0.592603   \n",
       "Tuned Decision Tree           0.493990      0.495092  0.588975  0.590767   \n",
       "\n",
       "                           Test Roc Auc  Train Roc Auc  \n",
       "Model                                                   \n",
       "Dummy                          0.500000       0.500000  \n",
       "Logistic Regression            0.700007       0.700489  \n",
       "Tuned Logistic Regression      0.666625       0.666625  \n",
       "Decision Tree                  0.691312       0.714736  \n",
       "Tuned Decision Tree            0.695246       0.708621  "
      ]
     },
     "metadata": {},
     "output_type": "display_data"
    },
    {
     "data": {
      "image/png": "[encoded data removed]",
      "text/plain": [
       "<Figure size 432x288 with 2 Axes>"
      ]
     },
     "metadata": {},
     "output_type": "display_data"
    }
   ],
   "source": [
    "param_grid_2 = {\n",
    "    'decisiontreeclassifier__max_depth': [None] + list(range(1, 101)),\n",
    "    'decisiontreeclassifier__min_samples_split': range(2, 101),\n",
    "    'decisiontreeclassifier__min_samples_leaf': range(1, 101),\n",
    "    'decisiontreeclassifier__criterion': ['gini', 'entropy']\n",
    "}\n",
    "\n",
    "tuned_tree_model, tuned_tree_model_params = iterations.tune(\n",
    "    tree_model, param_grid_2, X_train, y_train, random_state=seed, method='random'\n",
    ")\n",
    "\n",
    "model_4 = 'Tuned Decision Tree'\n",
    "iterations.run_cv(model_4, tuned_tree_model, X_train, y_train)\n",
    "\n",
    "iterations.get_stats()\n",
    "iterations.confusion(tuned_tree_model, model_4, X_train, y_train)"
   ]
  },
  {
   "cell_type": "code",
   "execution_count": 25,
   "metadata": {},
   "outputs": [
    {
     "name": "stdout",
     "output_type": "stream",
     "text": [
      "{'decisiontreeclassifier__min_samples_split': 83, 'decisiontreeclassifier__min_samples_leaf': 14, 'decisiontreeclassifier__max_depth': 11, 'decisiontreeclassifier__criterion': 'gini'}\n"
     ]
    }
   ],
   "source": [
    "print(tuned_tree_model_params)"
   ]
  },
  {
   "cell_type": "markdown",
   "metadata": {},
   "source": [
    "### Model 5: Random Forest"
   ]
  },
  {
   "cell_type": "code",
   "execution_count": 26,
   "metadata": {},
   "outputs": [
    {
     "data": {
      "text/html": [
       "<div>\n",
       "<style scoped>\n",
       "    .dataframe tbody tr th:only-of-type {\n",
       "        vertical-align: middle;\n",
       "    }\n",
       "\n",
       "    .dataframe tbody tr th {\n",
       "        vertical-align: top;\n",
       "    }\n",
       "\n",
       "    .dataframe thead th {\n",
       "        text-align: right;\n",
       "    }\n",
       "</style>\n",
       "<table border=\"1\" class=\"dataframe\">\n",
       "  <thead>\n",
       "    <tr style=\"text-align: right;\">\n",
       "      <th></th>\n",
       "      <th>Test Recall</th>\n",
       "      <th>Train Recall</th>\n",
       "      <th>Test F1</th>\n",
       "      <th>Train F1</th>\n",
       "      <th>Test Roc Auc</th>\n",
       "      <th>Train Roc Auc</th>\n",
       "    </tr>\n",
       "    <tr>\n",
       "      <th>Model</th>\n",
       "      <th></th>\n",
       "      <th></th>\n",
       "      <th></th>\n",
       "      <th></th>\n",
       "      <th></th>\n",
       "      <th></th>\n",
       "    </tr>\n",
       "  </thead>\n",
       "  <tbody>\n",
       "    <tr>\n",
       "      <th>Dummy</th>\n",
       "      <td>0.000000</td>\n",
       "      <td>0.000000</td>\n",
       "      <td>0.000000</td>\n",
       "      <td>0.000000</td>\n",
       "      <td>0.500000</td>\n",
       "      <td>0.500000</td>\n",
       "    </tr>\n",
       "    <tr>\n",
       "      <th>Logistic Regression</th>\n",
       "      <td>0.482973</td>\n",
       "      <td>0.482973</td>\n",
       "      <td>0.584092</td>\n",
       "      <td>0.584128</td>\n",
       "      <td>0.700007</td>\n",
       "      <td>0.700489</td>\n",
       "    </tr>\n",
       "    <tr>\n",
       "      <th>Tuned Logistic Regression</th>\n",
       "      <td>0.482973</td>\n",
       "      <td>0.482973</td>\n",
       "      <td>0.584092</td>\n",
       "      <td>0.584128</td>\n",
       "      <td>0.666625</td>\n",
       "      <td>0.666625</td>\n",
       "    </tr>\n",
       "    <tr>\n",
       "      <th>Decision Tree</th>\n",
       "      <td>0.484776</td>\n",
       "      <td>0.494066</td>\n",
       "      <td>0.581709</td>\n",
       "      <td>0.592603</td>\n",
       "      <td>0.691312</td>\n",
       "      <td>0.714736</td>\n",
       "    </tr>\n",
       "    <tr>\n",
       "      <th>Tuned Decision Tree</th>\n",
       "      <td>0.493990</td>\n",
       "      <td>0.495092</td>\n",
       "      <td>0.588975</td>\n",
       "      <td>0.590767</td>\n",
       "      <td>0.695246</td>\n",
       "      <td>0.708621</td>\n",
       "    </tr>\n",
       "    <tr>\n",
       "      <th>Random Forest</th>\n",
       "      <td>0.488382</td>\n",
       "      <td>0.496795</td>\n",
       "      <td>0.583760</td>\n",
       "      <td>0.593933</td>\n",
       "      <td>0.691192</td>\n",
       "      <td>0.714471</td>\n",
       "    </tr>\n",
       "  </tbody>\n",
       "</table>\n",
       "</div>"
      ],
      "text/plain": [
       "                           Test Recall  Train Recall   Test F1  Train F1  \\\n",
       "Model                                                                      \n",
       "Dummy                         0.000000      0.000000  0.000000  0.000000   \n",
       "Logistic Regression           0.482973      0.482973  0.584092  0.584128   \n",
       "Tuned Logistic Regression     0.482973      0.482973  0.584092  0.584128   \n",
       "Decision Tree                 0.484776      0.494066  0.581709  0.592603   \n",
       "Tuned Decision Tree           0.493990      0.495092  0.588975  0.590767   \n",
       "Random Forest                 0.488382      0.496795  0.583760  0.593933   \n",
       "\n",
       "                           Test Roc Auc  Train Roc Auc  \n",
       "Model                                                   \n",
       "Dummy                          0.500000       0.500000  \n",
       "Logistic Regression            0.700007       0.700489  \n",
       "Tuned Logistic Regression      0.666625       0.666625  \n",
       "Decision Tree                  0.691312       0.714736  \n",
       "Tuned Decision Tree            0.695246       0.708621  \n",
       "Random Forest                  0.691192       0.714471  "
      ]
     },
     "metadata": {},
     "output_type": "display_data"
    },
    {
     "data": {
      "image/png": "[encoded data removed]",
      "text/plain": [
       "<Figure size 432x288 with 2 Axes>"
      ]
     },
     "metadata": {},
     "output_type": "display_data"
    }
   ],
   "source": [
    "from sklearn.ensemble import RandomForestClassifier\n",
    "\n",
    "model_5 = 'Random Forest'\n",
    "forest_model = make_pipeline(StandardScaler(), RandomForestClassifier(random_state=seed))\n",
    "iterations.run_cv(model_5, forest_model, X_train, y_train)\n",
    "iterations.get_stats()\n",
    "iterations.confusion(forest_model, model_5, X_train, y_train)"
   ]
  },
  {
   "cell_type": "markdown",
   "metadata": {},
   "source": [
    "### Model 6: Tuned Random Forest"
   ]
  },
  {
   "cell_type": "code",
   "execution_count": 27,
   "metadata": {},
   "outputs": [
    {
     "data": {
      "text/html": [
       "<div>\n",
       "<style scoped>\n",
       "    .dataframe tbody tr th:only-of-type {\n",
       "        vertical-align: middle;\n",
       "    }\n",
       "\n",
       "    .dataframe tbody tr th {\n",
       "        vertical-align: top;\n",
       "    }\n",
       "\n",
       "    .dataframe thead th {\n",
       "        text-align: right;\n",
       "    }\n",
       "</style>\n",
       "<table border=\"1\" class=\"dataframe\">\n",
       "  <thead>\n",
       "    <tr style=\"text-align: right;\">\n",
       "      <th></th>\n",
       "      <th>Test Recall</th>\n",
       "      <th>Train Recall</th>\n",
       "      <th>Test F1</th>\n",
       "      <th>Train F1</th>\n",
       "      <th>Test Roc Auc</th>\n",
       "      <th>Train Roc Auc</th>\n",
       "    </tr>\n",
       "    <tr>\n",
       "      <th>Model</th>\n",
       "      <th></th>\n",
       "      <th></th>\n",
       "      <th></th>\n",
       "      <th></th>\n",
       "      <th></th>\n",
       "      <th></th>\n",
       "    </tr>\n",
       "  </thead>\n",
       "  <tbody>\n",
       "    <tr>\n",
       "      <th>Dummy</th>\n",
       "      <td>0.000000</td>\n",
       "      <td>0.000000</td>\n",
       "      <td>0.000000</td>\n",
       "      <td>0.000000</td>\n",
       "      <td>0.500000</td>\n",
       "      <td>0.500000</td>\n",
       "    </tr>\n",
       "    <tr>\n",
       "      <th>Logistic Regression</th>\n",
       "      <td>0.482973</td>\n",
       "      <td>0.482973</td>\n",
       "      <td>0.584092</td>\n",
       "      <td>0.584128</td>\n",
       "      <td>0.700007</td>\n",
       "      <td>0.700489</td>\n",
       "    </tr>\n",
       "    <tr>\n",
       "      <th>Tuned Logistic Regression</th>\n",
       "      <td>0.482973</td>\n",
       "      <td>0.482973</td>\n",
       "      <td>0.584092</td>\n",
       "      <td>0.584128</td>\n",
       "      <td>0.666625</td>\n",
       "      <td>0.666625</td>\n",
       "    </tr>\n",
       "    <tr>\n",
       "      <th>Decision Tree</th>\n",
       "      <td>0.484776</td>\n",
       "      <td>0.494066</td>\n",
       "      <td>0.581709</td>\n",
       "      <td>0.592603</td>\n",
       "      <td>0.691312</td>\n",
       "      <td>0.714736</td>\n",
       "    </tr>\n",
       "    <tr>\n",
       "      <th>Tuned Decision Tree</th>\n",
       "      <td>0.493990</td>\n",
       "      <td>0.495092</td>\n",
       "      <td>0.588975</td>\n",
       "      <td>0.590767</td>\n",
       "      <td>0.695246</td>\n",
       "      <td>0.708621</td>\n",
       "    </tr>\n",
       "    <tr>\n",
       "      <th>Random Forest</th>\n",
       "      <td>0.488382</td>\n",
       "      <td>0.496795</td>\n",
       "      <td>0.583760</td>\n",
       "      <td>0.593933</td>\n",
       "      <td>0.691192</td>\n",
       "      <td>0.714471</td>\n",
       "    </tr>\n",
       "    <tr>\n",
       "      <th>Tuned Random Forest</th>\n",
       "      <td>0.493389</td>\n",
       "      <td>0.496494</td>\n",
       "      <td>0.588216</td>\n",
       "      <td>0.592197</td>\n",
       "      <td>0.694274</td>\n",
       "      <td>0.711674</td>\n",
       "    </tr>\n",
       "  </tbody>\n",
       "</table>\n",
       "</div>"
      ],
      "text/plain": [
       "                           Test Recall  Train Recall   Test F1  Train F1  \\\n",
       "Model                                                                      \n",
       "Dummy                         0.000000      0.000000  0.000000  0.000000   \n",
       "Logistic Regression           0.482973      0.482973  0.584092  0.584128   \n",
       "Tuned Logistic Regression     0.482973      0.482973  0.584092  0.584128   \n",
       "Decision Tree                 0.484776      0.494066  0.581709  0.592603   \n",
       "Tuned Decision Tree           0.493990      0.495092  0.588975  0.590767   \n",
       "Random Forest                 0.488382      0.496795  0.583760  0.593933   \n",
       "Tuned Random Forest           0.493389      0.496494  0.588216  0.592197   \n",
       "\n",
       "                           Test Roc Auc  Train Roc Auc  \n",
       "Model                                                   \n",
       "Dummy                          0.500000       0.500000  \n",
       "Logistic Regression            0.700007       0.700489  \n",
       "Tuned Logistic Regression      0.666625       0.666625  \n",
       "Decision Tree                  0.691312       0.714736  \n",
       "Tuned Decision Tree            0.695246       0.708621  \n",
       "Random Forest                  0.691192       0.714471  \n",
       "Tuned Random Forest            0.694274       0.711674  "
      ]
     },
     "metadata": {},
     "output_type": "display_data"
    },
    {
     "data": {
      "image/png": "[encoded data removed]",
      "text/plain": [
       "<Figure size 432x288 with 2 Axes>"
      ]
     },
     "metadata": {},
     "output_type": "display_data"
    }
   ],
   "source": [
    "param_grid_3 = {\n",
    "    'randomforestclassifier__n_estimators': range(50, 200),\n",
    "    'randomforestclassifier__max_features': ['auto', 'sqrt'],\n",
    "    'randomforestclassifier__max_depth': [None] + list(range(5, 50)),\n",
    "    'randomforestclassifier__min_samples_split': range(2, 20),\n",
    "    'randomforestclassifier__min_samples_leaf': range(1, 20),\n",
    "    'randomforestclassifier__bootstrap': [True, False]\n",
    "}\n",
    "\n",
    "\n",
    "tuned_forest_model, tuned_forest_model_params = iterations.tune(\n",
    "    forest_model, param_grid_3, X_train, y_train, random_state=seed, method='random'\n",
    ")\n",
    "\n",
    "model_6 = 'Tuned Random Forest'\n",
    "iterations.run_cv(model_6, tuned_forest_model, X_train, y_train)\n",
    "\n",
    "iterations.get_stats()\n",
    "iterations.confusion(tuned_forest_model, model_6, X_train, y_train)"
   ]
  },
  {
   "cell_type": "code",
   "execution_count": 28,
   "metadata": {},
   "outputs": [
    {
     "name": "stdout",
     "output_type": "stream",
     "text": [
      "{'randomforestclassifier__n_estimators': 138, 'randomforestclassifier__min_samples_split': 2, 'randomforestclassifier__min_samples_leaf': 5, 'randomforestclassifier__max_features': 'sqrt', 'randomforestclassifier__max_depth': 20, 'randomforestclassifier__bootstrap': False}\n"
     ]
    }
   ],
   "source": [
    "print(tuned_forest_model_params)"
   ]
  },
  {
   "cell_type": "markdown",
   "metadata": {},
   "source": [
    "### Model 7: Tuned Random Forest (New Features)"
   ]
  },
  {
   "cell_type": "code",
   "execution_count": 29,
   "metadata": {},
   "outputs": [
    {
     "data": {
      "text/plain": [
       "25"
      ]
     },
     "execution_count": 29,
     "metadata": {},
     "output_type": "execute_result"
    }
   ],
   "source": [
    "new_features = chosen_features.copy()\n",
    "\n",
    "new_features += [\n",
    "    col for col in train_df_encoded.columns \\\n",
    "        if 'opinion' in col \\\n",
    "        or 'education' in col \\\n",
    "        or 'age' in col \\\n",
    "        or col == 'health_insurance'\n",
    "]\n",
    "\n",
    "len(new_features)"
   ]
  },
  {
   "cell_type": "code",
   "execution_count": 30,
   "metadata": {},
   "outputs": [
    {
     "data": {
      "text/html": [
       "<div>\n",
       "<style scoped>\n",
       "    .dataframe tbody tr th:only-of-type {\n",
       "        vertical-align: middle;\n",
       "    }\n",
       "\n",
       "    .dataframe tbody tr th {\n",
       "        vertical-align: top;\n",
       "    }\n",
       "\n",
       "    .dataframe thead th {\n",
       "        text-align: right;\n",
       "    }\n",
       "</style>\n",
       "<table border=\"1\" class=\"dataframe\">\n",
       "  <thead>\n",
       "    <tr style=\"text-align: right;\">\n",
       "      <th></th>\n",
       "      <th>Test Recall</th>\n",
       "      <th>Train Recall</th>\n",
       "      <th>Test F1</th>\n",
       "      <th>Train F1</th>\n",
       "      <th>Test Roc Auc</th>\n",
       "      <th>Train Roc Auc</th>\n",
       "    </tr>\n",
       "    <tr>\n",
       "      <th>Model</th>\n",
       "      <th></th>\n",
       "      <th></th>\n",
       "      <th></th>\n",
       "      <th></th>\n",
       "      <th></th>\n",
       "      <th></th>\n",
       "    </tr>\n",
       "  </thead>\n",
       "  <tbody>\n",
       "    <tr>\n",
       "      <th>Dummy</th>\n",
       "      <td>0.000000</td>\n",
       "      <td>0.000000</td>\n",
       "      <td>0.000000</td>\n",
       "      <td>0.000000</td>\n",
       "      <td>0.500000</td>\n",
       "      <td>0.500000</td>\n",
       "    </tr>\n",
       "    <tr>\n",
       "      <th>Logistic Regression</th>\n",
       "      <td>0.482973</td>\n",
       "      <td>0.482973</td>\n",
       "      <td>0.584092</td>\n",
       "      <td>0.584128</td>\n",
       "      <td>0.700007</td>\n",
       "      <td>0.700489</td>\n",
       "    </tr>\n",
       "    <tr>\n",
       "      <th>Tuned Logistic Regression</th>\n",
       "      <td>0.482973</td>\n",
       "      <td>0.482973</td>\n",
       "      <td>0.584092</td>\n",
       "      <td>0.584128</td>\n",
       "      <td>0.666625</td>\n",
       "      <td>0.666625</td>\n",
       "    </tr>\n",
       "    <tr>\n",
       "      <th>Decision Tree</th>\n",
       "      <td>0.484776</td>\n",
       "      <td>0.494066</td>\n",
       "      <td>0.581709</td>\n",
       "      <td>0.592603</td>\n",
       "      <td>0.691312</td>\n",
       "      <td>0.714736</td>\n",
       "    </tr>\n",
       "    <tr>\n",
       "      <th>Tuned Decision Tree</th>\n",
       "      <td>0.493990</td>\n",
       "      <td>0.495092</td>\n",
       "      <td>0.588975</td>\n",
       "      <td>0.590767</td>\n",
       "      <td>0.695246</td>\n",
       "      <td>0.708621</td>\n",
       "    </tr>\n",
       "    <tr>\n",
       "      <th>Random Forest</th>\n",
       "      <td>0.488382</td>\n",
       "      <td>0.496795</td>\n",
       "      <td>0.583760</td>\n",
       "      <td>0.593933</td>\n",
       "      <td>0.691192</td>\n",
       "      <td>0.714471</td>\n",
       "    </tr>\n",
       "    <tr>\n",
       "      <th>Tuned Random Forest</th>\n",
       "      <td>0.493389</td>\n",
       "      <td>0.496494</td>\n",
       "      <td>0.588216</td>\n",
       "      <td>0.592197</td>\n",
       "      <td>0.694274</td>\n",
       "      <td>0.711674</td>\n",
       "    </tr>\n",
       "    <tr>\n",
       "      <th>Random Forest (New Features)</th>\n",
       "      <td>0.738582</td>\n",
       "      <td>0.828450</td>\n",
       "      <td>0.746889</td>\n",
       "      <td>0.837923</td>\n",
       "      <td>0.843657</td>\n",
       "      <td>0.936893</td>\n",
       "    </tr>\n",
       "  </tbody>\n",
       "</table>\n",
       "</div>"
      ],
      "text/plain": [
       "                              Test Recall  Train Recall   Test F1  Train F1  \\\n",
       "Model                                                                         \n",
       "Dummy                            0.000000      0.000000  0.000000  0.000000   \n",
       "Logistic Regression              0.482973      0.482973  0.584092  0.584128   \n",
       "Tuned Logistic Regression        0.482973      0.482973  0.584092  0.584128   \n",
       "Decision Tree                    0.484776      0.494066  0.581709  0.592603   \n",
       "Tuned Decision Tree              0.493990      0.495092  0.588975  0.590767   \n",
       "Random Forest                    0.488382      0.496795  0.583760  0.593933   \n",
       "Tuned Random Forest              0.493389      0.496494  0.588216  0.592197   \n",
       "Random Forest (New Features)     0.738582      0.828450  0.746889  0.837923   \n",
       "\n",
       "                              Test Roc Auc  Train Roc Auc  \n",
       "Model                                                      \n",
       "Dummy                             0.500000       0.500000  \n",
       "Logistic Regression               0.700007       0.700489  \n",
       "Tuned Logistic Regression         0.666625       0.666625  \n",
       "Decision Tree                     0.691312       0.714736  \n",
       "Tuned Decision Tree               0.695246       0.708621  \n",
       "Random Forest                     0.691192       0.714471  \n",
       "Tuned Random Forest               0.694274       0.711674  \n",
       "Random Forest (New Features)      0.843657       0.936893  "
      ]
     },
     "metadata": {},
     "output_type": "display_data"
    },
    {
     "data": {
      "image/png": "[encoded data removed]",
      "text/plain": [
       "<Figure size 432x288 with 2 Axes>"
      ]
     },
     "metadata": {},
     "output_type": "display_data"
    }
   ],
   "source": [
    "model_7 = 'Random Forest (New Features)'\n",
    "X_nf = train_df_encoded[new_features].copy()\n",
    "\n",
    "X_train_nf, X_test_nf, _, _ = train_test_split(X_nf, y, random_state=seed, test_size=test_size)\n",
    "X_train_nf, X_test_nf = simple_impute(X_train_nf, X_test_nf)\n",
    "\n",
    "iterations.run_cv(model_7, tuned_forest_model, X_train_nf, y_train)\n",
    "\n",
    "iterations.get_stats()\n",
    "iterations.confusion(tuned_forest_model, model_7, X_train_nf, y_train)"
   ]
  },
  {
   "cell_type": "code",
   "execution_count": 31,
   "metadata": {},
   "outputs": [
    {
     "data": {
      "text/html": [
       "<div>\n",
       "<style scoped>\n",
       "    .dataframe tbody tr th:only-of-type {\n",
       "        vertical-align: middle;\n",
       "    }\n",
       "\n",
       "    .dataframe tbody tr th {\n",
       "        vertical-align: top;\n",
       "    }\n",
       "\n",
       "    .dataframe thead th {\n",
       "        text-align: right;\n",
       "    }\n",
       "</style>\n",
       "<table border=\"1\" class=\"dataframe\">\n",
       "  <thead>\n",
       "    <tr style=\"text-align: right;\">\n",
       "      <th></th>\n",
       "      <th>Test Recall</th>\n",
       "      <th>Train Recall</th>\n",
       "      <th>Test F1</th>\n",
       "      <th>Train F1</th>\n",
       "      <th>Test Roc Auc</th>\n",
       "      <th>Train Roc Auc</th>\n",
       "    </tr>\n",
       "    <tr>\n",
       "      <th>Model</th>\n",
       "      <th></th>\n",
       "      <th></th>\n",
       "      <th></th>\n",
       "      <th></th>\n",
       "      <th></th>\n",
       "      <th></th>\n",
       "    </tr>\n",
       "  </thead>\n",
       "  <tbody>\n",
       "    <tr>\n",
       "      <th>Dummy</th>\n",
       "      <td>0.000000</td>\n",
       "      <td>0.000000</td>\n",
       "      <td>0.000000</td>\n",
       "      <td>0.000000</td>\n",
       "      <td>0.500000</td>\n",
       "      <td>0.500000</td>\n",
       "    </tr>\n",
       "    <tr>\n",
       "      <th>Logistic Regression</th>\n",
       "      <td>0.482973</td>\n",
       "      <td>0.482973</td>\n",
       "      <td>0.584092</td>\n",
       "      <td>0.584128</td>\n",
       "      <td>0.700007</td>\n",
       "      <td>0.700489</td>\n",
       "    </tr>\n",
       "    <tr>\n",
       "      <th>Tuned Logistic Regression</th>\n",
       "      <td>0.482973</td>\n",
       "      <td>0.482973</td>\n",
       "      <td>0.584092</td>\n",
       "      <td>0.584128</td>\n",
       "      <td>0.666625</td>\n",
       "      <td>0.666625</td>\n",
       "    </tr>\n",
       "    <tr>\n",
       "      <th>Decision Tree</th>\n",
       "      <td>0.484776</td>\n",
       "      <td>0.494066</td>\n",
       "      <td>0.581709</td>\n",
       "      <td>0.592603</td>\n",
       "      <td>0.691312</td>\n",
       "      <td>0.714736</td>\n",
       "    </tr>\n",
       "    <tr>\n",
       "      <th>Tuned Decision Tree</th>\n",
       "      <td>0.493990</td>\n",
       "      <td>0.495092</td>\n",
       "      <td>0.588975</td>\n",
       "      <td>0.590767</td>\n",
       "      <td>0.695246</td>\n",
       "      <td>0.708621</td>\n",
       "    </tr>\n",
       "    <tr>\n",
       "      <th>Random Forest</th>\n",
       "      <td>0.488382</td>\n",
       "      <td>0.496795</td>\n",
       "      <td>0.583760</td>\n",
       "      <td>0.593933</td>\n",
       "      <td>0.691192</td>\n",
       "      <td>0.714471</td>\n",
       "    </tr>\n",
       "    <tr>\n",
       "      <th>Tuned Random Forest</th>\n",
       "      <td>0.493389</td>\n",
       "      <td>0.496494</td>\n",
       "      <td>0.588216</td>\n",
       "      <td>0.592197</td>\n",
       "      <td>0.694274</td>\n",
       "      <td>0.711674</td>\n",
       "    </tr>\n",
       "    <tr>\n",
       "      <th>Random Forest (New Features)</th>\n",
       "      <td>0.738582</td>\n",
       "      <td>0.828450</td>\n",
       "      <td>0.746889</td>\n",
       "      <td>0.837923</td>\n",
       "      <td>0.843657</td>\n",
       "      <td>0.936893</td>\n",
       "    </tr>\n",
       "    <tr>\n",
       "      <th>Tuned Random Forest (New Features)</th>\n",
       "      <td>0.741586</td>\n",
       "      <td>0.778721</td>\n",
       "      <td>0.750863</td>\n",
       "      <td>0.788842</td>\n",
       "      <td>0.847036</td>\n",
       "      <td>0.889214</td>\n",
       "    </tr>\n",
       "  </tbody>\n",
       "</table>\n",
       "</div>"
      ],
      "text/plain": [
       "                                    Test Recall  Train Recall   Test F1  \\\n",
       "Model                                                                     \n",
       "Dummy                                  0.000000      0.000000  0.000000   \n",
       "Logistic Regression                    0.482973      0.482973  0.584092   \n",
       "Tuned Logistic Regression              0.482973      0.482973  0.584092   \n",
       "Decision Tree                          0.484776      0.494066  0.581709   \n",
       "Tuned Decision Tree                    0.493990      0.495092  0.588975   \n",
       "Random Forest                          0.488382      0.496795  0.583760   \n",
       "Tuned Random Forest                    0.493389      0.496494  0.588216   \n",
       "Random Forest (New Features)           0.738582      0.828450  0.746889   \n",
       "Tuned Random Forest (New Features)     0.741586      0.778721  0.750863   \n",
       "\n",
       "                                    Train F1  Test Roc Auc  Train Roc Auc  \n",
       "Model                                                                      \n",
       "Dummy                               0.000000      0.500000       0.500000  \n",
       "Logistic Regression                 0.584128      0.700007       0.700489  \n",
       "Tuned Logistic Regression           0.584128      0.666625       0.666625  \n",
       "Decision Tree                       0.592603      0.691312       0.714736  \n",
       "Tuned Decision Tree                 0.590767      0.695246       0.708621  \n",
       "Random Forest                       0.593933      0.691192       0.714471  \n",
       "Tuned Random Forest                 0.592197      0.694274       0.711674  \n",
       "Random Forest (New Features)        0.837923      0.843657       0.936893  \n",
       "Tuned Random Forest (New Features)  0.788842      0.847036       0.889214  "
      ]
     },
     "metadata": {},
     "output_type": "display_data"
    },
    {
     "data": {
      "image/png": "[encoded data removed]",
      "text/plain": [
       "<Figure size 432x288 with 2 Axes>"
      ]
     },
     "metadata": {},
     "output_type": "display_data"
    }
   ],
   "source": [
    "tuned_forest_model_nf, tuned_forest_model_nf_params = iterations.tune(\n",
    "    tuned_forest_model, param_grid_3, X_train_nf, y_train, random_state=seed, method='random'\n",
    ")\n",
    "\n",
    "model_8 = 'Tuned Random Forest (New Features)'\n",
    "iterations.run_cv(model_8, tuned_forest_model_nf, X_train_nf, y_train)\n",
    "\n",
    "iterations.get_stats()\n",
    "iterations.confusion(tuned_forest_model_nf, model_8, X_train_nf, y_train)"
   ]
  },
  {
   "cell_type": "markdown",
   "metadata": {},
   "source": [
    "## Analysis with the Best Model"
   ]
  },
  {
   "cell_type": "markdown",
   "metadata": {},
   "source": [
    "### Determining the Best Model"
   ]
  },
  {
   "cell_type": "code",
   "execution_count": 32,
   "metadata": {},
   "outputs": [
    {
     "name": "stdout",
     "output_type": "stream",
     "text": [
      "RandomForestClassifier(max_depth=21, min_samples_leaf=9, min_samples_split=9,\n",
      "                       n_estimators=91, random_state=42)\n"
     ]
    }
   ],
   "source": [
    "best_model = tuned_forest_model_nf\n",
    "print(best_model[1])"
   ]
  },
  {
   "cell_type": "code",
   "execution_count": 33,
   "metadata": {},
   "outputs": [
    {
     "name": "stdout",
     "output_type": "stream",
     "text": [
      "Accuracy Score on Test Data: 0.7784\n",
      "Recall Score on Test Data: 0.7552\n"
     ]
    }
   ],
   "source": [
    "from sklearn.metrics import recall_score, accuracy_score\n",
    "\n",
    "y_pred = best_model.predict(X_test_nf)\n",
    "accuracy = accuracy_score(y_test, y_pred)\n",
    "recall = recall_score(y_test, y_pred)\n",
    "\n",
    "print(f'Accuracy Score on Test Data: {accuracy:,.4f}')\n",
    "print(f'Recall Score on Test Data: {recall:,.4f}')"
   ]
  },
  {
   "cell_type": "markdown",
   "metadata": {},
   "source": [
    "### Feature Importances"
   ]
  },
  {
   "cell_type": "code",
   "execution_count": 34,
   "metadata": {},
   "outputs": [],
   "source": [
    "feature_importances = tuned_forest_model_nf.steps[1][1].feature_importances_\n",
    "feature_importances_df = pd.DataFrame(feature_importances, index=X_train_nf.columns)\n",
    "feature_importances_df = feature_importances_df.rename(\n",
    "    columns={0: 'Feature Importance'}\n",
    ").sort_values(by='Feature Importance', ascending=False\n",
    ")\n",
    "\n",
    "top_10 = feature_importances_df[:10]\n",
    "top_5 = feature_importances_df[:5]"
   ]
  },
  {
   "cell_type": "code",
   "execution_count": 35,
   "metadata": {},
   "outputs": [
    {
     "data": {
      "image/png": "[encoded data removed]",
      "text/plain": [
       "<Figure size 720x360 with 1 Axes>"
      ]
     },
     "metadata": {},
     "output_type": "display_data"
    }
   ],
   "source": [
    "ax = top_10.iloc[::-1].plot.barh(figsize=(10,5), color='#A82929', legend=False, edgecolor='k')\n",
    "\n",
    "for i in range(5):\n",
    "    ax.get_children()[i].set_color('#343f56')\n",
    "\n",
    "plt.title('Top 10 Feature Importances for Tuned Random Forest with New Features');"
   ]
  },
  {
   "cell_type": "markdown",
   "metadata": {},
   "source": [
    "### Addressing Opinions on the Seasonal Flu and the Vaccine"
   ]
  },
  {
   "cell_type": "code",
   "execution_count": 36,
   "metadata": {},
   "outputs": [],
   "source": [
    "def calculate_percentage(data, feature, value=1):\n",
    "    selected_feature = data[feature] == value\n",
    "    count_selected_feature = len(data[selected_feature])\n",
    "    total_respondents = len(data)\n",
    "    percentage_selected_feature = count_selected_feature / total_respondents\n",
    "    return percentage_selected_feature"
   ]
  },
  {
   "cell_type": "code",
   "execution_count": 37,
   "metadata": {},
   "outputs": [
    {
     "data": {
      "text/plain": [
       "0.045718350994121394"
      ]
     },
     "execution_count": 37,
     "metadata": {},
     "output_type": "execute_result"
    }
   ],
   "source": [
    "calculate_percentage(train_df_encoded, 'opinion_seas_vacc_effective')"
   ]
  },
  {
   "cell_type": "code",
   "execution_count": 38,
   "metadata": {},
   "outputs": [
    {
     "data": {
      "text/plain": [
       "0.22368667390571761"
      ]
     },
     "execution_count": 38,
     "metadata": {},
     "output_type": "execute_result"
    }
   ],
   "source": [
    "calculate_percentage(train_df_encoded, 'opinion_seas_risk')"
   ]
  },
  {
   "cell_type": "code",
   "execution_count": 39,
   "metadata": {},
   "outputs": [
    {
     "data": {
      "text/plain": [
       "0.44445276519264615"
      ]
     },
     "execution_count": 39,
     "metadata": {},
     "output_type": "execute_result"
    }
   ],
   "source": [
    "calculate_percentage(train_df_encoded, 'opinion_seas_sick_from_vacc')"
   ]
  },
  {
   "cell_type": "markdown",
   "metadata": {},
   "source": [
    "### The Necessity of Doctor Recommendations"
   ]
  },
  {
   "cell_type": "code",
   "execution_count": 40,
   "metadata": {},
   "outputs": [
    {
     "data": {
      "text/plain": [
       "0.30306661174972854"
      ]
     },
     "execution_count": 40,
     "metadata": {},
     "output_type": "execute_result"
    }
   ],
   "source": [
    "calculate_percentage(train_df_encoded, 'doctor_recc_seasonal')"
   ]
  },
  {
   "cell_type": "code",
   "execution_count": 41,
   "metadata": {},
   "outputs": [
    {
     "data": {
      "text/plain": [
       "0.20249372823604297"
      ]
     },
     "execution_count": 41,
     "metadata": {},
     "output_type": "execute_result"
    }
   ],
   "source": [
    "calculate_percentage(train_df_encoded, 'doctor_recc_h1n1')"
   ]
  },
  {
   "cell_type": "markdown",
   "metadata": {},
   "source": []
  }
 ],
 "metadata": {
  "kernelspec": {
   "display_name": "Python 3",
   "language": "python",
   "name": "python3"
  },
  "language_info": {
   "codemirror_mode": {
    "name": "ipython",
    "version": 3
   },
   "file_extension": ".py",
   "mimetype": "text/x-python",
   "name": "python",
   "nbconvert_exporter": "python",
   "pygments_lexer": "ipython3",
   "version": "3.8.5"
  }
 },
 "nbformat": 4,
 "nbformat_minor": 2
}
