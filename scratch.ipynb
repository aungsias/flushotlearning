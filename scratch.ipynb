{
 "cells": [
  {
   "cell_type": "markdown",
   "metadata": {},
   "source": [
    "# Predicting Seasonal Flu Vaccines\n",
    "Aung Si<br>\n",
    "August 19<sup>th</sup>, 2023"
   ]
  },
  {
   "cell_type": "markdown",
   "metadata": {},
   "source": [
    "---"
   ]
  },
  {
   "cell_type": "markdown",
   "metadata": {},
   "source": [
    "## Contents\n",
    "\n",
    "1. [Introduction](#introduction)\n",
    "2. [The Data](#the-data)\n",
    "3. [Exploratory Data Analysis](#exploratory-data-analysis)\n",
    "    - [Loading The Data](#loading-the-data)\n",
    "    - [Choosing Our Target](#choosing-our-target)\n",
    "    - [Handling Nulls](#handling-nulls)\n",
    "    - [Examining Feature Correlations](#examining-feature-correlations)\n",
    "3. [Preparing for Model Building](#preparing-for-model-building)"
   ]
  },
  {
   "cell_type": "markdown",
   "metadata": {},
   "source": [
    "---"
   ]
  },
  {
   "cell_type": "markdown",
   "metadata": {},
   "source": [
    "## Introduction \n",
    "\n",
    "Vaccines have long been a cornerstone of public health, shielding individuals and entire communities from a wide array of infectious diseases. Among these, the ongoing efforts to immunize against seasonal influenza stand out as a vital and complex undertaking. Unlike specific pandemic strains such as the 2009 H1N1 \"swine flu,\" seasonal flu is a persistent and annually recurring challenge, necessitating vigilance and adaptation by medical professionals every year. Seasonal influenza vaccines are developed and distributed on an annual basis to combat the most common flu strains predicted to circulate during the upcoming flu season. Scientists and researchers analyze global flu trends, collecting samples and data to determine which strains are most likely to pose a threat. The composition of the seasonal flu vaccine is then tailored each year based on these predictions, making it a unique and dynamic tool in the fight against influenza.\n",
    "\n",
    "In the United States, a coordinated effort involving the government, healthcare providers, public health organizations, and even private companies is launched each year to promote and provide seasonal flu vaccines. This expansive campaign includes public education, accessibility initiatives, and collaboration with healthcare professionals to ensure that vaccines reach as many people as possible. Guiding these efforts are robust data collection and analysis, including surveys and studies that closely monitor vaccination rates. One such resource is the National Seasonal Flu Survey, a comprehensive effort to gather information about individuals' vaccination status, as well as insights into their lives, opinions, and behaviors related to vaccination. In this analysis, we will delve into the data from this survey, applying statistical and analytical techniques to uncover patterns and trends in seasonal flu vaccination. By understanding the factors that influence people's decisions to get vaccinated, such as age, location, education, and beliefs about vaccines, we can craft targeted strategies to increase vaccination rates."
   ]
  },
  {
   "cell_type": "markdown",
   "metadata": {},
   "source": [
    "## The Data\n",
    "\n",
    "The dataset utilized in this project originates from the National 2009 H1N1 Flu Survey (NHFS), conducted during the 2009-10 flu season. This telephone survey was designed to monitor influenza immunization coverage in the United States, specifically targeting individuals aged 6 months or older. A collaboration between the National Center for Immunization and Respiratory Diseases (NCIRD) and the National Center for Health Statistics (NCHS) under the Centers for Disease Control and Prevention (CDC), the NHFS collected information from October 2009 to June 2010. Its primary focus was to produce timely estimates of vaccination coverage rates for both the monovalent pH1N1 and trivalent seasonal influenza vaccines during the 2009-2010 flu season in response to the H1N1 pandemic. The CDC continues to monitor seasonal flu vaccination through other ongoing annual phone surveys, but the NHFS stands as a one-time survey created for this specific purpose.\n",
    "\n",
    "For our exploration we're given three CSV's:\n",
    "1. **Training Labels**: This one holds the binary labels we'll be training our model(s) to predict. There are two target labels, `'h1n1_vaccine'` and '`seasonal_vaccine'`— for this analysis we're only concerned with the latter. A $0$ indicates that the given respondent did not receive the respective vaccine while a $1$ indicates that the given respondent received the respective vaccine. This file shares the `'respondent_id'` column with the Training Features CSV.\n",
    "\n",
    "2. **Training Features**: These are the features we'll be using to predict the probability of a respondent receiving a vaccine. There are 35 features and each is a response to a survey question. Features comprise various topics, such as behavioral (whether a respondent touches their face, washes their hand, etc.), opinion (whether the respondent believed the h1n1 vaccine was effective, etc.), and demographic.\n",
    "\n",
    "3. **Testing Features**: These features relate to the respondents for whom we will be predicting the likelihood of receiving the vaccine.\n",
    "\n",
    "Let's go ahead and import the necessary imports and load in our data so that we can start cleaning it."
   ]
  },
  {
   "cell_type": "markdown",
   "metadata": {},
   "source": [
    "## Exploratory Data Analysis"
   ]
  },
  {
   "cell_type": "markdown",
   "metadata": {},
   "source": [
    "### Loading the Data"
   ]
  },
  {
   "cell_type": "code",
   "execution_count": 34,
   "metadata": {},
   "outputs": [],
   "source": [
    "import pandas as pd\n",
    "import numpy as np\n",
    "import matplotlib.pyplot as plt\n",
    "import seaborn as sns"
   ]
  },
  {
   "cell_type": "code",
   "execution_count": 35,
   "metadata": {},
   "outputs": [],
   "source": [
    "# Load in data\n",
    "train_features = pd.read_csv('data/training_set_features.csv')\n",
    "train_labels = pd.read_csv('data/training_set_labels.csv')\n",
    "test_features = pd.read_csv('data/test_set_features.csv')\n",
    "\n",
    "train_df = pd.merge(train_labels, train_features, on='respondent_id')\n",
    "train_df.set_index('respondent_id', inplace=True)"
   ]
  },
  {
   "cell_type": "markdown",
   "metadata": {},
   "source": [
    "In the above, we've merged our training features and training labels into one big dataset, `'train_df'`. The choice to do this also means that we can use the binary value for `'h1n1_vaccine'` as a feature. So scratch what I said earlier - we actually have <u>36</u> features to train our models with. Note that we've also set our index to be `'respondent_id'` so as to not accidentally use it as feature."
   ]
  },
  {
   "cell_type": "code",
   "execution_count": 36,
   "metadata": {},
   "outputs": [
    {
     "name": "stdout",
     "output_type": "stream",
     "text": [
      "train_df.shape: (26707, 37)\n"
     ]
    }
   ],
   "source": [
    "# Examine the dataset's shape\n",
    "print(f'train_df.shape: {train_df.shape}')"
   ]
  },
  {
   "cell_type": "code",
   "execution_count": 37,
   "metadata": {},
   "outputs": [
    {
     "data": {
      "text/html": [
       "<div>\n",
       "<style scoped>\n",
       "    .dataframe tbody tr th:only-of-type {\n",
       "        vertical-align: middle;\n",
       "    }\n",
       "\n",
       "    .dataframe tbody tr th {\n",
       "        vertical-align: top;\n",
       "    }\n",
       "\n",
       "    .dataframe thead th {\n",
       "        text-align: right;\n",
       "    }\n",
       "</style>\n",
       "<table border=\"1\" class=\"dataframe\">\n",
       "  <thead>\n",
       "    <tr style=\"text-align: right;\">\n",
       "      <th></th>\n",
       "      <th>h1n1_vaccine</th>\n",
       "      <th>seasonal_vaccine</th>\n",
       "      <th>h1n1_concern</th>\n",
       "      <th>h1n1_knowledge</th>\n",
       "      <th>behavioral_antiviral_meds</th>\n",
       "      <th>behavioral_avoidance</th>\n",
       "      <th>behavioral_face_mask</th>\n",
       "      <th>behavioral_wash_hands</th>\n",
       "      <th>behavioral_large_gatherings</th>\n",
       "      <th>behavioral_outside_home</th>\n",
       "      <th>...</th>\n",
       "      <th>income_poverty</th>\n",
       "      <th>marital_status</th>\n",
       "      <th>rent_or_own</th>\n",
       "      <th>employment_status</th>\n",
       "      <th>hhs_geo_region</th>\n",
       "      <th>census_msa</th>\n",
       "      <th>household_adults</th>\n",
       "      <th>household_children</th>\n",
       "      <th>employment_industry</th>\n",
       "      <th>employment_occupation</th>\n",
       "    </tr>\n",
       "    <tr>\n",
       "      <th>respondent_id</th>\n",
       "      <th></th>\n",
       "      <th></th>\n",
       "      <th></th>\n",
       "      <th></th>\n",
       "      <th></th>\n",
       "      <th></th>\n",
       "      <th></th>\n",
       "      <th></th>\n",
       "      <th></th>\n",
       "      <th></th>\n",
       "      <th></th>\n",
       "      <th></th>\n",
       "      <th></th>\n",
       "      <th></th>\n",
       "      <th></th>\n",
       "      <th></th>\n",
       "      <th></th>\n",
       "      <th></th>\n",
       "      <th></th>\n",
       "      <th></th>\n",
       "      <th></th>\n",
       "    </tr>\n",
       "  </thead>\n",
       "  <tbody>\n",
       "    <tr>\n",
       "      <th>0</th>\n",
       "      <td>0</td>\n",
       "      <td>0</td>\n",
       "      <td>1.0</td>\n",
       "      <td>0.0</td>\n",
       "      <td>0.0</td>\n",
       "      <td>0.0</td>\n",
       "      <td>0.0</td>\n",
       "      <td>0.0</td>\n",
       "      <td>0.0</td>\n",
       "      <td>1.0</td>\n",
       "      <td>...</td>\n",
       "      <td>Below Poverty</td>\n",
       "      <td>Not Married</td>\n",
       "      <td>Own</td>\n",
       "      <td>Not in Labor Force</td>\n",
       "      <td>oxchjgsf</td>\n",
       "      <td>Non-MSA</td>\n",
       "      <td>0.0</td>\n",
       "      <td>0.0</td>\n",
       "      <td>NaN</td>\n",
       "      <td>NaN</td>\n",
       "    </tr>\n",
       "    <tr>\n",
       "      <th>1</th>\n",
       "      <td>0</td>\n",
       "      <td>1</td>\n",
       "      <td>3.0</td>\n",
       "      <td>2.0</td>\n",
       "      <td>0.0</td>\n",
       "      <td>1.0</td>\n",
       "      <td>0.0</td>\n",
       "      <td>1.0</td>\n",
       "      <td>0.0</td>\n",
       "      <td>1.0</td>\n",
       "      <td>...</td>\n",
       "      <td>Below Poverty</td>\n",
       "      <td>Not Married</td>\n",
       "      <td>Rent</td>\n",
       "      <td>Employed</td>\n",
       "      <td>bhuqouqj</td>\n",
       "      <td>MSA, Not Principle  City</td>\n",
       "      <td>0.0</td>\n",
       "      <td>0.0</td>\n",
       "      <td>pxcmvdjn</td>\n",
       "      <td>xgwztkwe</td>\n",
       "    </tr>\n",
       "    <tr>\n",
       "      <th>2</th>\n",
       "      <td>0</td>\n",
       "      <td>0</td>\n",
       "      <td>1.0</td>\n",
       "      <td>1.0</td>\n",
       "      <td>0.0</td>\n",
       "      <td>1.0</td>\n",
       "      <td>0.0</td>\n",
       "      <td>0.0</td>\n",
       "      <td>0.0</td>\n",
       "      <td>0.0</td>\n",
       "      <td>...</td>\n",
       "      <td>&lt;= $75,000, Above Poverty</td>\n",
       "      <td>Not Married</td>\n",
       "      <td>Own</td>\n",
       "      <td>Employed</td>\n",
       "      <td>qufhixun</td>\n",
       "      <td>MSA, Not Principle  City</td>\n",
       "      <td>2.0</td>\n",
       "      <td>0.0</td>\n",
       "      <td>rucpziij</td>\n",
       "      <td>xtkaffoo</td>\n",
       "    </tr>\n",
       "  </tbody>\n",
       "</table>\n",
       "<p>3 rows × 37 columns</p>\n",
       "</div>"
      ],
      "text/plain": [
       "               h1n1_vaccine  seasonal_vaccine  h1n1_concern  h1n1_knowledge  \\\n",
       "respondent_id                                                                 \n",
       "0                         0                 0           1.0             0.0   \n",
       "1                         0                 1           3.0             2.0   \n",
       "2                         0                 0           1.0             1.0   \n",
       "\n",
       "               behavioral_antiviral_meds  behavioral_avoidance  \\\n",
       "respondent_id                                                    \n",
       "0                                    0.0                   0.0   \n",
       "1                                    0.0                   1.0   \n",
       "2                                    0.0                   1.0   \n",
       "\n",
       "               behavioral_face_mask  behavioral_wash_hands  \\\n",
       "respondent_id                                                \n",
       "0                               0.0                    0.0   \n",
       "1                               0.0                    1.0   \n",
       "2                               0.0                    0.0   \n",
       "\n",
       "               behavioral_large_gatherings  behavioral_outside_home  ...  \\\n",
       "respondent_id                                                        ...   \n",
       "0                                      0.0                      1.0  ...   \n",
       "1                                      0.0                      1.0  ...   \n",
       "2                                      0.0                      0.0  ...   \n",
       "\n",
       "                          income_poverty  marital_status  rent_or_own  \\\n",
       "respondent_id                                                           \n",
       "0                          Below Poverty     Not Married          Own   \n",
       "1                          Below Poverty     Not Married         Rent   \n",
       "2              <= $75,000, Above Poverty     Not Married          Own   \n",
       "\n",
       "                employment_status  hhs_geo_region                census_msa  \\\n",
       "respondent_id                                                                 \n",
       "0              Not in Labor Force        oxchjgsf                   Non-MSA   \n",
       "1                        Employed        bhuqouqj  MSA, Not Principle  City   \n",
       "2                        Employed        qufhixun  MSA, Not Principle  City   \n",
       "\n",
       "               household_adults  household_children  employment_industry  \\\n",
       "respondent_id                                                              \n",
       "0                           0.0                 0.0                  NaN   \n",
       "1                           0.0                 0.0             pxcmvdjn   \n",
       "2                           2.0                 0.0             rucpziij   \n",
       "\n",
       "               employment_occupation  \n",
       "respondent_id                         \n",
       "0                                NaN  \n",
       "1                           xgwztkwe  \n",
       "2                           xtkaffoo  \n",
       "\n",
       "[3 rows x 37 columns]"
      ]
     },
     "execution_count": 37,
     "metadata": {},
     "output_type": "execute_result"
    }
   ],
   "source": [
    "train_df.head(3)"
   ]
  },
  {
   "cell_type": "markdown",
   "metadata": {},
   "source": [
    "Consistent with the problem description page, we can see that almost all of our features are categorical, save for a few. However, there are still some mismatches in representation, but we'll deal with them in a later portion of our analysis."
   ]
  },
  {
   "cell_type": "code",
   "execution_count": 38,
   "metadata": {},
   "outputs": [
    {
     "data": {
      "text/plain": [
       "h1n1_vaccine                     int64\n",
       "seasonal_vaccine                 int64\n",
       "h1n1_concern                   float64\n",
       "h1n1_knowledge                 float64\n",
       "behavioral_antiviral_meds      float64\n",
       "behavioral_avoidance           float64\n",
       "behavioral_face_mask           float64\n",
       "behavioral_wash_hands          float64\n",
       "behavioral_large_gatherings    float64\n",
       "behavioral_outside_home        float64\n",
       "behavioral_touch_face          float64\n",
       "doctor_recc_h1n1               float64\n",
       "doctor_recc_seasonal           float64\n",
       "chronic_med_condition          float64\n",
       "child_under_6_months           float64\n",
       "health_worker                  float64\n",
       "health_insurance               float64\n",
       "opinion_h1n1_vacc_effective    float64\n",
       "opinion_h1n1_risk              float64\n",
       "opinion_h1n1_sick_from_vacc    float64\n",
       "opinion_seas_vacc_effective    float64\n",
       "opinion_seas_risk              float64\n",
       "opinion_seas_sick_from_vacc    float64\n",
       "age_group                       object\n",
       "education                       object\n",
       "race                            object\n",
       "sex                             object\n",
       "income_poverty                  object\n",
       "marital_status                  object\n",
       "rent_or_own                     object\n",
       "employment_status               object\n",
       "hhs_geo_region                  object\n",
       "census_msa                      object\n",
       "household_adults               float64\n",
       "household_children             float64\n",
       "employment_industry             object\n",
       "employment_occupation           object\n",
       "dtype: object"
      ]
     },
     "execution_count": 38,
     "metadata": {},
     "output_type": "execute_result"
    }
   ],
   "source": [
    "# Examine the dataset's datatypes\n",
    "train_df.dtypes"
   ]
  },
  {
   "cell_type": "markdown",
   "metadata": {},
   "source": [
    "### Choosing our target"
   ]
  },
  {
   "cell_type": "markdown",
   "metadata": {},
   "source": [
    "We're given two targets - `'h1n1_vaccine'`, and `'seasonal_vaccine'`. However, to scope it down to a single-target classification problem, we'll keep just one. We'll keep whichever one has better class-balance; that is, whichever one has a more even spread between $0$ 's and $1$ 's."
   ]
  },
  {
   "cell_type": "code",
   "execution_count": 39,
   "metadata": {},
   "outputs": [
    {
     "name": "stdout",
     "output_type": "stream",
     "text": [
      "0    14272\n",
      "1    12435\n",
      "Name: seasonal_vaccine, dtype: int64\n",
      "0    21033\n",
      "1     5674\n",
      "Name: h1n1_vaccine, dtype: int64\n"
     ]
    }
   ],
   "source": [
    "# Examine the vaccination value counts\n",
    "for vaccine in ['seasonal_vaccine', 'h1n1_vaccine']:\n",
    "    print(train_df[vaccine].value_counts())\n",
    "\n",
    "# Given that seasonal vaccine has a better class balance, we'll choose that as our target"
   ]
  },
  {
   "cell_type": "markdown",
   "metadata": {},
   "source": [
    "Given that seasonal vaccine has a better class balance, we'll choose that as our target."
   ]
  },
  {
   "cell_type": "markdown",
   "metadata": {},
   "source": [
    "### Handling Nulls"
   ]
  },
  {
   "cell_type": "code",
   "execution_count": 40,
   "metadata": {},
   "outputs": [
    {
     "data": {
      "text/plain": [
       "h1n1_vaccine                       0\n",
       "seasonal_vaccine                   0\n",
       "h1n1_concern                      92\n",
       "h1n1_knowledge                   116\n",
       "behavioral_antiviral_meds         71\n",
       "behavioral_avoidance             208\n",
       "behavioral_face_mask              19\n",
       "behavioral_wash_hands             42\n",
       "behavioral_large_gatherings       87\n",
       "behavioral_outside_home           82\n",
       "behavioral_touch_face            128\n",
       "doctor_recc_h1n1                2160\n",
       "doctor_recc_seasonal            2160\n",
       "chronic_med_condition            971\n",
       "child_under_6_months             820\n",
       "health_worker                    804\n",
       "health_insurance               12274\n",
       "opinion_h1n1_vacc_effective      391\n",
       "opinion_h1n1_risk                388\n",
       "opinion_h1n1_sick_from_vacc      395\n",
       "opinion_seas_vacc_effective      462\n",
       "opinion_seas_risk                514\n",
       "opinion_seas_sick_from_vacc      537\n",
       "age_group                          0\n",
       "education                       1407\n",
       "race                               0\n",
       "sex                                0\n",
       "income_poverty                  4423\n",
       "marital_status                  1408\n",
       "rent_or_own                     2042\n",
       "employment_status               1463\n",
       "hhs_geo_region                     0\n",
       "census_msa                         0\n",
       "household_adults                 249\n",
       "household_children               249\n",
       "employment_industry            13330\n",
       "employment_occupation          13470\n",
       "dtype: int64"
      ]
     },
     "execution_count": 40,
     "metadata": {},
     "output_type": "execute_result"
    }
   ],
   "source": [
    "train_df.isnull().sum()"
   ]
  },
  {
   "cell_type": "markdown",
   "metadata": {},
   "source": [
    "It seems we have a fair amount of null values within our dataset to handle. It's easy to drop all entries with null values, but this might be reckless. Instead, we'll get rid of features with $>30\\%$ null values (unless we deem them important to our analysis), and handle the rest later."
   ]
  },
  {
   "cell_type": "code",
   "execution_count": 41,
   "metadata": {},
   "outputs": [
    {
     "data": {
      "text/plain": [
       "health_insurance         0.459580\n",
       "employment_industry      0.499120\n",
       "employment_occupation    0.504362\n",
       "dtype: float64"
      ]
     },
     "execution_count": 41,
     "metadata": {},
     "output_type": "execute_result"
    }
   ],
   "source": [
    "missing_data = train_df.isnull().sum()\n",
    "missing_data_pct = missing_data / len(train_df)\n",
    "missing_data_pct[missing_data_pct > .3]"
   ]
  },
  {
   "cell_type": "markdown",
   "metadata": {},
   "source": [
    "The following features seem to have more than 30% null values:\n",
    "- `health_insurance` $(46\\%)$\n",
    "- `employment_industry` $(50\\%)$\n",
    "- `employment_occupation` $(50\\%)$\n",
    "\n",
    "The latter two have encoded values that aren't interpretable (nor does the CDC provide instruction on how to decode them), so we'll go ahead and drop those two. For `'health_insurance'`: health insurance data is usually available for people who have it, so for this analysis we'll replace the `NaN` values with 0s. Essentially, we deem respondents with missing health insurance data as lacking insurance."
   ]
  },
  {
   "cell_type": "code",
   "execution_count": 42,
   "metadata": {},
   "outputs": [
    {
     "data": {
      "text/plain": [
       "(26707, 35)"
      ]
     },
     "execution_count": 42,
     "metadata": {},
     "output_type": "execute_result"
    }
   ],
   "source": [
    "train_df['health_insurance'].fillna(0, inplace=True)\n",
    "train_df.drop(columns=['employment_industry', 'employment_occupation'], inplace=True)\n",
    "train_df.shape"
   ]
  },
  {
   "cell_type": "markdown",
   "metadata": {},
   "source": [
    "Now we've gotten rid of two of our 36 features, leaving us still with 34 to work with!"
   ]
  },
  {
   "cell_type": "markdown",
   "metadata": {},
   "source": [
    "### Reconciling Datatypes"
   ]
  },
  {
   "cell_type": "markdown",
   "metadata": {},
   "source": [
    "Though our data is mostly categorical, there are still inconsistencies within how these categorical datapoints are represented—namely, there are some string representations amongst the majority, which is represented by either floats or integers—so we'll have to address those."
   ]
  },
  {
   "cell_type": "code",
   "execution_count": 43,
   "metadata": {},
   "outputs": [
    {
     "data": {
      "text/plain": [
       "['age_group',\n",
       " 'education',\n",
       " 'race',\n",
       " 'sex',\n",
       " 'income_poverty',\n",
       " 'marital_status',\n",
       " 'rent_or_own',\n",
       " 'employment_status',\n",
       " 'hhs_geo_region',\n",
       " 'census_msa']"
      ]
     },
     "execution_count": 43,
     "metadata": {},
     "output_type": "execute_result"
    }
   ],
   "source": [
    "string_representations = [feature for feature in train_df.columns if train_df[feature].dtype == 'object']\n",
    "string_representations"
   ]
  },
  {
   "cell_type": "markdown",
   "metadata": {},
   "source": [
    "The above columns are represented in string format. We'll need to use One Hot Encoding to convert those into floats / integers."
   ]
  },
  {
   "cell_type": "code",
   "execution_count": 44,
   "metadata": {},
   "outputs": [
    {
     "data": {
      "text/plain": [
       "age_group_18 - 34 Years                     uint8\n",
       "age_group_35 - 44 Years                     uint8\n",
       "age_group_45 - 54 Years                     uint8\n",
       "age_group_55 - 64 Years                     uint8\n",
       "age_group_65+ Years                         uint8\n",
       "education_12 Years                          uint8\n",
       "education_< 12 Years                        uint8\n",
       "education_College Graduate                  uint8\n",
       "education_Some College                      uint8\n",
       "race_Black                                  uint8\n",
       "race_Hispanic                               uint8\n",
       "race_Other or Multiple                      uint8\n",
       "race_White                                  uint8\n",
       "sex_Female                                  uint8\n",
       "sex_Male                                    uint8\n",
       "income_poverty_<= $75,000, Above Poverty    uint8\n",
       "income_poverty_> $75,000                    uint8\n",
       "income_poverty_Below Poverty                uint8\n",
       "marital_status_Married                      uint8\n",
       "marital_status_Not Married                  uint8\n",
       "rent_or_own_Own                             uint8\n",
       "rent_or_own_Rent                            uint8\n",
       "employment_status_Employed                  uint8\n",
       "employment_status_Not in Labor Force        uint8\n",
       "employment_status_Unemployed                uint8\n",
       "hhs_geo_region_atmpeygn                     uint8\n",
       "hhs_geo_region_bhuqouqj                     uint8\n",
       "hhs_geo_region_dqpwygqj                     uint8\n",
       "hhs_geo_region_fpwskwrf                     uint8\n",
       "hhs_geo_region_kbazzjca                     uint8\n",
       "hhs_geo_region_lrircsnp                     uint8\n",
       "hhs_geo_region_lzgpxyit                     uint8\n",
       "hhs_geo_region_mlyzmhmf                     uint8\n",
       "hhs_geo_region_oxchjgsf                     uint8\n",
       "hhs_geo_region_qufhixun                     uint8\n",
       "census_msa_MSA, Not Principle  City         uint8\n",
       "census_msa_MSA, Principle City              uint8\n",
       "census_msa_Non-MSA                          uint8\n",
       "dtype: object"
      ]
     },
     "execution_count": 44,
     "metadata": {},
     "output_type": "execute_result"
    }
   ],
   "source": [
    "train_df_encoded = pd.get_dummies(train_df, columns=string_representations)\n",
    "encoded_columns = [col for col in train_df_encoded.columns if any(col.startswith(str_col) for str_col in string_representations)]\n",
    "train_df_encoded[encoded_columns].dtypes"
   ]
  },
  {
   "cell_type": "code",
   "execution_count": 45,
   "metadata": {},
   "outputs": [
    {
     "data": {
      "text/plain": [
       "(26707, 63)"
      ]
     },
     "execution_count": 45,
     "metadata": {},
     "output_type": "execute_result"
    }
   ],
   "source": [
    "train_df_encoded.shape"
   ]
  },
  {
   "cell_type": "markdown",
   "metadata": {},
   "source": [
    "Now that we've encoded some features, we've almost doubled our feature set - this can lead to even more multicollinearity, which is something we have to be cognizant of when building our models!"
   ]
  },
  {
   "cell_type": "markdown",
   "metadata": {},
   "source": [
    "### Examining Feature Correlations\n",
    "\n",
    "Before modeling, we need to check the correlations among our features. In classification as in regressions, this is key. If two features are highly correlated, we might remove one to reduce redundancy. If two features are moderately correlated but convey different information, we might keep both and consider regularization. This step helps avoid issues like noise and overfitting, making the model more robust and interpretable.\n",
    "\n",
    "Let's start with looking at the five most correlated features."
   ]
  },
  {
   "cell_type": "code",
   "execution_count": 51,
   "metadata": {},
   "outputs": [
    {
     "name": "stdout",
     "output_type": "stream",
     "text": [
      "doctor_recc_seasonal         doctor_recc_h1n1                        0.591868\n",
      "behavioral_outside_home      behavioral_large_gatherings             0.584085\n",
      "opinion_seas_risk            opinion_h1n1_risk                       0.564208\n",
      "age_group_65+ Years          employment_status_Not in Labor Force    0.498880\n",
      "opinion_h1n1_sick_from_vacc  opinion_seas_sick_from_vacc             0.491546\n",
      "dtype: float64\n"
     ]
    }
   ],
   "source": [
    "corr_mat = train_df_encoded.corr()\n",
    "corr_mat[corr_mat == 1] = np.nan\n",
    "five_most_correlated = corr_mat.unstack().sort_values(\n",
    "    ascending=False\n",
    ").drop_duplicates()[:5]\n",
    "\n",
    "print(five_most_correlated)"
   ]
  },
  {
   "cell_type": "markdown",
   "metadata": {},
   "source": [
    "It appears that there is a significant correlation between features mirroring the responses related to seasonal vaccines and their corresponding counterparts for the H1N1 vaccine. This pattern suggests a parallelism in perceptions and behaviors concerning both types of vaccines, reflecting a good amount of consistency in respondents' attitudes and practices. Now let's take a look at the correlation matrix for the entirety of our feature set:"
   ]
  },
  {
   "cell_type": "code",
   "execution_count": 54,
   "metadata": {},
   "outputs": [
    {
     "data": {
      "image/png": "[encoded data removed]",
      "text/plain": [
       "<Figure size 640x480 with 2 Axes>"
      ]
     },
     "metadata": {},
     "output_type": "display_data"
    }
   ],
   "source": [
    "\n",
    "sns.heatmap(train_df_encoded.corr(), cmap='magma')\n",
    "plt.title('Correlation Heatmap of Features')\n",
    "plt.xticks([])\n",
    "plt.yticks([]);"
   ]
  },
  {
   "cell_type": "markdown",
   "metadata": {},
   "source": [
    "The majority of our features are only moderately correlated, which is a good sign for our models. However, there are still some high-positive-correlation features, but we can address these through regularization!"
   ]
  },
  {
   "cell_type": "markdown",
   "metadata": {},
   "source": [
    "## Preparing for Model Building"
   ]
  },
  {
   "cell_type": "markdown",
   "metadata": {},
   "source": [
    "Before we start building our models, we need to deal with the remaining missing data points. So far, we've only removed features with too many null values. To fill in the rest, we can use `SimpleImputer` from `sklearn.impute`, but we have to be careful: we don't want any data leakage from our validation set. If we were to impute before splitting, information from the validation set could influence the training data. By handling missing values after the split, we ensure a fair and accurate evaluation of our models.\n",
    "\n",
    "For our train-test splitting, we'll keep $70\\%$ of our data as training, and use the remainder $30\\%$ as our validation set."
   ]
  },
  {
   "cell_type": "code",
   "execution_count": 162,
   "metadata": {},
   "outputs": [
    {
     "data": {
      "text/plain": [
       "((18694, 62), (8013, 62), (18694,), (8013,))"
      ]
     },
     "execution_count": 162,
     "metadata": {},
     "output_type": "execute_result"
    }
   ],
   "source": [
    "from sklearn.model_selection import train_test_split\n",
    "\n",
    "target = 'seasonal_vaccine' # We want to predict seasonal vaccine\n",
    "\n",
    "X = train_df_encoded.drop(columns=target)\n",
    "y = train_df_encoded[target]\n",
    "\n",
    "seed = 42 # For reproducability\n",
    "test_size = .3 # 30% of our data will be in the validation set\n",
    "\n",
    "X_train, X_test, y_train, y_test = train_test_split(X, y, random_state=seed, test_size=test_size)\n",
    "\n",
    "X_train.shape, X_test.shape, y_train.shape, y_test.shape"
   ]
  },
  {
   "cell_type": "markdown",
   "metadata": {},
   "source": [
    "Now that we've split our data, we can use `SimpleImputer`. We'll factor this into a function so we can do this on both the training and validation datasets. Since our data is represented by discrete numerics, we'll use the mode to fill in the null values."
   ]
  },
  {
   "cell_type": "code",
   "execution_count": 163,
   "metadata": {},
   "outputs": [],
   "source": [
    "from sklearn.impute import SimpleImputer\n",
    "\n",
    "def simple_impute(*Xs):\n",
    "    results = []\n",
    "    imputer = SimpleImputer(strategy='most_frequent')\n",
    "    for X in Xs:\n",
    "        X_imputed = imputer.fit_transform(X)\n",
    "        X_imputed = pd.DataFrame(X_imputed, columns=X.columns)\n",
    "        results.append(X_imputed)\n",
    "    return tuple(results)"
   ]
  },
  {
   "cell_type": "code",
   "execution_count": 164,
   "metadata": {},
   "outputs": [
    {
     "name": "stdout",
     "output_type": "stream",
     "text": [
      "Null values in X_train: 0\n",
      "Null values in X_test: 0\n"
     ]
    }
   ],
   "source": [
    "X_train, X_test = simple_impute(X_train, X_test)\n",
    "\n",
    "print(f'Null values in X_train: {X_train.isnull().sum().sum()}')\n",
    "print(f'Null values in X_test: {X_test.isnull().sum().sum()}')"
   ]
  },
  {
   "cell_type": "markdown",
   "metadata": {},
   "source": [
    "We've successfully handled all the missing values in our input datasets - both for training and validation. However, we haven't checked if our target, `y`, has any missing values. Let's quickly do that:"
   ]
  },
  {
   "cell_type": "code",
   "execution_count": 165,
   "metadata": {},
   "outputs": [
    {
     "name": "stdout",
     "output_type": "stream",
     "text": [
      "Null values in y_train: 0\n",
      "Null values in y_test: 0\n"
     ]
    }
   ],
   "source": [
    "print(f'Null values in y_train: {y_train.isnull().sum().sum()}')\n",
    "print(f'Null values in y_test: {y_test.isnull().sum().sum()}')"
   ]
  },
  {
   "cell_type": "markdown",
   "metadata": {},
   "source": [
    "Great, we have no null values in `y`. We can now get to building our models!"
   ]
  },
  {
   "cell_type": "markdown",
   "metadata": {},
   "source": [
    "## Building Models"
   ]
  },
  {
   "cell_type": "markdown",
   "metadata": {},
   "source": [
    "One last thing to address before we dive into modeling - our input features are on different scales. To level the playing field, we'll use `StandardScaler` from sklearn to scale our features uniformly. With that in place, we're ready to build some models to predict whether a respondent gets their seasonal flu vaccine.\n",
    "\n",
    "We'll kick things off with a simple baseline: a logistic regression model. It's a good starting point, and we'll evaluate it based on accuracy, F1 score, and the ROC curve. From there, we can refine it or explore other models to improve our predictions, and we'll keep at it until we're satisfied with the results.\n",
    "\n",
    "To streamline this process, we'll bundle these steps into a pipeline. And to keep everything organized, we'll store our pipelines in a dictionary. That way, we can easily track and compare the models we've used. Let's get started with defining a function to create, train, and evaluate different machine learning models within a pipeline structure. This function will allow us to easily compare the performance of different models and detect overfitting or underfitting by comparing training and test scores."
   ]
  },
  {
   "cell_type": "code",
   "execution_count": 166,
   "metadata": {},
   "outputs": [],
   "source": [
    "from sklearn.pipeline import Pipeline\n",
    "from sklearn.preprocessing import StandardScaler\n",
    "from sklearn.metrics import roc_auc_score, plot_roc_curve, accuracy_score, f1_score\n",
    "\n",
    "def run_pipeline(pipeline, stats_df, X_train, X_test, y_train, y_test, index):\n",
    "    # Fit pipeline\n",
    "    pipeline.fit(X_train, y_train)\n",
    "    \n",
    "    # Predict and evaluate on training data\n",
    "    y_train_pred = pipeline.predict(X_train)\n",
    "    y_train_pred_proba = pipeline.predict_proba(X_train)[:, 1]\n",
    "    train_accuracy = accuracy_score(y_train, y_train_pred)\n",
    "    train_f1 = f1_score(y_train, y_train_pred)\n",
    "    train_auc = roc_auc_score(y_train, y_train_pred_proba)\n",
    "    \n",
    "    # Predict and evaluate on test data\n",
    "    y_test_pred = pipeline.predict(X_test)\n",
    "    y_test_pred_proba = pipeline.predict_proba(X_test)[:, 1]\n",
    "    test_accuracy = accuracy_score(y_test, y_test_pred)\n",
    "    test_f1 = f1_score(y_test, y_test_pred)\n",
    "    test_auc = roc_auc_score(y_test, y_test_pred_proba)\n",
    "    \n",
    "    stats = {\n",
    "        'Name': list(pipeline.named_steps.keys())[1],\n",
    "        'Train Accuracy': train_accuracy,\n",
    "        'Test Accuracy': test_accuracy,\n",
    "        'Train F1': train_f1,\n",
    "        'Test F1': test_f1,\n",
    "        'Train ROC': train_auc,\n",
    "        'Test ROC': test_auc\n",
    "    }\n",
    "    \n",
    "    stats_df.loc[index] = stats\n",
    "    return stats_df\n",
    "\n",
    "pipelines = {}\n",
    "\n",
    "stats_df = pd.DataFrame({\n",
    "    'Name': [], \n",
    "    'Train Accuracy': [], 'Test Accuracy': [], \n",
    "    'Train F1': [], 'Test F1': [],\n",
    "    'Train ROC': [], 'Test ROC': []\n",
    "})\n",
    "\n",
    "stats_df.index.name = 'Model'"
   ]
  },
  {
   "cell_type": "markdown",
   "metadata": {},
   "source": [
    "### Baseline Model - Logistic Regression"
   ]
  },
  {
   "cell_type": "code",
   "execution_count": 167,
   "metadata": {},
   "outputs": [
    {
     "data": {
      "text/html": [
       "<div>\n",
       "<style scoped>\n",
       "    .dataframe tbody tr th:only-of-type {\n",
       "        vertical-align: middle;\n",
       "    }\n",
       "\n",
       "    .dataframe tbody tr th {\n",
       "        vertical-align: top;\n",
       "    }\n",
       "\n",
       "    .dataframe thead th {\n",
       "        text-align: right;\n",
       "    }\n",
       "</style>\n",
       "<table border=\"1\" class=\"dataframe\">\n",
       "  <thead>\n",
       "    <tr style=\"text-align: right;\">\n",
       "      <th></th>\n",
       "      <th>Name</th>\n",
       "      <th>Train Accuracy</th>\n",
       "      <th>Test Accuracy</th>\n",
       "      <th>Train F1</th>\n",
       "      <th>Test F1</th>\n",
       "      <th>Train ROC</th>\n",
       "      <th>Test ROC</th>\n",
       "    </tr>\n",
       "    <tr>\n",
       "      <th>Model</th>\n",
       "      <th></th>\n",
       "      <th></th>\n",
       "      <th></th>\n",
       "      <th></th>\n",
       "      <th></th>\n",
       "      <th></th>\n",
       "      <th></th>\n",
       "    </tr>\n",
       "  </thead>\n",
       "  <tbody>\n",
       "    <tr>\n",
       "      <th>1</th>\n",
       "      <td>Baseline Model</td>\n",
       "      <td>0.797154</td>\n",
       "      <td>0.804318</td>\n",
       "      <td>0.776757</td>\n",
       "      <td>0.780515</td>\n",
       "      <td>0.873858</td>\n",
       "      <td>0.87567</td>\n",
       "    </tr>\n",
       "  </tbody>\n",
       "</table>\n",
       "</div>"
      ],
      "text/plain": [
       "                 Name  Train Accuracy  Test Accuracy  Train F1   Test F1  \\\n",
       "Model                                                                      \n",
       "1      Baseline Model        0.797154       0.804318  0.776757  0.780515   \n",
       "\n",
       "       Train ROC  Test ROC  \n",
       "Model                       \n",
       "1       0.873858   0.87567  "
      ]
     },
     "execution_count": 167,
     "metadata": {},
     "output_type": "execute_result"
    }
   ],
   "source": [
    "from sklearn.linear_model import LogisticRegression\n",
    "\n",
    "model_name_1 = 'Baseline Model'\n",
    "\n",
    "base_pipeline = Pipeline([\n",
    "        ('standard_scaler', StandardScaler()),\n",
    "        (model_name_1, LogisticRegression(random_state=seed))\n",
    "    ])\n",
    "\n",
    "pipelines[model_name_1] = base_pipeline\n",
    "\n",
    "stats_df = run_pipeline(\n",
    "    pipelines[model_name_1], \n",
    "    stats_df, \n",
    "    X_train, \n",
    "    X_test, \n",
    "    y_train, \n",
    "    y_test, \n",
    "    1\n",
    ")\n",
    "\n",
    "stats_df"
   ]
  },
  {
   "cell_type": "code",
   "execution_count": 168,
   "metadata": {},
   "outputs": [
    {
     "data": {
      "text/html": [
       "<div>\n",
       "<style scoped>\n",
       "    .dataframe tbody tr th:only-of-type {\n",
       "        vertical-align: middle;\n",
       "    }\n",
       "\n",
       "    .dataframe tbody tr th {\n",
       "        vertical-align: top;\n",
       "    }\n",
       "\n",
       "    .dataframe thead th {\n",
       "        text-align: right;\n",
       "    }\n",
       "</style>\n",
       "<table border=\"1\" class=\"dataframe\">\n",
       "  <thead>\n",
       "    <tr style=\"text-align: right;\">\n",
       "      <th></th>\n",
       "      <th>Coefficients</th>\n",
       "    </tr>\n",
       "  </thead>\n",
       "  <tbody>\n",
       "    <tr>\n",
       "      <th>h1n1_vaccine</th>\n",
       "      <td>0.797551</td>\n",
       "    </tr>\n",
       "    <tr>\n",
       "      <th>doctor_recc_seasonal</th>\n",
       "      <td>0.738735</td>\n",
       "    </tr>\n",
       "    <tr>\n",
       "      <th>opinion_seas_risk</th>\n",
       "      <td>0.715701</td>\n",
       "    </tr>\n",
       "    <tr>\n",
       "      <th>opinion_seas_vacc_effective</th>\n",
       "      <td>0.637131</td>\n",
       "    </tr>\n",
       "    <tr>\n",
       "      <th>age_group_65+ Years</th>\n",
       "      <td>0.385345</td>\n",
       "    </tr>\n",
       "    <tr>\n",
       "      <th>health_worker</th>\n",
       "      <td>0.191164</td>\n",
       "    </tr>\n",
       "    <tr>\n",
       "      <th>education_College Graduate</th>\n",
       "      <td>0.121506</td>\n",
       "    </tr>\n",
       "    <tr>\n",
       "      <th>behavioral_touch_face</th>\n",
       "      <td>0.107308</td>\n",
       "    </tr>\n",
       "    <tr>\n",
       "      <th>health_insurance</th>\n",
       "      <td>0.100387</td>\n",
       "    </tr>\n",
       "    <tr>\n",
       "      <th>chronic_med_condition</th>\n",
       "      <td>0.086786</td>\n",
       "    </tr>\n",
       "  </tbody>\n",
       "</table>\n",
       "</div>"
      ],
      "text/plain": [
       "                             Coefficients\n",
       "h1n1_vaccine                     0.797551\n",
       "doctor_recc_seasonal             0.738735\n",
       "opinion_seas_risk                0.715701\n",
       "opinion_seas_vacc_effective      0.637131\n",
       "age_group_65+ Years              0.385345\n",
       "health_worker                    0.191164\n",
       "education_College Graduate       0.121506\n",
       "behavioral_touch_face            0.107308\n",
       "health_insurance                 0.100387\n",
       "chronic_med_condition            0.086786"
      ]
     },
     "execution_count": 168,
     "metadata": {},
     "output_type": "execute_result"
    }
   ],
   "source": [
    "baseline_coefs = pd.DataFrame(\n",
    "    pipelines[model_name_1].named_steps[model_name_1].coef_, \n",
    "    columns=X_train.columns\n",
    ").T\n",
    "\n",
    "baseline_coefs = baseline_coefs.rename(\n",
    "    columns={0: 'Coefficients'}\n",
    ").sort_values(\n",
    "    by='Coefficients', ascending=False\n",
    ")\n",
    "\n",
    "baseline_coefs[:10]"
   ]
  },
  {
   "cell_type": "code",
   "execution_count": 169,
   "metadata": {},
   "outputs": [
    {
     "data": {
      "image/png": "[encoded data removed]",
      "text/plain": [
       "<Figure size 432x288 with 1 Axes>"
      ]
     },
     "metadata": {
      "needs_background": "light"
     },
     "output_type": "display_data"
    }
   ],
   "source": [
    "plot_roc_curve(base_pipeline, X_test, y_test)\n",
    "plt.show()"
   ]
  },
  {
   "cell_type": "code",
   "execution_count": 170,
   "metadata": {},
   "outputs": [
    {
     "data": {
      "text/html": [
       "<div>\n",
       "<style scoped>\n",
       "    .dataframe tbody tr th:only-of-type {\n",
       "        vertical-align: middle;\n",
       "    }\n",
       "\n",
       "    .dataframe tbody tr th {\n",
       "        vertical-align: top;\n",
       "    }\n",
       "\n",
       "    .dataframe thead th {\n",
       "        text-align: right;\n",
       "    }\n",
       "</style>\n",
       "<table border=\"1\" class=\"dataframe\">\n",
       "  <thead>\n",
       "    <tr style=\"text-align: right;\">\n",
       "      <th></th>\n",
       "      <th>Name</th>\n",
       "      <th>Train Accuracy</th>\n",
       "      <th>Test Accuracy</th>\n",
       "      <th>Train F1</th>\n",
       "      <th>Test F1</th>\n",
       "      <th>Train ROC</th>\n",
       "      <th>Test ROC</th>\n",
       "    </tr>\n",
       "    <tr>\n",
       "      <th>Model</th>\n",
       "      <th></th>\n",
       "      <th></th>\n",
       "      <th></th>\n",
       "      <th></th>\n",
       "      <th></th>\n",
       "      <th></th>\n",
       "      <th></th>\n",
       "    </tr>\n",
       "  </thead>\n",
       "  <tbody>\n",
       "    <tr>\n",
       "      <th>1</th>\n",
       "      <td>Baseline Model</td>\n",
       "      <td>0.797154</td>\n",
       "      <td>0.804318</td>\n",
       "      <td>0.776757</td>\n",
       "      <td>0.780515</td>\n",
       "      <td>0.873858</td>\n",
       "      <td>0.875670</td>\n",
       "    </tr>\n",
       "    <tr>\n",
       "      <th>2</th>\n",
       "      <td>Decision Tree</td>\n",
       "      <td>1.000000</td>\n",
       "      <td>0.713216</td>\n",
       "      <td>1.000000</td>\n",
       "      <td>0.690046</td>\n",
       "      <td>1.000000</td>\n",
       "      <td>0.711949</td>\n",
       "    </tr>\n",
       "  </tbody>\n",
       "</table>\n",
       "</div>"
      ],
      "text/plain": [
       "                 Name  Train Accuracy  Test Accuracy  Train F1   Test F1  \\\n",
       "Model                                                                      \n",
       "1      Baseline Model        0.797154       0.804318  0.776757  0.780515   \n",
       "2       Decision Tree        1.000000       0.713216  1.000000  0.690046   \n",
       "\n",
       "       Train ROC  Test ROC  \n",
       "Model                       \n",
       "1       0.873858  0.875670  \n",
       "2       1.000000  0.711949  "
      ]
     },
     "execution_count": 170,
     "metadata": {},
     "output_type": "execute_result"
    }
   ],
   "source": [
    "from sklearn.tree import DecisionTreeClassifier\n",
    "\n",
    "model_name_2 = 'Decision Tree'\n",
    "\n",
    "dt_pipeline = Pipeline([\n",
    "    ('standard_scaler', StandardScaler()),\n",
    "    (model_name_2, DecisionTreeClassifier(random_state=seed))\n",
    "])\n",
    "\n",
    "pipelines[model_name_2] = dt_pipeline\n",
    "\n",
    "stats_df = run_pipeline(\n",
    "    pipelines[model_name_2], \n",
    "    stats_df, \n",
    "    X_train, \n",
    "    X_test, \n",
    "    y_train, \n",
    "    y_test, \n",
    "    2\n",
    ")\n",
    "\n",
    "stats_df"
   ]
  },
  {
   "cell_type": "code",
   "execution_count": 171,
   "metadata": {},
   "outputs": [
    {
     "data": {
      "text/html": [
       "<div>\n",
       "<style scoped>\n",
       "    .dataframe tbody tr th:only-of-type {\n",
       "        vertical-align: middle;\n",
       "    }\n",
       "\n",
       "    .dataframe tbody tr th {\n",
       "        vertical-align: top;\n",
       "    }\n",
       "\n",
       "    .dataframe thead th {\n",
       "        text-align: right;\n",
       "    }\n",
       "</style>\n",
       "<table border=\"1\" class=\"dataframe\">\n",
       "  <thead>\n",
       "    <tr style=\"text-align: right;\">\n",
       "      <th></th>\n",
       "      <th>Importance</th>\n",
       "    </tr>\n",
       "  </thead>\n",
       "  <tbody>\n",
       "    <tr>\n",
       "      <th>h1n1_vaccine</th>\n",
       "      <td>0.143598</td>\n",
       "    </tr>\n",
       "    <tr>\n",
       "      <th>opinion_seas_vacc_effective</th>\n",
       "      <td>0.112919</td>\n",
       "    </tr>\n",
       "    <tr>\n",
       "      <th>doctor_recc_seasonal</th>\n",
       "      <td>0.054243</td>\n",
       "    </tr>\n",
       "    <tr>\n",
       "      <th>opinion_seas_risk</th>\n",
       "      <td>0.052087</td>\n",
       "    </tr>\n",
       "    <tr>\n",
       "      <th>opinion_seas_sick_from_vacc</th>\n",
       "      <td>0.028968</td>\n",
       "    </tr>\n",
       "    <tr>\n",
       "      <th>opinion_h1n1_vacc_effective</th>\n",
       "      <td>0.028871</td>\n",
       "    </tr>\n",
       "    <tr>\n",
       "      <th>opinion_h1n1_sick_from_vacc</th>\n",
       "      <td>0.027374</td>\n",
       "    </tr>\n",
       "    <tr>\n",
       "      <th>age_group_18 - 34 Years</th>\n",
       "      <td>0.026227</td>\n",
       "    </tr>\n",
       "    <tr>\n",
       "      <th>opinion_h1n1_risk</th>\n",
       "      <td>0.025027</td>\n",
       "    </tr>\n",
       "    <tr>\n",
       "      <th>doctor_recc_h1n1</th>\n",
       "      <td>0.023939</td>\n",
       "    </tr>\n",
       "  </tbody>\n",
       "</table>\n",
       "</div>"
      ],
      "text/plain": [
       "                             Importance\n",
       "h1n1_vaccine                   0.143598\n",
       "opinion_seas_vacc_effective    0.112919\n",
       "doctor_recc_seasonal           0.054243\n",
       "opinion_seas_risk              0.052087\n",
       "opinion_seas_sick_from_vacc    0.028968\n",
       "opinion_h1n1_vacc_effective    0.028871\n",
       "opinion_h1n1_sick_from_vacc    0.027374\n",
       "age_group_18 - 34 Years        0.026227\n",
       "opinion_h1n1_risk              0.025027\n",
       "doctor_recc_h1n1               0.023939"
      ]
     },
     "execution_count": 171,
     "metadata": {},
     "output_type": "execute_result"
    }
   ],
   "source": [
    "dt_fi = pd.DataFrame(\n",
    "    pipelines[model_name_2].named_steps[model_name_2].feature_importances_, \n",
    "    index=X_train.columns\n",
    ")\n",
    "\n",
    "dt_fi = dt_fi.rename(\n",
    "    columns={0: 'Importance'}\n",
    ").sort_values(\n",
    "    by='Importance', ascending=False\n",
    ")\n",
    "\n",
    "dt_fi[:10]"
   ]
  },
  {
   "cell_type": "markdown",
   "metadata": {},
   "source": [
    "### Model 3 - Random Forest Classifier"
   ]
  },
  {
   "cell_type": "code",
   "execution_count": 172,
   "metadata": {},
   "outputs": [
    {
     "data": {
      "text/html": [
       "<div>\n",
       "<style scoped>\n",
       "    .dataframe tbody tr th:only-of-type {\n",
       "        vertical-align: middle;\n",
       "    }\n",
       "\n",
       "    .dataframe tbody tr th {\n",
       "        vertical-align: top;\n",
       "    }\n",
       "\n",
       "    .dataframe thead th {\n",
       "        text-align: right;\n",
       "    }\n",
       "</style>\n",
       "<table border=\"1\" class=\"dataframe\">\n",
       "  <thead>\n",
       "    <tr style=\"text-align: right;\">\n",
       "      <th></th>\n",
       "      <th>Name</th>\n",
       "      <th>Train Accuracy</th>\n",
       "      <th>Test Accuracy</th>\n",
       "      <th>Train F1</th>\n",
       "      <th>Test F1</th>\n",
       "      <th>Train ROC</th>\n",
       "      <th>Test ROC</th>\n",
       "    </tr>\n",
       "    <tr>\n",
       "      <th>Model</th>\n",
       "      <th></th>\n",
       "      <th></th>\n",
       "      <th></th>\n",
       "      <th></th>\n",
       "      <th></th>\n",
       "      <th></th>\n",
       "      <th></th>\n",
       "    </tr>\n",
       "  </thead>\n",
       "  <tbody>\n",
       "    <tr>\n",
       "      <th>1</th>\n",
       "      <td>Baseline Model</td>\n",
       "      <td>0.797154</td>\n",
       "      <td>0.804318</td>\n",
       "      <td>0.776757</td>\n",
       "      <td>0.780515</td>\n",
       "      <td>0.873858</td>\n",
       "      <td>0.875670</td>\n",
       "    </tr>\n",
       "    <tr>\n",
       "      <th>2</th>\n",
       "      <td>Decision Tree</td>\n",
       "      <td>1.000000</td>\n",
       "      <td>0.713216</td>\n",
       "      <td>1.000000</td>\n",
       "      <td>0.690046</td>\n",
       "      <td>1.000000</td>\n",
       "      <td>0.711949</td>\n",
       "    </tr>\n",
       "    <tr>\n",
       "      <th>3</th>\n",
       "      <td>Random Forest</td>\n",
       "      <td>1.000000</td>\n",
       "      <td>0.799326</td>\n",
       "      <td>1.000000</td>\n",
       "      <td>0.777716</td>\n",
       "      <td>1.000000</td>\n",
       "      <td>0.873023</td>\n",
       "    </tr>\n",
       "  </tbody>\n",
       "</table>\n",
       "</div>"
      ],
      "text/plain": [
       "                 Name  Train Accuracy  Test Accuracy  Train F1   Test F1  \\\n",
       "Model                                                                      \n",
       "1      Baseline Model        0.797154       0.804318  0.776757  0.780515   \n",
       "2       Decision Tree        1.000000       0.713216  1.000000  0.690046   \n",
       "3       Random Forest        1.000000       0.799326  1.000000  0.777716   \n",
       "\n",
       "       Train ROC  Test ROC  \n",
       "Model                       \n",
       "1       0.873858  0.875670  \n",
       "2       1.000000  0.711949  \n",
       "3       1.000000  0.873023  "
      ]
     },
     "execution_count": 172,
     "metadata": {},
     "output_type": "execute_result"
    }
   ],
   "source": [
    "from sklearn.ensemble import RandomForestClassifier\n",
    "\n",
    "model_name_3 = 'Random Forest'\n",
    "\n",
    "rf_pipeline = Pipeline([\n",
    "    ('standard_scaler', StandardScaler()),\n",
    "    (model_name_3, RandomForestClassifier(random_state=seed))\n",
    "])\n",
    "\n",
    "pipelines[model_name_3] = rf_pipeline\n",
    "\n",
    "stats_df = run_pipeline(pipelines[model_name_3], stats_df, X_train, X_test, y_train, y_test, 3)\n",
    "stats_df"
   ]
  },
  {
   "cell_type": "code",
   "execution_count": 173,
   "metadata": {},
   "outputs": [
    {
     "data": {
      "text/html": [
       "<div>\n",
       "<style scoped>\n",
       "    .dataframe tbody tr th:only-of-type {\n",
       "        vertical-align: middle;\n",
       "    }\n",
       "\n",
       "    .dataframe tbody tr th {\n",
       "        vertical-align: top;\n",
       "    }\n",
       "\n",
       "    .dataframe thead th {\n",
       "        text-align: right;\n",
       "    }\n",
       "</style>\n",
       "<table border=\"1\" class=\"dataframe\">\n",
       "  <thead>\n",
       "    <tr style=\"text-align: right;\">\n",
       "      <th></th>\n",
       "      <th>Importance</th>\n",
       "    </tr>\n",
       "  </thead>\n",
       "  <tbody>\n",
       "    <tr>\n",
       "      <th>opinion_seas_vacc_effective</th>\n",
       "      <td>0.087252</td>\n",
       "    </tr>\n",
       "    <tr>\n",
       "      <th>opinion_seas_risk</th>\n",
       "      <td>0.073826</td>\n",
       "    </tr>\n",
       "    <tr>\n",
       "      <th>h1n1_vaccine</th>\n",
       "      <td>0.072360</td>\n",
       "    </tr>\n",
       "    <tr>\n",
       "      <th>doctor_recc_seasonal</th>\n",
       "      <td>0.064513</td>\n",
       "    </tr>\n",
       "    <tr>\n",
       "      <th>opinion_h1n1_risk</th>\n",
       "      <td>0.033688</td>\n",
       "    </tr>\n",
       "    <tr>\n",
       "      <th>opinion_h1n1_vacc_effective</th>\n",
       "      <td>0.030559</td>\n",
       "    </tr>\n",
       "    <tr>\n",
       "      <th>age_group_65+ Years</th>\n",
       "      <td>0.028890</td>\n",
       "    </tr>\n",
       "    <tr>\n",
       "      <th>opinion_seas_sick_from_vacc</th>\n",
       "      <td>0.028123</td>\n",
       "    </tr>\n",
       "    <tr>\n",
       "      <th>h1n1_concern</th>\n",
       "      <td>0.026048</td>\n",
       "    </tr>\n",
       "    <tr>\n",
       "      <th>opinion_h1n1_sick_from_vacc</th>\n",
       "      <td>0.025996</td>\n",
       "    </tr>\n",
       "  </tbody>\n",
       "</table>\n",
       "</div>"
      ],
      "text/plain": [
       "                             Importance\n",
       "opinion_seas_vacc_effective    0.087252\n",
       "opinion_seas_risk              0.073826\n",
       "h1n1_vaccine                   0.072360\n",
       "doctor_recc_seasonal           0.064513\n",
       "opinion_h1n1_risk              0.033688\n",
       "opinion_h1n1_vacc_effective    0.030559\n",
       "age_group_65+ Years            0.028890\n",
       "opinion_seas_sick_from_vacc    0.028123\n",
       "h1n1_concern                   0.026048\n",
       "opinion_h1n1_sick_from_vacc    0.025996"
      ]
     },
     "execution_count": 173,
     "metadata": {},
     "output_type": "execute_result"
    }
   ],
   "source": [
    "rf_fi = pd.DataFrame(\n",
    "    pipelines[model_name_3].named_steps[model_name_3].feature_importances_,\n",
    "    index=X_train.columns\n",
    ")\n",
    "\n",
    "rf_fi = rf_fi.rename(\n",
    "    columns={0: 'Importance'}\n",
    ").sort_values(\n",
    "    by='Importance', ascending=False\n",
    ")\n",
    "\n",
    "rf_fi[:10]"
   ]
  }
 ],
 "metadata": {
  "kernelspec": {
   "display_name": "learn-env",
   "language": "python",
   "name": "python3"
  },
  "language_info": {
   "codemirror_mode": {
    "name": "ipython",
    "version": 3
   },
   "file_extension": ".py",
   "mimetype": "text/x-python",
   "name": "python",
   "nbconvert_exporter": "python",
   "pygments_lexer": "ipython3",
   "version": "3.10.10"
  },
  "orig_nbformat": 4
 },
 "nbformat": 4,
 "nbformat_minor": 2
}
